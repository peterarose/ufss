{
 "cells": [
  {
   "cell_type": "markdown",
   "metadata": {},
   "source": [
    "# This notebook gives an example of how to use Diagram Generator as a stand-alone tool, and shows how to visualize the diagrams that are generated.  The algorithm is detailed in the manuscript available at arXiv:2008.05081"
   ]
  },
  {
   "cell_type": "markdown",
   "metadata": {},
   "source": [
    "## Note: in order to visualize Feynman Diagrams, we use the python package pyx, which relies upon $\\LaTeX$. \n",
    "\n",
    "## A $\\TeX$ distribution is NOT required to use the DiagramGenerator. In order to use this notebook, which focuses on visualization, you must have a $\\TeX$ distribution installed.  \n",
    "\n",
    "## To use this notebook with Google Colab, you must un-comment and run the following cell"
   ]
  },
  {
   "cell_type": "code",
   "execution_count": 1,
   "metadata": {},
   "outputs": [],
   "source": [
    "#!apt-get install texlive-fonts-recommended\n",
    "#!apt-get install dvipng"
   ]
  },
  {
   "cell_type": "markdown",
   "metadata": {},
   "source": [
    "# Setting up the notebook"
   ]
  },
  {
   "cell_type": "code",
   "execution_count": 2,
   "metadata": {},
   "outputs": [],
   "source": [
    "%matplotlib notebook"
   ]
  },
  {
   "cell_type": "code",
   "execution_count": 3,
   "metadata": {},
   "outputs": [],
   "source": [
    "# (optional) uncomment the following line if you would like to install ufss on your system\n",
    "#!pip install ufss"
   ]
  },
  {
   "cell_type": "code",
   "execution_count": 4,
   "metadata": {},
   "outputs": [],
   "source": [
    "import numpy as np\n",
    "import ufss\n",
    "import os"
   ]
  },
  {
   "cell_type": "markdown",
   "metadata": {},
   "source": [
    "# Using the Diagram Generator"
   ]
  },
  {
   "cell_type": "code",
   "execution_count": 5,
   "metadata": {},
   "outputs": [],
   "source": [
    "# DiagramGenerator class, or DG for short\n",
    "DG = ufss.DiagramGenerator"
   ]
  },
  {
   "cell_type": "markdown",
   "metadata": {},
   "source": [
    "This notebook begins with an example of using the Diagram Generator to generate diagrams for optical nonlinear spectroscopy using the 2D photon echo as an example.  We then move on to the fluorescence-detected analogue of 2D photon echo as a counter-point.  Following that are further examples.  A list of all examples included in this notebook follows, in order of appearance:\n",
    "1. Tranditional 2D photon echo (2DPE)\n",
    "2. Fluorescence-detected 2DPE (or any action detection method)\n",
    "3. Transient Absoroption (TA)\n",
    "4. 5th-order correction to TA in the pump amplitude\n",
    "5. 5th-order correction to TA in the probe amplitude\n",
    "6. Exciton-exciton interaction 2D spectroscopy\n",
    "7. 2DPE for IR vibrational spectroscopy"
   ]
  },
  {
   "cell_type": "markdown",
   "metadata": {},
   "source": [
    "# 1. 2DPE"
   ]
  },
  {
   "cell_type": "markdown",
   "metadata": {},
   "source": [
    "## Generic case"
   ]
  },
  {
   "cell_type": "code",
   "execution_count": 6,
   "metadata": {},
   "outputs": [],
   "source": [
    "# initialize the module\n",
    "tdpe = DG() # DG takes a single key-word argument, which has the default value detection_type = 'polarization'"
   ]
  },
  {
   "cell_type": "markdown",
   "metadata": {},
   "source": [
    "DiagramAutomation needs to know the phase-matching/-cycling condition and pulse intervals where pulses\n",
    "are non-zero.  See Sec. III of arXiv:2008.05081 (in particular Figure 2)"
   ]
  },
  {
   "cell_type": "code",
   "execution_count": 7,
   "metadata": {},
   "outputs": [],
   "source": [
    "# 2DPE example of phase-matching\n",
    "tdpe.set_phase_discrimination([(0,1),(1,0),(1,0)])\n",
    "\n",
    "# Set the pulse durations for pulses 0,1,2 and the local oscillator\n",
    "d0 = 2\n",
    "d1 = 4\n",
    "d2 = 4\n",
    "dlo = 6\n",
    "\n",
    "# Set the pulse intervals\n",
    "t0 = np.array([-d0/2,d0/2])\n",
    "t1 = np.array([-d1/2,d1/2])\n",
    "t2 = np.array([-d2/2,d2/2])\n",
    "tlo = np.array([-dlo/2,dlo/2])\n",
    "all_pulse_intervals = [t0,t1,t2,tlo]\n",
    "\n",
    "# These pulse intervals are given to DG by setting DG's efield_times attribute\n",
    "tdpe.efield_times = all_pulse_intervals"
   ]
  },
  {
   "cell_type": "code",
   "execution_count": 8,
   "metadata": {},
   "outputs": [
    {
     "data": {
      "text/plain": [
       "[(('Bu', 0), ('Ku', 1), ('Ku', 2)),\n",
       " (('Bu', 0), ('Ku', 1), ('Bd', 2)),\n",
       " (('Bu', 0), ('Bd', 1), ('Ku', 2))]"
      ]
     },
     "execution_count": 8,
     "metadata": {},
     "output_type": "execute_result"
    }
   ],
   "source": [
    "# using a list of pulse arrival times, we can generate the diagrams that contribute for \n",
    "# that set of arrival times, by passing the arrival times to the method 'get_diagrams'\n",
    "# we choose arrival times that ensure that none of the pulses overlap:\n",
    "arrival_times = [0,100,200,200] \n",
    "# note the arrival time of the local oscillator is irrelevant, but needed by the code at this time\n",
    "# here we choose for the local oscillator to \"arrive\" simulltaneously with the 3rd pulse\n",
    "time_ordered_diagrams = tdpe.get_diagrams(arrival_times)\n",
    "time_ordered_diagrams"
   ]
  },
  {
   "cell_type": "code",
   "execution_count": 9,
   "metadata": {},
   "outputs": [
    {
     "data": {
      "image/png": "[encoded data removed]",
      "image/svg+xml": [
       "<?xml version=\"1.0\" encoding=\"utf-8\"?>\n",
       "<svg xmlns=\"http://www.w3.org/2000/svg\" fill=\"none\" version=\"1.1\" viewBox=\"-18.0079 -86.0394 63.6743 87.0394\" x=\"-18.0079pt\" y=\"-86.0394pt\" width=\"63.6743pt\" height=\"87.0394pt\" stroke-width=\"0.566929\" stroke-miterlimit=\"10.000000\">\n",
       " <path d=\"M0 -0L0 -28.3465\" stroke=\"black\"/>\n",
       " <path d=\"M28.3465 -0L28.3465 -28.3465\" stroke=\"black\"/>\n",
       " <path d=\"M31.1811 -14.1732L31.1811 -14.1782A2.83465 2.83465 0 0 0 25.5118 -14.1732A2.83465 2.83465 0 0 0 31.1811 -14.1683Z\" fill=\"black\"/>\n",
       " <path d=\"M42.5197 -0L32.7908 -9.72886\" stroke=\"black\"/>\n",
       " <g stroke-linecap=\"butt\" stroke-dasharray=\"none\">\n",
       "  <path d=\"M31.6008 -6.31661L28.3465 -14.1732L36.2031 -10.9189L32.7908 -9.72886Z\" fill=\"black\"/>\n",
       " </g>\n",
       " <g transform=\"matrix(1.000000,0.000000,0.000000,1.000000,39.685039,-2.834646)\">\n",
       "  <path d=\"M0.418431 -0M3.31756 -0.757161C3.35741 -0.358655 3.6264 0.0597758 4.09465 0.0597758C4.30386 0.0597758 4.91158 -0.0797011 4.91158 -0.886675L4.91158 -1.44458L4.66252 -1.44458L4.66252 -0.886675C4.66252 -0.308842 4.41345 -0.249066 4.30386 -0.249066C3.97509 -0.249066 3.93524 -0.697385 3.93524 -0.747198L3.93524 -2.73973C3.93524 -3.15816 3.93524 -3.5467 3.57659 -3.91532C3.18804 -4.30386 2.68991 -4.46326 2.21171 -4.46326C1.39477 -4.46326 0.707347 -3.99502 0.707347 -3.33748C0.707347 -3.03861 0.9066 -2.86924 1.16563 -2.86924C1.44458 -2.86924 1.62391 -3.06849 1.62391 -3.32752C1.62391 -3.44707 1.5741 -3.77584 1.11582 -3.7858C1.38481 -4.1345 1.87298 -4.24408 2.19178 -4.24408C2.67995 -4.24408 3.24782 -3.85554 3.24782 -2.96887L3.24782 -2.60025C2.73973 -2.57036 2.04234 -2.54047 1.41469 -2.24159C0.667497 -1.90286 0.418431 -1.38481 0.418431 -0.946451C0.418431 -0.139477 1.38481 0.109589 2.01245 0.109589C2.66999 0.109589 3.12827 -0.288917 3.31756 -0.757161ZM3.31756 -0.757161M3.24782 -2.39103L3.24782 -1.39477C3.24782 -0.448319 2.53051 -0.109589 2.08219 -0.109589C1.59402 -0.109589 1.18555 -0.458281 1.18555 -0.956413C1.18555 -1.50436 1.60399 -2.33126 3.24782 -2.39103ZM3.24782 -2.39103\" fill=\"black\"/>\n",
       " </g>\n",
       " <path d=\"M0 -28.3465L0 -56.6929\" stroke=\"black\"/>\n",
       " <path d=\"M28.3465 -28.3465L28.3465 -56.6929\" stroke=\"black\"/>\n",
       " <path d=\"M2.83465 -42.5197L2.83464 -42.5246A2.83465 2.83465 0 0 0 -2.83465 -42.5197A2.83465 2.83465 0 0 0 2.83464 -42.5147Z\" fill=\"black\"/>\n",
       " <path d=\"M-14.1732 -28.3465L-4.44437 -38.0753\" stroke=\"black\"/>\n",
       " <g stroke-linecap=\"butt\" stroke-dasharray=\"none\">\n",
       "  <path d=\"M-7.85661 -39.2654L0 -42.5197L-3.25432 -34.6631L-4.44437 -38.0753Z\" fill=\"black\"/>\n",
       " </g>\n",
       " <g transform=\"matrix(1.000000,0.000000,0.000000,1.000000,-17.007874,-31.181102)\">\n",
       "  <path d=\"M0.278954 -0M1.71357 -3.75592L1.71357 -6.91407L0.278954 -6.80448L0.278954 -6.49564C0.976339 -6.49564 1.05604 -6.4259 1.05604 -5.93773L1.05604 -0L1.30511 -0C1.31507 -0.00996264 1.39477 -0.14944 1.66376 -0.617684C1.8132 -0.388543 2.23163 0.109589 2.96887 0.109589C4.15442 0.109589 5.19054 -0.86675 5.19054 -2.15193C5.19054 -3.41719 4.2142 -4.40349 3.07846 -4.40349C2.30137 -4.40349 1.87298 -3.93524 1.71357 -3.75592ZM1.71357 -3.75592M1.74346 -1.13574L1.74346 -3.18804C1.74346 -3.37733 1.74346 -3.3873 1.85305 -3.5467C2.24159 -4.10461 2.78954 -4.18431 3.02864 -4.18431C3.47696 -4.18431 3.83562 -3.92528 4.07472 -3.5467C4.33375 -3.13823 4.36364 -2.57036 4.36364 -2.16189C4.36364 -1.79328 4.34371 -1.19552 4.05479 -0.747198C3.84558 -0.438356 3.467 -0.109589 2.92902 -0.109589C2.4807 -0.109589 2.12204 -0.348692 1.88294 -0.71731C1.74346 -0.926526 1.74346 -0.956413 1.74346 -1.13574ZM1.74346 -1.13574\" fill=\"black\"/>\n",
       " </g>\n",
       " <path d=\"M0 -56.6929L0 -85.0394\" stroke=\"black\"/>\n",
       " <path d=\"M28.3465 -56.6929L28.3465 -85.0394\" stroke=\"black\"/>\n",
       " <path d=\"M2.83465 -70.8661L2.83464 -70.8711A2.83465 2.83465 0 0 0 -2.83465 -70.8661A2.83465 2.83465 0 0 0 2.83464 -70.8612Z\" fill=\"black\"/>\n",
       " <path d=\"M-14.1732 -56.6929L-4.44437 -66.4218\" stroke=\"black\"/>\n",
       " <g stroke-linecap=\"butt\" stroke-dasharray=\"none\">\n",
       "  <path d=\"M-7.85661 -67.6118L0 -70.8661L-3.25432 -63.0095L-4.44437 -66.4218Z\" fill=\"black\"/>\n",
       " </g>\n",
       " <g transform=\"matrix(1.000000,0.000000,0.000000,1.000000,-17.007874,-59.527559)\">\n",
       "  <path d=\"M0.33873 -0M1.16563 -2.17186C1.16563 -3.79577 1.98257 -4.2142 2.51059 -4.2142C2.60025 -4.2142 3.2279 -4.20423 3.57659 -3.84558C3.16812 -3.81569 3.10834 -3.51681 3.10834 -3.3873C3.10834 -3.12827 3.28767 -2.92902 3.56663 -2.92902C3.82565 -2.92902 4.02491 -3.09838 4.02491 -3.39726C4.02491 -4.07472 3.26775 -4.46326 2.50062 -4.46326C1.25529 -4.46326 0.33873 -3.3873 0.33873 -2.15193C0.33873 -0.876712 1.32503 0.109589 2.4807 0.109589C3.81569 0.109589 4.1345 -1.08593 4.1345 -1.18555C4.1345 -1.28518 4.03487 -1.28518 4.00498 -1.28518C3.91532 -1.28518 3.89539 -1.24533 3.87547 -1.18555C3.58655 -0.259029 2.93898 -0.139477 2.57036 -0.139477C2.04234 -0.139477 1.16563 -0.56787 1.16563 -2.17186ZM1.16563 -2.17186\" fill=\"black\"/>\n",
       " </g>\n",
       "</svg>\n"
      ],
      "text/plain": [
       "<pyx.canvas.canvas at 0x11b3c8f28>"
      ]
     },
     "metadata": {},
     "output_type": "display_data"
    },
    {
     "data": {
      "image/png": "[encoded data removed]",
      "image/svg+xml": [
       "<?xml version=\"1.0\" encoding=\"utf-8\"?>\n",
       "<svg xmlns=\"http://www.w3.org/2000/svg\" fill=\"none\" version=\"1.1\" viewBox=\"-18.0079 -86.0394 63.6743 87.0394\" x=\"-18.0079pt\" y=\"-86.0394pt\" width=\"63.6743pt\" height=\"87.0394pt\" stroke-width=\"0.566929\" stroke-miterlimit=\"10.000000\">\n",
       " <path d=\"M0 -0L0 -28.3465\" stroke=\"black\"/>\n",
       " <path d=\"M28.3465 -0L28.3465 -28.3465\" stroke=\"black\"/>\n",
       " <path d=\"M31.1811 -14.1732L31.1811 -14.1782A2.83465 2.83465 0 0 0 25.5118 -14.1732A2.83465 2.83465 0 0 0 31.1811 -14.1683Z\" fill=\"black\"/>\n",
       " <path d=\"M42.5197 -0L32.7908 -9.72886\" stroke=\"black\"/>\n",
       " <g stroke-linecap=\"butt\" stroke-dasharray=\"none\">\n",
       "  <path d=\"M31.6008 -6.31661L28.3465 -14.1732L36.2031 -10.9189L32.7908 -9.72886Z\" fill=\"black\"/>\n",
       " </g>\n",
       " <g transform=\"matrix(1.000000,0.000000,0.000000,1.000000,39.685039,-2.834646)\">\n",
       "  <path d=\"M0.418431 -0M3.31756 -0.757161C3.35741 -0.358655 3.6264 0.0597758 4.09465 0.0597758C4.30386 0.0597758 4.91158 -0.0797011 4.91158 -0.886675L4.91158 -1.44458L4.66252 -1.44458L4.66252 -0.886675C4.66252 -0.308842 4.41345 -0.249066 4.30386 -0.249066C3.97509 -0.249066 3.93524 -0.697385 3.93524 -0.747198L3.93524 -2.73973C3.93524 -3.15816 3.93524 -3.5467 3.57659 -3.91532C3.18804 -4.30386 2.68991 -4.46326 2.21171 -4.46326C1.39477 -4.46326 0.707347 -3.99502 0.707347 -3.33748C0.707347 -3.03861 0.9066 -2.86924 1.16563 -2.86924C1.44458 -2.86924 1.62391 -3.06849 1.62391 -3.32752C1.62391 -3.44707 1.5741 -3.77584 1.11582 -3.7858C1.38481 -4.1345 1.87298 -4.24408 2.19178 -4.24408C2.67995 -4.24408 3.24782 -3.85554 3.24782 -2.96887L3.24782 -2.60025C2.73973 -2.57036 2.04234 -2.54047 1.41469 -2.24159C0.667497 -1.90286 0.418431 -1.38481 0.418431 -0.946451C0.418431 -0.139477 1.38481 0.109589 2.01245 0.109589C2.66999 0.109589 3.12827 -0.288917 3.31756 -0.757161ZM3.31756 -0.757161M3.24782 -2.39103L3.24782 -1.39477C3.24782 -0.448319 2.53051 -0.109589 2.08219 -0.109589C1.59402 -0.109589 1.18555 -0.458281 1.18555 -0.956413C1.18555 -1.50436 1.60399 -2.33126 3.24782 -2.39103ZM3.24782 -2.39103\" fill=\"black\"/>\n",
       " </g>\n",
       " <path d=\"M0 -28.3465L0 -56.6929\" stroke=\"black\"/>\n",
       " <path d=\"M28.3465 -28.3465L28.3465 -56.6929\" stroke=\"black\"/>\n",
       " <path d=\"M2.83465 -42.5197L2.83464 -42.5246A2.83465 2.83465 0 0 0 -2.83465 -42.5197A2.83465 2.83465 0 0 0 2.83464 -42.5147Z\" fill=\"black\"/>\n",
       " <path d=\"M-14.1732 -28.3465L-4.44437 -38.0753\" stroke=\"black\"/>\n",
       " <g stroke-linecap=\"butt\" stroke-dasharray=\"none\">\n",
       "  <path d=\"M-7.85661 -39.2654L0 -42.5197L-3.25432 -34.6631L-4.44437 -38.0753Z\" fill=\"black\"/>\n",
       " </g>\n",
       " <g transform=\"matrix(1.000000,0.000000,0.000000,1.000000,-17.007874,-31.181102)\">\n",
       "  <path d=\"M0.278954 -0M1.71357 -3.75592L1.71357 -6.91407L0.278954 -6.80448L0.278954 -6.49564C0.976339 -6.49564 1.05604 -6.4259 1.05604 -5.93773L1.05604 -0L1.30511 -0C1.31507 -0.00996264 1.39477 -0.14944 1.66376 -0.617684C1.8132 -0.388543 2.23163 0.109589 2.96887 0.109589C4.15442 0.109589 5.19054 -0.86675 5.19054 -2.15193C5.19054 -3.41719 4.2142 -4.40349 3.07846 -4.40349C2.30137 -4.40349 1.87298 -3.93524 1.71357 -3.75592ZM1.71357 -3.75592M1.74346 -1.13574L1.74346 -3.18804C1.74346 -3.37733 1.74346 -3.3873 1.85305 -3.5467C2.24159 -4.10461 2.78954 -4.18431 3.02864 -4.18431C3.47696 -4.18431 3.83562 -3.92528 4.07472 -3.5467C4.33375 -3.13823 4.36364 -2.57036 4.36364 -2.16189C4.36364 -1.79328 4.34371 -1.19552 4.05479 -0.747198C3.84558 -0.438356 3.467 -0.109589 2.92902 -0.109589C2.4807 -0.109589 2.12204 -0.348692 1.88294 -0.71731C1.74346 -0.926526 1.74346 -0.956413 1.74346 -1.13574ZM1.74346 -1.13574\" fill=\"black\"/>\n",
       " </g>\n",
       " <path d=\"M0 -56.6929L0 -85.0394\" stroke=\"black\"/>\n",
       " <path d=\"M28.3465 -56.6929L28.3465 -85.0394\" stroke=\"black\"/>\n",
       " <path d=\"M31.1811 -70.8661L31.1811 -70.8711A2.83465 2.83465 0 0 0 25.5118 -70.8661A2.83465 2.83465 0 0 0 31.1811 -70.8612Z\" fill=\"black\"/>\n",
       " <path d=\"M28.3465 -70.8661L38.0753 -80.595\" stroke=\"black\"/>\n",
       " <g stroke-linecap=\"butt\" stroke-dasharray=\"none\">\n",
       "  <path d=\"M34.6631 -81.7851L42.5197 -85.0394L39.2654 -77.1828L38.0753 -80.595Z\" fill=\"black\"/>\n",
       " </g>\n",
       " <g transform=\"matrix(1.000000,0.000000,0.000000,1.000000,39.685039,-70.866142)\">\n",
       "  <path d=\"M0.33873 -0M1.16563 -2.17186C1.16563 -3.79577 1.98257 -4.2142 2.51059 -4.2142C2.60025 -4.2142 3.2279 -4.20423 3.57659 -3.84558C3.16812 -3.81569 3.10834 -3.51681 3.10834 -3.3873C3.10834 -3.12827 3.28767 -2.92902 3.56663 -2.92902C3.82565 -2.92902 4.02491 -3.09838 4.02491 -3.39726C4.02491 -4.07472 3.26775 -4.46326 2.50062 -4.46326C1.25529 -4.46326 0.33873 -3.3873 0.33873 -2.15193C0.33873 -0.876712 1.32503 0.109589 2.4807 0.109589C3.81569 0.109589 4.1345 -1.08593 4.1345 -1.18555C4.1345 -1.28518 4.03487 -1.28518 4.00498 -1.28518C3.91532 -1.28518 3.89539 -1.24533 3.87547 -1.18555C3.58655 -0.259029 2.93898 -0.139477 2.57036 -0.139477C2.04234 -0.139477 1.16563 -0.56787 1.16563 -2.17186ZM1.16563 -2.17186\" fill=\"black\"/>\n",
       " </g>\n",
       "</svg>\n"
      ],
      "text/plain": [
       "<pyx.canvas.canvas at 0xd1db266a0>"
      ]
     },
     "metadata": {},
     "output_type": "display_data"
    },
    {
     "data": {
      "image/png": "[encoded data removed]",
      "image/svg+xml": [
       "<?xml version=\"1.0\" encoding=\"utf-8\"?>\n",
       "<svg xmlns=\"http://www.w3.org/2000/svg\" fill=\"none\" version=\"1.1\" viewBox=\"-18.0079 -86.0394 64.2277 87.0394\" x=\"-18.0079pt\" y=\"-86.0394pt\" width=\"64.2277pt\" height=\"87.0394pt\" stroke-width=\"0.566929\" stroke-miterlimit=\"10.000000\">\n",
       " <path d=\"M0 -0L0 -28.3465\" stroke=\"black\"/>\n",
       " <path d=\"M28.3465 -0L28.3465 -28.3465\" stroke=\"black\"/>\n",
       " <path d=\"M31.1811 -14.1732L31.1811 -14.1782A2.83465 2.83465 0 0 0 25.5118 -14.1732A2.83465 2.83465 0 0 0 31.1811 -14.1683Z\" fill=\"black\"/>\n",
       " <path d=\"M42.5197 -0L32.7908 -9.72886\" stroke=\"black\"/>\n",
       " <g stroke-linecap=\"butt\" stroke-dasharray=\"none\">\n",
       "  <path d=\"M31.6008 -6.31661L28.3465 -14.1732L36.2031 -10.9189L32.7908 -9.72886Z\" fill=\"black\"/>\n",
       " </g>\n",
       " <g transform=\"matrix(1.000000,0.000000,0.000000,1.000000,39.685039,-2.834646)\">\n",
       "  <path d=\"M0.418431 -0M3.31756 -0.757161C3.35741 -0.358655 3.6264 0.0597758 4.09465 0.0597758C4.30386 0.0597758 4.91158 -0.0797011 4.91158 -0.886675L4.91158 -1.44458L4.66252 -1.44458L4.66252 -0.886675C4.66252 -0.308842 4.41345 -0.249066 4.30386 -0.249066C3.97509 -0.249066 3.93524 -0.697385 3.93524 -0.747198L3.93524 -2.73973C3.93524 -3.15816 3.93524 -3.5467 3.57659 -3.91532C3.18804 -4.30386 2.68991 -4.46326 2.21171 -4.46326C1.39477 -4.46326 0.707347 -3.99502 0.707347 -3.33748C0.707347 -3.03861 0.9066 -2.86924 1.16563 -2.86924C1.44458 -2.86924 1.62391 -3.06849 1.62391 -3.32752C1.62391 -3.44707 1.5741 -3.77584 1.11582 -3.7858C1.38481 -4.1345 1.87298 -4.24408 2.19178 -4.24408C2.67995 -4.24408 3.24782 -3.85554 3.24782 -2.96887L3.24782 -2.60025C2.73973 -2.57036 2.04234 -2.54047 1.41469 -2.24159C0.667497 -1.90286 0.418431 -1.38481 0.418431 -0.946451C0.418431 -0.139477 1.38481 0.109589 2.01245 0.109589C2.66999 0.109589 3.12827 -0.288917 3.31756 -0.757161ZM3.31756 -0.757161M3.24782 -2.39103L3.24782 -1.39477C3.24782 -0.448319 2.53051 -0.109589 2.08219 -0.109589C1.59402 -0.109589 1.18555 -0.458281 1.18555 -0.956413C1.18555 -1.50436 1.60399 -2.33126 3.24782 -2.39103ZM3.24782 -2.39103\" fill=\"black\"/>\n",
       " </g>\n",
       " <path d=\"M0 -28.3465L0 -56.6929\" stroke=\"black\"/>\n",
       " <path d=\"M28.3465 -28.3465L28.3465 -56.6929\" stroke=\"black\"/>\n",
       " <path d=\"M31.1811 -42.5197L31.1811 -42.5246A2.83465 2.83465 0 0 0 25.5118 -42.5197A2.83465 2.83465 0 0 0 31.1811 -42.5147Z\" fill=\"black\"/>\n",
       " <path d=\"M28.3465 -42.5197L38.0753 -52.2485\" stroke=\"black\"/>\n",
       " <g stroke-linecap=\"butt\" stroke-dasharray=\"none\">\n",
       "  <path d=\"M34.6631 -53.4386L42.5197 -56.6929L39.2654 -48.8363L38.0753 -52.2485Z\" fill=\"black\"/>\n",
       " </g>\n",
       " <g transform=\"matrix(1.000000,0.000000,0.000000,1.000000,39.685039,-42.519685)\">\n",
       "  <path d=\"M0.278954 -0M1.71357 -3.75592L1.71357 -6.91407L0.278954 -6.80448L0.278954 -6.49564C0.976339 -6.49564 1.05604 -6.4259 1.05604 -5.93773L1.05604 -0L1.30511 -0C1.31507 -0.00996264 1.39477 -0.14944 1.66376 -0.617684C1.8132 -0.388543 2.23163 0.109589 2.96887 0.109589C4.15442 0.109589 5.19054 -0.86675 5.19054 -2.15193C5.19054 -3.41719 4.2142 -4.40349 3.07846 -4.40349C2.30137 -4.40349 1.87298 -3.93524 1.71357 -3.75592ZM1.71357 -3.75592M1.74346 -1.13574L1.74346 -3.18804C1.74346 -3.37733 1.74346 -3.3873 1.85305 -3.5467C2.24159 -4.10461 2.78954 -4.18431 3.02864 -4.18431C3.47696 -4.18431 3.83562 -3.92528 4.07472 -3.5467C4.33375 -3.13823 4.36364 -2.57036 4.36364 -2.16189C4.36364 -1.79328 4.34371 -1.19552 4.05479 -0.747198C3.84558 -0.438356 3.467 -0.109589 2.92902 -0.109589C2.4807 -0.109589 2.12204 -0.348692 1.88294 -0.71731C1.74346 -0.926526 1.74346 -0.956413 1.74346 -1.13574ZM1.74346 -1.13574\" fill=\"black\"/>\n",
       " </g>\n",
       " <path d=\"M0 -56.6929L0 -85.0394\" stroke=\"black\"/>\n",
       " <path d=\"M28.3465 -56.6929L28.3465 -85.0394\" stroke=\"black\"/>\n",
       " <path d=\"M2.83465 -70.8661L2.83464 -70.8711A2.83465 2.83465 0 0 0 -2.83465 -70.8661A2.83465 2.83465 0 0 0 2.83464 -70.8612Z\" fill=\"black\"/>\n",
       " <path d=\"M-14.1732 -56.6929L-4.44437 -66.4218\" stroke=\"black\"/>\n",
       " <g stroke-linecap=\"butt\" stroke-dasharray=\"none\">\n",
       "  <path d=\"M-7.85661 -67.6118L0 -70.8661L-3.25432 -63.0095L-4.44437 -66.4218Z\" fill=\"black\"/>\n",
       " </g>\n",
       " <g transform=\"matrix(1.000000,0.000000,0.000000,1.000000,-17.007874,-59.527559)\">\n",
       "  <path d=\"M0.33873 -0M1.16563 -2.17186C1.16563 -3.79577 1.98257 -4.2142 2.51059 -4.2142C2.60025 -4.2142 3.2279 -4.20423 3.57659 -3.84558C3.16812 -3.81569 3.10834 -3.51681 3.10834 -3.3873C3.10834 -3.12827 3.28767 -2.92902 3.56663 -2.92902C3.82565 -2.92902 4.02491 -3.09838 4.02491 -3.39726C4.02491 -4.07472 3.26775 -4.46326 2.50062 -4.46326C1.25529 -4.46326 0.33873 -3.3873 0.33873 -2.15193C0.33873 -0.876712 1.32503 0.109589 2.4807 0.109589C3.81569 0.109589 4.1345 -1.08593 4.1345 -1.18555C4.1345 -1.28518 4.03487 -1.28518 4.00498 -1.28518C3.91532 -1.28518 3.89539 -1.24533 3.87547 -1.18555C3.58655 -0.259029 2.93898 -0.139477 2.57036 -0.139477C2.04234 -0.139477 1.16563 -0.56787 1.16563 -2.17186ZM1.16563 -2.17186\" fill=\"black\"/>\n",
       " </g>\n",
       "</svg>\n"
      ],
      "text/plain": [
       "<pyx.canvas.canvas at 0xd1db26630>"
      ]
     },
     "metadata": {},
     "output_type": "display_data"
    }
   ],
   "source": [
    "#display the diagrams for visual inspection (takes a few seconds to render)\n",
    "tdpe.display_diagrams(time_ordered_diagrams)"
   ]
  },
  {
   "cell_type": "code",
   "execution_count": 10,
   "metadata": {
    "scrolled": true
   },
   "outputs": [
    {
     "name": "stdout",
     "output_type": "stream",
     "text": [
      "There are  16  diagrams in total\n"
     ]
    }
   ],
   "source": [
    "# an example of arrival times where all three pulses overlap, given the pulse durations d0, d1 and d2\n",
    "arrival_times = [0,1,2,2] # gives the same answer as arrival_times = [0,0,0,0]\n",
    "all_diagrams = tdpe.get_diagrams(arrival_times)\n",
    "print('There are ',len(all_diagrams),' diagrams in total')"
   ]
  },
  {
   "cell_type": "code",
   "execution_count": 11,
   "metadata": {},
   "outputs": [],
   "source": [
    "# Check in this folder after running this cell to see 16 individual diagrams saved as pdf files\n",
    "tdpe_diagrams_folder = 'TDPE_all_diagrams'\n",
    "os.makedirs(tdpe_diagrams_folder,exist_ok=True)\n",
    "\n",
    "# rendering and saving the diagrams takes a few seconds\n",
    "tdpe.save_diagrams(all_diagrams,folder_name=tdpe_diagrams_folder)"
   ]
  },
  {
   "cell_type": "markdown",
   "metadata": {},
   "source": [
    "To play with different cases where only some of the pulses overlap, uncomment and execute any of the following:"
   ]
  },
  {
   "cell_type": "code",
   "execution_count": null,
   "metadata": {},
   "outputs": [],
   "source": [
    "# In each of the following cases we have supplied a list of arrival times that cause only certain pulses to overlap\n",
    "\n",
    "#ab_overlap = tdpe.get_diagrams([0,1,6,6])\n",
    "#bc_overlap = tdpe.get_diagrams([0,4,6,6])\n",
    "#ab_bc_overlap = tdpe.get_diagrams([0,2,5,5])"
   ]
  },
  {
   "cell_type": "markdown",
   "metadata": {},
   "source": [
    "And uncomment the following for the case you want to see"
   ]
  },
  {
   "cell_type": "code",
   "execution_count": null,
   "metadata": {},
   "outputs": [],
   "source": [
    "#tdpe.display_diagrams(ab_overlap) #<--- change the argument of display diagrams to the case you have uncommented and executed"
   ]
  },
  {
   "cell_type": "markdown",
   "metadata": {},
   "source": [
    "## Time-ordered example for only one electronic excited state"
   ]
  },
  {
   "cell_type": "markdown",
   "metadata": {},
   "source": [
    "If the system under study has only one excited electronic state, then the excited-state absoroption process cannot take place.  This is captured by setting the attribute 'maximum_manifold' (default value $\\infty$) as follows (see Sec. III, item (4)(a) on pages 4-5 of arXiv:2008.05081 for a discussion about maximum and minimum manifold values)"
   ]
  },
  {
   "cell_type": "code",
   "execution_count": 12,
   "metadata": {},
   "outputs": [
    {
     "data": {
      "image/png": "[encoded data removed]",
      "image/svg+xml": [
       "<?xml version=\"1.0\" encoding=\"utf-8\"?>\n",
       "<svg xmlns=\"http://www.w3.org/2000/svg\" fill=\"none\" version=\"1.1\" viewBox=\"-18.0079 -86.0394 63.6743 87.0394\" x=\"-18.0079pt\" y=\"-86.0394pt\" width=\"63.6743pt\" height=\"87.0394pt\" stroke-width=\"0.566929\" stroke-miterlimit=\"10.000000\">\n",
       " <path d=\"M0 -0L0 -28.3465\" stroke=\"black\"/>\n",
       " <path d=\"M28.3465 -0L28.3465 -28.3465\" stroke=\"black\"/>\n",
       " <path d=\"M31.1811 -14.1732L31.1811 -14.1782A2.83465 2.83465 0 0 0 25.5118 -14.1732A2.83465 2.83465 0 0 0 31.1811 -14.1683Z\" fill=\"black\"/>\n",
       " <path d=\"M42.5197 -0L32.7908 -9.72886\" stroke=\"black\"/>\n",
       " <g stroke-linecap=\"butt\" stroke-dasharray=\"none\">\n",
       "  <path d=\"M31.6008 -6.31661L28.3465 -14.1732L36.2031 -10.9189L32.7908 -9.72886Z\" fill=\"black\"/>\n",
       " </g>\n",
       " <g transform=\"matrix(1.000000,0.000000,0.000000,1.000000,39.685039,-2.834646)\">\n",
       "  <path d=\"M0.418431 -0M3.31756 -0.757161C3.35741 -0.358655 3.6264 0.0597758 4.09465 0.0597758C4.30386 0.0597758 4.91158 -0.0797011 4.91158 -0.886675L4.91158 -1.44458L4.66252 -1.44458L4.66252 -0.886675C4.66252 -0.308842 4.41345 -0.249066 4.30386 -0.249066C3.97509 -0.249066 3.93524 -0.697385 3.93524 -0.747198L3.93524 -2.73973C3.93524 -3.15816 3.93524 -3.5467 3.57659 -3.91532C3.18804 -4.30386 2.68991 -4.46326 2.21171 -4.46326C1.39477 -4.46326 0.707347 -3.99502 0.707347 -3.33748C0.707347 -3.03861 0.9066 -2.86924 1.16563 -2.86924C1.44458 -2.86924 1.62391 -3.06849 1.62391 -3.32752C1.62391 -3.44707 1.5741 -3.77584 1.11582 -3.7858C1.38481 -4.1345 1.87298 -4.24408 2.19178 -4.24408C2.67995 -4.24408 3.24782 -3.85554 3.24782 -2.96887L3.24782 -2.60025C2.73973 -2.57036 2.04234 -2.54047 1.41469 -2.24159C0.667497 -1.90286 0.418431 -1.38481 0.418431 -0.946451C0.418431 -0.139477 1.38481 0.109589 2.01245 0.109589C2.66999 0.109589 3.12827 -0.288917 3.31756 -0.757161ZM3.31756 -0.757161M3.24782 -2.39103L3.24782 -1.39477C3.24782 -0.448319 2.53051 -0.109589 2.08219 -0.109589C1.59402 -0.109589 1.18555 -0.458281 1.18555 -0.956413C1.18555 -1.50436 1.60399 -2.33126 3.24782 -2.39103ZM3.24782 -2.39103\" fill=\"black\"/>\n",
       " </g>\n",
       " <path d=\"M0 -28.3465L0 -56.6929\" stroke=\"black\"/>\n",
       " <path d=\"M28.3465 -28.3465L28.3465 -56.6929\" stroke=\"black\"/>\n",
       " <path d=\"M2.83465 -42.5197L2.83464 -42.5246A2.83465 2.83465 0 0 0 -2.83465 -42.5197A2.83465 2.83465 0 0 0 2.83464 -42.5147Z\" fill=\"black\"/>\n",
       " <path d=\"M-14.1732 -28.3465L-4.44437 -38.0753\" stroke=\"black\"/>\n",
       " <g stroke-linecap=\"butt\" stroke-dasharray=\"none\">\n",
       "  <path d=\"M-7.85661 -39.2654L0 -42.5197L-3.25432 -34.6631L-4.44437 -38.0753Z\" fill=\"black\"/>\n",
       " </g>\n",
       " <g transform=\"matrix(1.000000,0.000000,0.000000,1.000000,-17.007874,-31.181102)\">\n",
       "  <path d=\"M0.278954 -0M1.71357 -3.75592L1.71357 -6.91407L0.278954 -6.80448L0.278954 -6.49564C0.976339 -6.49564 1.05604 -6.4259 1.05604 -5.93773L1.05604 -0L1.30511 -0C1.31507 -0.00996264 1.39477 -0.14944 1.66376 -0.617684C1.8132 -0.388543 2.23163 0.109589 2.96887 0.109589C4.15442 0.109589 5.19054 -0.86675 5.19054 -2.15193C5.19054 -3.41719 4.2142 -4.40349 3.07846 -4.40349C2.30137 -4.40349 1.87298 -3.93524 1.71357 -3.75592ZM1.71357 -3.75592M1.74346 -1.13574L1.74346 -3.18804C1.74346 -3.37733 1.74346 -3.3873 1.85305 -3.5467C2.24159 -4.10461 2.78954 -4.18431 3.02864 -4.18431C3.47696 -4.18431 3.83562 -3.92528 4.07472 -3.5467C4.33375 -3.13823 4.36364 -2.57036 4.36364 -2.16189C4.36364 -1.79328 4.34371 -1.19552 4.05479 -0.747198C3.84558 -0.438356 3.467 -0.109589 2.92902 -0.109589C2.4807 -0.109589 2.12204 -0.348692 1.88294 -0.71731C1.74346 -0.926526 1.74346 -0.956413 1.74346 -1.13574ZM1.74346 -1.13574\" fill=\"black\"/>\n",
       " </g>\n",
       " <path d=\"M0 -56.6929L0 -85.0394\" stroke=\"black\"/>\n",
       " <path d=\"M28.3465 -56.6929L28.3465 -85.0394\" stroke=\"black\"/>\n",
       " <path d=\"M31.1811 -70.8661L31.1811 -70.8711A2.83465 2.83465 0 0 0 25.5118 -70.8661A2.83465 2.83465 0 0 0 31.1811 -70.8612Z\" fill=\"black\"/>\n",
       " <path d=\"M28.3465 -70.8661L38.0753 -80.595\" stroke=\"black\"/>\n",
       " <g stroke-linecap=\"butt\" stroke-dasharray=\"none\">\n",
       "  <path d=\"M34.6631 -81.7851L42.5197 -85.0394L39.2654 -77.1828L38.0753 -80.595Z\" fill=\"black\"/>\n",
       " </g>\n",
       " <g transform=\"matrix(1.000000,0.000000,0.000000,1.000000,39.685039,-70.866142)\">\n",
       "  <path d=\"M0.33873 -0M1.16563 -2.17186C1.16563 -3.79577 1.98257 -4.2142 2.51059 -4.2142C2.60025 -4.2142 3.2279 -4.20423 3.57659 -3.84558C3.16812 -3.81569 3.10834 -3.51681 3.10834 -3.3873C3.10834 -3.12827 3.28767 -2.92902 3.56663 -2.92902C3.82565 -2.92902 4.02491 -3.09838 4.02491 -3.39726C4.02491 -4.07472 3.26775 -4.46326 2.50062 -4.46326C1.25529 -4.46326 0.33873 -3.3873 0.33873 -2.15193C0.33873 -0.876712 1.32503 0.109589 2.4807 0.109589C3.81569 0.109589 4.1345 -1.08593 4.1345 -1.18555C4.1345 -1.28518 4.03487 -1.28518 4.00498 -1.28518C3.91532 -1.28518 3.89539 -1.24533 3.87547 -1.18555C3.58655 -0.259029 2.93898 -0.139477 2.57036 -0.139477C2.04234 -0.139477 1.16563 -0.56787 1.16563 -2.17186ZM1.16563 -2.17186\" fill=\"black\"/>\n",
       " </g>\n",
       "</svg>\n"
      ],
      "text/plain": [
       "<pyx.canvas.canvas at 0x181eff4208>"
      ]
     },
     "metadata": {},
     "output_type": "display_data"
    },
    {
     "data": {
      "image/png": "[encoded data removed]",
      "image/svg+xml": [
       "<?xml version=\"1.0\" encoding=\"utf-8\"?>\n",
       "<svg xmlns=\"http://www.w3.org/2000/svg\" fill=\"none\" version=\"1.1\" viewBox=\"-18.0079 -86.0394 64.2277 87.0394\" x=\"-18.0079pt\" y=\"-86.0394pt\" width=\"64.2277pt\" height=\"87.0394pt\" stroke-width=\"0.566929\" stroke-miterlimit=\"10.000000\">\n",
       " <path d=\"M0 -0L0 -28.3465\" stroke=\"black\"/>\n",
       " <path d=\"M28.3465 -0L28.3465 -28.3465\" stroke=\"black\"/>\n",
       " <path d=\"M31.1811 -14.1732L31.1811 -14.1782A2.83465 2.83465 0 0 0 25.5118 -14.1732A2.83465 2.83465 0 0 0 31.1811 -14.1683Z\" fill=\"black\"/>\n",
       " <path d=\"M42.5197 -0L32.7908 -9.72886\" stroke=\"black\"/>\n",
       " <g stroke-linecap=\"butt\" stroke-dasharray=\"none\">\n",
       "  <path d=\"M31.6008 -6.31661L28.3465 -14.1732L36.2031 -10.9189L32.7908 -9.72886Z\" fill=\"black\"/>\n",
       " </g>\n",
       " <g transform=\"matrix(1.000000,0.000000,0.000000,1.000000,39.685039,-2.834646)\">\n",
       "  <path d=\"M0.418431 -0M3.31756 -0.757161C3.35741 -0.358655 3.6264 0.0597758 4.09465 0.0597758C4.30386 0.0597758 4.91158 -0.0797011 4.91158 -0.886675L4.91158 -1.44458L4.66252 -1.44458L4.66252 -0.886675C4.66252 -0.308842 4.41345 -0.249066 4.30386 -0.249066C3.97509 -0.249066 3.93524 -0.697385 3.93524 -0.747198L3.93524 -2.73973C3.93524 -3.15816 3.93524 -3.5467 3.57659 -3.91532C3.18804 -4.30386 2.68991 -4.46326 2.21171 -4.46326C1.39477 -4.46326 0.707347 -3.99502 0.707347 -3.33748C0.707347 -3.03861 0.9066 -2.86924 1.16563 -2.86924C1.44458 -2.86924 1.62391 -3.06849 1.62391 -3.32752C1.62391 -3.44707 1.5741 -3.77584 1.11582 -3.7858C1.38481 -4.1345 1.87298 -4.24408 2.19178 -4.24408C2.67995 -4.24408 3.24782 -3.85554 3.24782 -2.96887L3.24782 -2.60025C2.73973 -2.57036 2.04234 -2.54047 1.41469 -2.24159C0.667497 -1.90286 0.418431 -1.38481 0.418431 -0.946451C0.418431 -0.139477 1.38481 0.109589 2.01245 0.109589C2.66999 0.109589 3.12827 -0.288917 3.31756 -0.757161ZM3.31756 -0.757161M3.24782 -2.39103L3.24782 -1.39477C3.24782 -0.448319 2.53051 -0.109589 2.08219 -0.109589C1.59402 -0.109589 1.18555 -0.458281 1.18555 -0.956413C1.18555 -1.50436 1.60399 -2.33126 3.24782 -2.39103ZM3.24782 -2.39103\" fill=\"black\"/>\n",
       " </g>\n",
       " <path d=\"M0 -28.3465L0 -56.6929\" stroke=\"black\"/>\n",
       " <path d=\"M28.3465 -28.3465L28.3465 -56.6929\" stroke=\"black\"/>\n",
       " <path d=\"M31.1811 -42.5197L31.1811 -42.5246A2.83465 2.83465 0 0 0 25.5118 -42.5197A2.83465 2.83465 0 0 0 31.1811 -42.5147Z\" fill=\"black\"/>\n",
       " <path d=\"M28.3465 -42.5197L38.0753 -52.2485\" stroke=\"black\"/>\n",
       " <g stroke-linecap=\"butt\" stroke-dasharray=\"none\">\n",
       "  <path d=\"M34.6631 -53.4386L42.5197 -56.6929L39.2654 -48.8363L38.0753 -52.2485Z\" fill=\"black\"/>\n",
       " </g>\n",
       " <g transform=\"matrix(1.000000,0.000000,0.000000,1.000000,39.685039,-42.519685)\">\n",
       "  <path d=\"M0.278954 -0M1.71357 -3.75592L1.71357 -6.91407L0.278954 -6.80448L0.278954 -6.49564C0.976339 -6.49564 1.05604 -6.4259 1.05604 -5.93773L1.05604 -0L1.30511 -0C1.31507 -0.00996264 1.39477 -0.14944 1.66376 -0.617684C1.8132 -0.388543 2.23163 0.109589 2.96887 0.109589C4.15442 0.109589 5.19054 -0.86675 5.19054 -2.15193C5.19054 -3.41719 4.2142 -4.40349 3.07846 -4.40349C2.30137 -4.40349 1.87298 -3.93524 1.71357 -3.75592ZM1.71357 -3.75592M1.74346 -1.13574L1.74346 -3.18804C1.74346 -3.37733 1.74346 -3.3873 1.85305 -3.5467C2.24159 -4.10461 2.78954 -4.18431 3.02864 -4.18431C3.47696 -4.18431 3.83562 -3.92528 4.07472 -3.5467C4.33375 -3.13823 4.36364 -2.57036 4.36364 -2.16189C4.36364 -1.79328 4.34371 -1.19552 4.05479 -0.747198C3.84558 -0.438356 3.467 -0.109589 2.92902 -0.109589C2.4807 -0.109589 2.12204 -0.348692 1.88294 -0.71731C1.74346 -0.926526 1.74346 -0.956413 1.74346 -1.13574ZM1.74346 -1.13574\" fill=\"black\"/>\n",
       " </g>\n",
       " <path d=\"M0 -56.6929L0 -85.0394\" stroke=\"black\"/>\n",
       " <path d=\"M28.3465 -56.6929L28.3465 -85.0394\" stroke=\"black\"/>\n",
       " <path d=\"M2.83465 -70.8661L2.83464 -70.8711A2.83465 2.83465 0 0 0 -2.83465 -70.8661A2.83465 2.83465 0 0 0 2.83464 -70.8612Z\" fill=\"black\"/>\n",
       " <path d=\"M-14.1732 -56.6929L-4.44437 -66.4218\" stroke=\"black\"/>\n",
       " <g stroke-linecap=\"butt\" stroke-dasharray=\"none\">\n",
       "  <path d=\"M-7.85661 -67.6118L0 -70.8661L-3.25432 -63.0095L-4.44437 -66.4218Z\" fill=\"black\"/>\n",
       " </g>\n",
       " <g transform=\"matrix(1.000000,0.000000,0.000000,1.000000,-17.007874,-59.527559)\">\n",
       "  <path d=\"M0.33873 -0M1.16563 -2.17186C1.16563 -3.79577 1.98257 -4.2142 2.51059 -4.2142C2.60025 -4.2142 3.2279 -4.20423 3.57659 -3.84558C3.16812 -3.81569 3.10834 -3.51681 3.10834 -3.3873C3.10834 -3.12827 3.28767 -2.92902 3.56663 -2.92902C3.82565 -2.92902 4.02491 -3.09838 4.02491 -3.39726C4.02491 -4.07472 3.26775 -4.46326 2.50062 -4.46326C1.25529 -4.46326 0.33873 -3.3873 0.33873 -2.15193C0.33873 -0.876712 1.32503 0.109589 2.4807 0.109589C3.81569 0.109589 4.1345 -1.08593 4.1345 -1.18555C4.1345 -1.28518 4.03487 -1.28518 4.00498 -1.28518C3.91532 -1.28518 3.89539 -1.24533 3.87547 -1.18555C3.58655 -0.259029 2.93898 -0.139477 2.57036 -0.139477C2.04234 -0.139477 1.16563 -0.56787 1.16563 -2.17186ZM1.16563 -2.17186\" fill=\"black\"/>\n",
       " </g>\n",
       "</svg>\n"
      ],
      "text/plain": [
       "<pyx.canvas.canvas at 0x181ee96240>"
      ]
     },
     "metadata": {},
     "output_type": "display_data"
    }
   ],
   "source": [
    "tdpe.maximum_manifold = 1\n",
    "time_ordered_diagrams = tdpe.get_diagrams([0,100,200,200])\n",
    "tdpe.display_diagrams(time_ordered_diagrams)"
   ]
  },
  {
   "cell_type": "markdown",
   "metadata": {},
   "source": [
    "Note that even for the case of a single electronic excitation, if there is a significant electronic relaxation rate, 'maximum_manifold' should not be set to 1, but left at the default value $\\infty$"
   ]
  },
  {
   "cell_type": "markdown",
   "metadata": {},
   "source": [
    "# 2. Action-detected 2DPE"
   ]
  },
  {
   "cell_type": "code",
   "execution_count": 13,
   "metadata": {},
   "outputs": [],
   "source": [
    "tdfs = DG(detection_type='fluorescence')\n",
    "\n",
    "tdfs.set_phase_discrimination([(0,1),(1,0),(1,0),(0,1)])"
   ]
  },
  {
   "cell_type": "code",
   "execution_count": 14,
   "metadata": {},
   "outputs": [
    {
     "data": {
      "image/png": "[encoded data removed]",
      "image/svg+xml": [
       "<?xml version=\"1.0\" encoding=\"utf-8\"?>\n",
       "<svg xmlns=\"http://www.w3.org/2000/svg\" fill=\"none\" version=\"1.1\" viewBox=\"-18.0079 -114.386 64.2277 115.386\" x=\"-18.0079pt\" y=\"-114.386pt\" width=\"64.2277pt\" height=\"115.386pt\" stroke-width=\"0.566929\" stroke-miterlimit=\"10.000000\">\n",
       " <path d=\"M0 -0L0 -28.3465\" stroke=\"black\"/>\n",
       " <path d=\"M28.3465 -0L28.3465 -28.3465\" stroke=\"black\"/>\n",
       " <path d=\"M31.1811 -14.1732L31.1811 -14.1782A2.83465 2.83465 0 0 0 25.5118 -14.1732A2.83465 2.83465 0 0 0 31.1811 -14.1683Z\" fill=\"black\"/>\n",
       " <path d=\"M42.5197 -0L32.7908 -9.72886\" stroke=\"black\"/>\n",
       " <g stroke-linecap=\"butt\" stroke-dasharray=\"none\">\n",
       "  <path d=\"M31.6008 -6.31661L28.3465 -14.1732L36.2031 -10.9189L32.7908 -9.72886Z\" fill=\"black\"/>\n",
       " </g>\n",
       " <g transform=\"matrix(1.000000,0.000000,0.000000,1.000000,39.685039,-2.834646)\">\n",
       "  <path d=\"M0.418431 -0M3.31756 -0.757161C3.35741 -0.358655 3.6264 0.0597758 4.09465 0.0597758C4.30386 0.0597758 4.91158 -0.0797011 4.91158 -0.886675L4.91158 -1.44458L4.66252 -1.44458L4.66252 -0.886675C4.66252 -0.308842 4.41345 -0.249066 4.30386 -0.249066C3.97509 -0.249066 3.93524 -0.697385 3.93524 -0.747198L3.93524 -2.73973C3.93524 -3.15816 3.93524 -3.5467 3.57659 -3.91532C3.18804 -4.30386 2.68991 -4.46326 2.21171 -4.46326C1.39477 -4.46326 0.707347 -3.99502 0.707347 -3.33748C0.707347 -3.03861 0.9066 -2.86924 1.16563 -2.86924C1.44458 -2.86924 1.62391 -3.06849 1.62391 -3.32752C1.62391 -3.44707 1.5741 -3.77584 1.11582 -3.7858C1.38481 -4.1345 1.87298 -4.24408 2.19178 -4.24408C2.67995 -4.24408 3.24782 -3.85554 3.24782 -2.96887L3.24782 -2.60025C2.73973 -2.57036 2.04234 -2.54047 1.41469 -2.24159C0.667497 -1.90286 0.418431 -1.38481 0.418431 -0.946451C0.418431 -0.139477 1.38481 0.109589 2.01245 0.109589C2.66999 0.109589 3.12827 -0.288917 3.31756 -0.757161ZM3.31756 -0.757161M3.24782 -2.39103L3.24782 -1.39477C3.24782 -0.448319 2.53051 -0.109589 2.08219 -0.109589C1.59402 -0.109589 1.18555 -0.458281 1.18555 -0.956413C1.18555 -1.50436 1.60399 -2.33126 3.24782 -2.39103ZM3.24782 -2.39103\" fill=\"black\"/>\n",
       " </g>\n",
       " <path d=\"M0 -28.3465L0 -56.6929\" stroke=\"black\"/>\n",
       " <path d=\"M28.3465 -28.3465L28.3465 -56.6929\" stroke=\"black\"/>\n",
       " <path d=\"M2.83465 -42.5197L2.83464 -42.5246A2.83465 2.83465 0 0 0 -2.83465 -42.5197A2.83465 2.83465 0 0 0 2.83464 -42.5147Z\" fill=\"black\"/>\n",
       " <path d=\"M-14.1732 -28.3465L-4.44437 -38.0753\" stroke=\"black\"/>\n",
       " <g stroke-linecap=\"butt\" stroke-dasharray=\"none\">\n",
       "  <path d=\"M-7.85661 -39.2654L0 -42.5197L-3.25432 -34.6631L-4.44437 -38.0753Z\" fill=\"black\"/>\n",
       " </g>\n",
       " <g transform=\"matrix(1.000000,0.000000,0.000000,1.000000,-17.007874,-31.181102)\">\n",
       "  <path d=\"M0.278954 -0M1.71357 -3.75592L1.71357 -6.91407L0.278954 -6.80448L0.278954 -6.49564C0.976339 -6.49564 1.05604 -6.4259 1.05604 -5.93773L1.05604 -0L1.30511 -0C1.31507 -0.00996264 1.39477 -0.14944 1.66376 -0.617684C1.8132 -0.388543 2.23163 0.109589 2.96887 0.109589C4.15442 0.109589 5.19054 -0.86675 5.19054 -2.15193C5.19054 -3.41719 4.2142 -4.40349 3.07846 -4.40349C2.30137 -4.40349 1.87298 -3.93524 1.71357 -3.75592ZM1.71357 -3.75592M1.74346 -1.13574L1.74346 -3.18804C1.74346 -3.37733 1.74346 -3.3873 1.85305 -3.5467C2.24159 -4.10461 2.78954 -4.18431 3.02864 -4.18431C3.47696 -4.18431 3.83562 -3.92528 4.07472 -3.5467C4.33375 -3.13823 4.36364 -2.57036 4.36364 -2.16189C4.36364 -1.79328 4.34371 -1.19552 4.05479 -0.747198C3.84558 -0.438356 3.467 -0.109589 2.92902 -0.109589C2.4807 -0.109589 2.12204 -0.348692 1.88294 -0.71731C1.74346 -0.926526 1.74346 -0.956413 1.74346 -1.13574ZM1.74346 -1.13574\" fill=\"black\"/>\n",
       " </g>\n",
       " <path d=\"M0 -56.6929L0 -85.0394\" stroke=\"black\"/>\n",
       " <path d=\"M28.3465 -56.6929L28.3465 -85.0394\" stroke=\"black\"/>\n",
       " <path d=\"M2.83465 -70.8661L2.83464 -70.8711A2.83465 2.83465 0 0 0 -2.83465 -70.8661A2.83465 2.83465 0 0 0 2.83464 -70.8612Z\" fill=\"black\"/>\n",
       " <path d=\"M-14.1732 -56.6929L-4.44437 -66.4218\" stroke=\"black\"/>\n",
       " <g stroke-linecap=\"butt\" stroke-dasharray=\"none\">\n",
       "  <path d=\"M-7.85661 -67.6118L0 -70.8661L-3.25432 -63.0095L-4.44437 -66.4218Z\" fill=\"black\"/>\n",
       " </g>\n",
       " <g transform=\"matrix(1.000000,0.000000,0.000000,1.000000,-17.007874,-59.527559)\">\n",
       "  <path d=\"M0.33873 -0M1.16563 -2.17186C1.16563 -3.79577 1.98257 -4.2142 2.51059 -4.2142C2.60025 -4.2142 3.2279 -4.20423 3.57659 -3.84558C3.16812 -3.81569 3.10834 -3.51681 3.10834 -3.3873C3.10834 -3.12827 3.28767 -2.92902 3.56663 -2.92902C3.82565 -2.92902 4.02491 -3.09838 4.02491 -3.39726C4.02491 -4.07472 3.26775 -4.46326 2.50062 -4.46326C1.25529 -4.46326 0.33873 -3.3873 0.33873 -2.15193C0.33873 -0.876712 1.32503 0.109589 2.4807 0.109589C3.81569 0.109589 4.1345 -1.08593 4.1345 -1.18555C4.1345 -1.28518 4.03487 -1.28518 4.00498 -1.28518C3.91532 -1.28518 3.89539 -1.24533 3.87547 -1.18555C3.58655 -0.259029 2.93898 -0.139477 2.57036 -0.139477C2.04234 -0.139477 1.16563 -0.56787 1.16563 -2.17186ZM1.16563 -2.17186\" fill=\"black\"/>\n",
       " </g>\n",
       " <path d=\"M0 -85.0394L0 -113.386\" stroke=\"black\"/>\n",
       " <path d=\"M28.3465 -85.0394L28.3465 -113.386\" stroke=\"black\"/>\n",
       " <path d=\"M31.1811 -99.2126L31.1811 -99.2175A2.83465 2.83465 0 0 0 25.5118 -99.2126A2.83465 2.83465 0 0 0 31.1811 -99.2077Z\" fill=\"black\"/>\n",
       " <path d=\"M42.5197 -85.0394L32.7908 -94.7682\" stroke=\"black\"/>\n",
       " <g stroke-linecap=\"butt\" stroke-dasharray=\"none\">\n",
       "  <path d=\"M31.6008 -91.356L28.3465 -99.2126L36.2031 -95.9583L32.7908 -94.7682Z\" fill=\"black\"/>\n",
       " </g>\n",
       " <g transform=\"matrix(1.000000,0.000000,0.000000,1.000000,39.685039,-87.874016)\">\n",
       "  <path d=\"M0.33873 -0M3.7858 -0.547945L3.7858 0.109589L5.25031 -0L5.25031 -0.308842C4.55293 -0.308842 4.47323 -0.37858 4.47323 -0.86675L4.47323 -6.91407L3.03861 -6.80448L3.03861 -6.49564C3.73599 -6.49564 3.81569 -6.4259 3.81569 -5.93773L3.81569 -3.7858C3.52677 -4.14446 3.09838 -4.40349 2.5604 -4.40349C1.38481 -4.40349 0.33873 -3.42715 0.33873 -2.14197C0.33873 -0.876712 1.31507 0.109589 2.45081 0.109589C3.08842 0.109589 3.53674 -0.229141 3.7858 -0.547945ZM3.7858 -0.547945M3.7858 -3.21793L3.7858 -1.17559C3.7858 -0.996264 3.7858 -0.976339 3.67621 -0.806974C3.37733 -0.328767 2.92902 -0.109589 2.50062 -0.109589C2.0523 -0.109589 1.69365 -0.368618 1.45455 -0.747198C1.19552 -1.15567 1.16563 -1.72354 1.16563 -2.132C1.16563 -2.50062 1.18555 -3.09838 1.47447 -3.5467C1.68369 -3.85554 2.06227 -4.18431 2.60025 -4.18431C2.94894 -4.18431 3.36737 -4.03487 3.67621 -3.58655C3.7858 -3.41719 3.7858 -3.39726 3.7858 -3.21793ZM3.7858 -3.21793\" fill=\"black\"/>\n",
       " </g>\n",
       "</svg>\n"
      ],
      "text/plain": [
       "<pyx.canvas.canvas at 0x181f099128>"
      ]
     },
     "metadata": {},
     "output_type": "display_data"
    },
    {
     "data": {
      "image/png": "[encoded data removed]",
      "image/svg+xml": [
       "<?xml version=\"1.0\" encoding=\"utf-8\"?>\n",
       "<svg xmlns=\"http://www.w3.org/2000/svg\" fill=\"none\" version=\"1.1\" viewBox=\"-18.0079 -114.386 63.6743 115.386\" x=\"-18.0079pt\" y=\"-114.386pt\" width=\"63.6743pt\" height=\"115.386pt\" stroke-width=\"0.566929\" stroke-miterlimit=\"10.000000\">\n",
       " <path d=\"M0 -0L0 -28.3465\" stroke=\"black\"/>\n",
       " <path d=\"M28.3465 -0L28.3465 -28.3465\" stroke=\"black\"/>\n",
       " <path d=\"M31.1811 -14.1732L31.1811 -14.1782A2.83465 2.83465 0 0 0 25.5118 -14.1732A2.83465 2.83465 0 0 0 31.1811 -14.1683Z\" fill=\"black\"/>\n",
       " <path d=\"M42.5197 -0L32.7908 -9.72886\" stroke=\"black\"/>\n",
       " <g stroke-linecap=\"butt\" stroke-dasharray=\"none\">\n",
       "  <path d=\"M31.6008 -6.31661L28.3465 -14.1732L36.2031 -10.9189L32.7908 -9.72886Z\" fill=\"black\"/>\n",
       " </g>\n",
       " <g transform=\"matrix(1.000000,0.000000,0.000000,1.000000,39.685039,-2.834646)\">\n",
       "  <path d=\"M0.418431 -0M3.31756 -0.757161C3.35741 -0.358655 3.6264 0.0597758 4.09465 0.0597758C4.30386 0.0597758 4.91158 -0.0797011 4.91158 -0.886675L4.91158 -1.44458L4.66252 -1.44458L4.66252 -0.886675C4.66252 -0.308842 4.41345 -0.249066 4.30386 -0.249066C3.97509 -0.249066 3.93524 -0.697385 3.93524 -0.747198L3.93524 -2.73973C3.93524 -3.15816 3.93524 -3.5467 3.57659 -3.91532C3.18804 -4.30386 2.68991 -4.46326 2.21171 -4.46326C1.39477 -4.46326 0.707347 -3.99502 0.707347 -3.33748C0.707347 -3.03861 0.9066 -2.86924 1.16563 -2.86924C1.44458 -2.86924 1.62391 -3.06849 1.62391 -3.32752C1.62391 -3.44707 1.5741 -3.77584 1.11582 -3.7858C1.38481 -4.1345 1.87298 -4.24408 2.19178 -4.24408C2.67995 -4.24408 3.24782 -3.85554 3.24782 -2.96887L3.24782 -2.60025C2.73973 -2.57036 2.04234 -2.54047 1.41469 -2.24159C0.667497 -1.90286 0.418431 -1.38481 0.418431 -0.946451C0.418431 -0.139477 1.38481 0.109589 2.01245 0.109589C2.66999 0.109589 3.12827 -0.288917 3.31756 -0.757161ZM3.31756 -0.757161M3.24782 -2.39103L3.24782 -1.39477C3.24782 -0.448319 2.53051 -0.109589 2.08219 -0.109589C1.59402 -0.109589 1.18555 -0.458281 1.18555 -0.956413C1.18555 -1.50436 1.60399 -2.33126 3.24782 -2.39103ZM3.24782 -2.39103\" fill=\"black\"/>\n",
       " </g>\n",
       " <path d=\"M0 -28.3465L0 -56.6929\" stroke=\"black\"/>\n",
       " <path d=\"M28.3465 -28.3465L28.3465 -56.6929\" stroke=\"black\"/>\n",
       " <path d=\"M2.83465 -42.5197L2.83464 -42.5246A2.83465 2.83465 0 0 0 -2.83465 -42.5197A2.83465 2.83465 0 0 0 2.83464 -42.5147Z\" fill=\"black\"/>\n",
       " <path d=\"M-14.1732 -28.3465L-4.44437 -38.0753\" stroke=\"black\"/>\n",
       " <g stroke-linecap=\"butt\" stroke-dasharray=\"none\">\n",
       "  <path d=\"M-7.85661 -39.2654L0 -42.5197L-3.25432 -34.6631L-4.44437 -38.0753Z\" fill=\"black\"/>\n",
       " </g>\n",
       " <g transform=\"matrix(1.000000,0.000000,0.000000,1.000000,-17.007874,-31.181102)\">\n",
       "  <path d=\"M0.278954 -0M1.71357 -3.75592L1.71357 -6.91407L0.278954 -6.80448L0.278954 -6.49564C0.976339 -6.49564 1.05604 -6.4259 1.05604 -5.93773L1.05604 -0L1.30511 -0C1.31507 -0.00996264 1.39477 -0.14944 1.66376 -0.617684C1.8132 -0.388543 2.23163 0.109589 2.96887 0.109589C4.15442 0.109589 5.19054 -0.86675 5.19054 -2.15193C5.19054 -3.41719 4.2142 -4.40349 3.07846 -4.40349C2.30137 -4.40349 1.87298 -3.93524 1.71357 -3.75592ZM1.71357 -3.75592M1.74346 -1.13574L1.74346 -3.18804C1.74346 -3.37733 1.74346 -3.3873 1.85305 -3.5467C2.24159 -4.10461 2.78954 -4.18431 3.02864 -4.18431C3.47696 -4.18431 3.83562 -3.92528 4.07472 -3.5467C4.33375 -3.13823 4.36364 -2.57036 4.36364 -2.16189C4.36364 -1.79328 4.34371 -1.19552 4.05479 -0.747198C3.84558 -0.438356 3.467 -0.109589 2.92902 -0.109589C2.4807 -0.109589 2.12204 -0.348692 1.88294 -0.71731C1.74346 -0.926526 1.74346 -0.956413 1.74346 -1.13574ZM1.74346 -1.13574\" fill=\"black\"/>\n",
       " </g>\n",
       " <path d=\"M0 -56.6929L0 -85.0394\" stroke=\"black\"/>\n",
       " <path d=\"M28.3465 -56.6929L28.3465 -85.0394\" stroke=\"black\"/>\n",
       " <path d=\"M2.83465 -70.8661L2.83464 -70.8711A2.83465 2.83465 0 0 0 -2.83465 -70.8661A2.83465 2.83465 0 0 0 2.83464 -70.8612Z\" fill=\"black\"/>\n",
       " <path d=\"M-14.1732 -56.6929L-4.44437 -66.4218\" stroke=\"black\"/>\n",
       " <g stroke-linecap=\"butt\" stroke-dasharray=\"none\">\n",
       "  <path d=\"M-7.85661 -67.6118L0 -70.8661L-3.25432 -63.0095L-4.44437 -66.4218Z\" fill=\"black\"/>\n",
       " </g>\n",
       " <g transform=\"matrix(1.000000,0.000000,0.000000,1.000000,-17.007874,-59.527559)\">\n",
       "  <path d=\"M0.33873 -0M1.16563 -2.17186C1.16563 -3.79577 1.98257 -4.2142 2.51059 -4.2142C2.60025 -4.2142 3.2279 -4.20423 3.57659 -3.84558C3.16812 -3.81569 3.10834 -3.51681 3.10834 -3.3873C3.10834 -3.12827 3.28767 -2.92902 3.56663 -2.92902C3.82565 -2.92902 4.02491 -3.09838 4.02491 -3.39726C4.02491 -4.07472 3.26775 -4.46326 2.50062 -4.46326C1.25529 -4.46326 0.33873 -3.3873 0.33873 -2.15193C0.33873 -0.876712 1.32503 0.109589 2.4807 0.109589C3.81569 0.109589 4.1345 -1.08593 4.1345 -1.18555C4.1345 -1.28518 4.03487 -1.28518 4.00498 -1.28518C3.91532 -1.28518 3.89539 -1.24533 3.87547 -1.18555C3.58655 -0.259029 2.93898 -0.139477 2.57036 -0.139477C2.04234 -0.139477 1.16563 -0.56787 1.16563 -2.17186ZM1.16563 -2.17186\" fill=\"black\"/>\n",
       " </g>\n",
       " <path d=\"M0 -85.0394L0 -113.386\" stroke=\"black\"/>\n",
       " <path d=\"M28.3465 -85.0394L28.3465 -113.386\" stroke=\"black\"/>\n",
       " <path d=\"M2.83465 -99.2126L2.83464 -99.2175A2.83465 2.83465 0 0 0 -2.83465 -99.2126A2.83465 2.83465 0 0 0 2.83464 -99.2077Z\" fill=\"black\"/>\n",
       " <path d=\"M0 -99.2126L-9.72886 -108.941\" stroke=\"black\"/>\n",
       " <g stroke-linecap=\"butt\" stroke-dasharray=\"none\">\n",
       "  <path d=\"M-10.9189 -105.529L-14.1732 -113.386L-6.31661 -110.132L-9.72886 -108.941Z\" fill=\"black\"/>\n",
       " </g>\n",
       " <g transform=\"matrix(1.000000,0.000000,0.000000,1.000000,-17.007874,-99.212598)\">\n",
       "  <path d=\"M0.33873 -0M3.7858 -0.547945L3.7858 0.109589L5.25031 -0L5.25031 -0.308842C4.55293 -0.308842 4.47323 -0.37858 4.47323 -0.86675L4.47323 -6.91407L3.03861 -6.80448L3.03861 -6.49564C3.73599 -6.49564 3.81569 -6.4259 3.81569 -5.93773L3.81569 -3.7858C3.52677 -4.14446 3.09838 -4.40349 2.5604 -4.40349C1.38481 -4.40349 0.33873 -3.42715 0.33873 -2.14197C0.33873 -0.876712 1.31507 0.109589 2.45081 0.109589C3.08842 0.109589 3.53674 -0.229141 3.7858 -0.547945ZM3.7858 -0.547945M3.7858 -3.21793L3.7858 -1.17559C3.7858 -0.996264 3.7858 -0.976339 3.67621 -0.806974C3.37733 -0.328767 2.92902 -0.109589 2.50062 -0.109589C2.0523 -0.109589 1.69365 -0.368618 1.45455 -0.747198C1.19552 -1.15567 1.16563 -1.72354 1.16563 -2.132C1.16563 -2.50062 1.18555 -3.09838 1.47447 -3.5467C1.68369 -3.85554 2.06227 -4.18431 2.60025 -4.18431C2.94894 -4.18431 3.36737 -4.03487 3.67621 -3.58655C3.7858 -3.41719 3.7858 -3.39726 3.7858 -3.21793ZM3.7858 -3.21793\" fill=\"black\"/>\n",
       " </g>\n",
       "</svg>\n"
      ],
      "text/plain": [
       "<pyx.canvas.canvas at 0x181f099080>"
      ]
     },
     "metadata": {},
     "output_type": "display_data"
    },
    {
     "data": {
      "image/png": "[encoded data removed]",
      "image/svg+xml": [
       "<?xml version=\"1.0\" encoding=\"utf-8\"?>\n",
       "<svg xmlns=\"http://www.w3.org/2000/svg\" fill=\"none\" version=\"1.1\" viewBox=\"-18.0079 -114.386 64.2277 115.386\" x=\"-18.0079pt\" y=\"-114.386pt\" width=\"64.2277pt\" height=\"115.386pt\" stroke-width=\"0.566929\" stroke-miterlimit=\"10.000000\">\n",
       " <path d=\"M0 -0L0 -28.3465\" stroke=\"black\"/>\n",
       " <path d=\"M28.3465 -0L28.3465 -28.3465\" stroke=\"black\"/>\n",
       " <path d=\"M31.1811 -14.1732L31.1811 -14.1782A2.83465 2.83465 0 0 0 25.5118 -14.1732A2.83465 2.83465 0 0 0 31.1811 -14.1683Z\" fill=\"black\"/>\n",
       " <path d=\"M42.5197 -0L32.7908 -9.72886\" stroke=\"black\"/>\n",
       " <g stroke-linecap=\"butt\" stroke-dasharray=\"none\">\n",
       "  <path d=\"M31.6008 -6.31661L28.3465 -14.1732L36.2031 -10.9189L32.7908 -9.72886Z\" fill=\"black\"/>\n",
       " </g>\n",
       " <g transform=\"matrix(1.000000,0.000000,0.000000,1.000000,39.685039,-2.834646)\">\n",
       "  <path d=\"M0.418431 -0M3.31756 -0.757161C3.35741 -0.358655 3.6264 0.0597758 4.09465 0.0597758C4.30386 0.0597758 4.91158 -0.0797011 4.91158 -0.886675L4.91158 -1.44458L4.66252 -1.44458L4.66252 -0.886675C4.66252 -0.308842 4.41345 -0.249066 4.30386 -0.249066C3.97509 -0.249066 3.93524 -0.697385 3.93524 -0.747198L3.93524 -2.73973C3.93524 -3.15816 3.93524 -3.5467 3.57659 -3.91532C3.18804 -4.30386 2.68991 -4.46326 2.21171 -4.46326C1.39477 -4.46326 0.707347 -3.99502 0.707347 -3.33748C0.707347 -3.03861 0.9066 -2.86924 1.16563 -2.86924C1.44458 -2.86924 1.62391 -3.06849 1.62391 -3.32752C1.62391 -3.44707 1.5741 -3.77584 1.11582 -3.7858C1.38481 -4.1345 1.87298 -4.24408 2.19178 -4.24408C2.67995 -4.24408 3.24782 -3.85554 3.24782 -2.96887L3.24782 -2.60025C2.73973 -2.57036 2.04234 -2.54047 1.41469 -2.24159C0.667497 -1.90286 0.418431 -1.38481 0.418431 -0.946451C0.418431 -0.139477 1.38481 0.109589 2.01245 0.109589C2.66999 0.109589 3.12827 -0.288917 3.31756 -0.757161ZM3.31756 -0.757161M3.24782 -2.39103L3.24782 -1.39477C3.24782 -0.448319 2.53051 -0.109589 2.08219 -0.109589C1.59402 -0.109589 1.18555 -0.458281 1.18555 -0.956413C1.18555 -1.50436 1.60399 -2.33126 3.24782 -2.39103ZM3.24782 -2.39103\" fill=\"black\"/>\n",
       " </g>\n",
       " <path d=\"M0 -28.3465L0 -56.6929\" stroke=\"black\"/>\n",
       " <path d=\"M28.3465 -28.3465L28.3465 -56.6929\" stroke=\"black\"/>\n",
       " <path d=\"M2.83465 -42.5197L2.83464 -42.5246A2.83465 2.83465 0 0 0 -2.83465 -42.5197A2.83465 2.83465 0 0 0 2.83464 -42.5147Z\" fill=\"black\"/>\n",
       " <path d=\"M-14.1732 -28.3465L-4.44437 -38.0753\" stroke=\"black\"/>\n",
       " <g stroke-linecap=\"butt\" stroke-dasharray=\"none\">\n",
       "  <path d=\"M-7.85661 -39.2654L0 -42.5197L-3.25432 -34.6631L-4.44437 -38.0753Z\" fill=\"black\"/>\n",
       " </g>\n",
       " <g transform=\"matrix(1.000000,0.000000,0.000000,1.000000,-17.007874,-31.181102)\">\n",
       "  <path d=\"M0.278954 -0M1.71357 -3.75592L1.71357 -6.91407L0.278954 -6.80448L0.278954 -6.49564C0.976339 -6.49564 1.05604 -6.4259 1.05604 -5.93773L1.05604 -0L1.30511 -0C1.31507 -0.00996264 1.39477 -0.14944 1.66376 -0.617684C1.8132 -0.388543 2.23163 0.109589 2.96887 0.109589C4.15442 0.109589 5.19054 -0.86675 5.19054 -2.15193C5.19054 -3.41719 4.2142 -4.40349 3.07846 -4.40349C2.30137 -4.40349 1.87298 -3.93524 1.71357 -3.75592ZM1.71357 -3.75592M1.74346 -1.13574L1.74346 -3.18804C1.74346 -3.37733 1.74346 -3.3873 1.85305 -3.5467C2.24159 -4.10461 2.78954 -4.18431 3.02864 -4.18431C3.47696 -4.18431 3.83562 -3.92528 4.07472 -3.5467C4.33375 -3.13823 4.36364 -2.57036 4.36364 -2.16189C4.36364 -1.79328 4.34371 -1.19552 4.05479 -0.747198C3.84558 -0.438356 3.467 -0.109589 2.92902 -0.109589C2.4807 -0.109589 2.12204 -0.348692 1.88294 -0.71731C1.74346 -0.926526 1.74346 -0.956413 1.74346 -1.13574ZM1.74346 -1.13574\" fill=\"black\"/>\n",
       " </g>\n",
       " <path d=\"M0 -56.6929L0 -85.0394\" stroke=\"black\"/>\n",
       " <path d=\"M28.3465 -56.6929L28.3465 -85.0394\" stroke=\"black\"/>\n",
       " <path d=\"M31.1811 -70.8661L31.1811 -70.8711A2.83465 2.83465 0 0 0 25.5118 -70.8661A2.83465 2.83465 0 0 0 31.1811 -70.8612Z\" fill=\"black\"/>\n",
       " <path d=\"M28.3465 -70.8661L38.0753 -80.595\" stroke=\"black\"/>\n",
       " <g stroke-linecap=\"butt\" stroke-dasharray=\"none\">\n",
       "  <path d=\"M34.6631 -81.7851L42.5197 -85.0394L39.2654 -77.1828L38.0753 -80.595Z\" fill=\"black\"/>\n",
       " </g>\n",
       " <g transform=\"matrix(1.000000,0.000000,0.000000,1.000000,39.685039,-70.866142)\">\n",
       "  <path d=\"M0.33873 -0M1.16563 -2.17186C1.16563 -3.79577 1.98257 -4.2142 2.51059 -4.2142C2.60025 -4.2142 3.2279 -4.20423 3.57659 -3.84558C3.16812 -3.81569 3.10834 -3.51681 3.10834 -3.3873C3.10834 -3.12827 3.28767 -2.92902 3.56663 -2.92902C3.82565 -2.92902 4.02491 -3.09838 4.02491 -3.39726C4.02491 -4.07472 3.26775 -4.46326 2.50062 -4.46326C1.25529 -4.46326 0.33873 -3.3873 0.33873 -2.15193C0.33873 -0.876712 1.32503 0.109589 2.4807 0.109589C3.81569 0.109589 4.1345 -1.08593 4.1345 -1.18555C4.1345 -1.28518 4.03487 -1.28518 4.00498 -1.28518C3.91532 -1.28518 3.89539 -1.24533 3.87547 -1.18555C3.58655 -0.259029 2.93898 -0.139477 2.57036 -0.139477C2.04234 -0.139477 1.16563 -0.56787 1.16563 -2.17186ZM1.16563 -2.17186\" fill=\"black\"/>\n",
       " </g>\n",
       " <path d=\"M0 -85.0394L0 -113.386\" stroke=\"black\"/>\n",
       " <path d=\"M28.3465 -85.0394L28.3465 -113.386\" stroke=\"black\"/>\n",
       " <path d=\"M31.1811 -99.2126L31.1811 -99.2175A2.83465 2.83465 0 0 0 25.5118 -99.2126A2.83465 2.83465 0 0 0 31.1811 -99.2077Z\" fill=\"black\"/>\n",
       " <path d=\"M42.5197 -85.0394L32.7908 -94.7682\" stroke=\"black\"/>\n",
       " <g stroke-linecap=\"butt\" stroke-dasharray=\"none\">\n",
       "  <path d=\"M31.6008 -91.356L28.3465 -99.2126L36.2031 -95.9583L32.7908 -94.7682Z\" fill=\"black\"/>\n",
       " </g>\n",
       " <g transform=\"matrix(1.000000,0.000000,0.000000,1.000000,39.685039,-87.874016)\">\n",
       "  <path d=\"M0.33873 -0M3.7858 -0.547945L3.7858 0.109589L5.25031 -0L5.25031 -0.308842C4.55293 -0.308842 4.47323 -0.37858 4.47323 -0.86675L4.47323 -6.91407L3.03861 -6.80448L3.03861 -6.49564C3.73599 -6.49564 3.81569 -6.4259 3.81569 -5.93773L3.81569 -3.7858C3.52677 -4.14446 3.09838 -4.40349 2.5604 -4.40349C1.38481 -4.40349 0.33873 -3.42715 0.33873 -2.14197C0.33873 -0.876712 1.31507 0.109589 2.45081 0.109589C3.08842 0.109589 3.53674 -0.229141 3.7858 -0.547945ZM3.7858 -0.547945M3.7858 -3.21793L3.7858 -1.17559C3.7858 -0.996264 3.7858 -0.976339 3.67621 -0.806974C3.37733 -0.328767 2.92902 -0.109589 2.50062 -0.109589C2.0523 -0.109589 1.69365 -0.368618 1.45455 -0.747198C1.19552 -1.15567 1.16563 -1.72354 1.16563 -2.132C1.16563 -2.50062 1.18555 -3.09838 1.47447 -3.5467C1.68369 -3.85554 2.06227 -4.18431 2.60025 -4.18431C2.94894 -4.18431 3.36737 -4.03487 3.67621 -3.58655C3.7858 -3.41719 3.7858 -3.39726 3.7858 -3.21793ZM3.7858 -3.21793\" fill=\"black\"/>\n",
       " </g>\n",
       "</svg>\n"
      ],
      "text/plain": [
       "<pyx.canvas.canvas at 0x181ed19780>"
      ]
     },
     "metadata": {},
     "output_type": "display_data"
    },
    {
     "data": {
      "image/png": "[encoded data removed]",
      "image/svg+xml": [
       "<?xml version=\"1.0\" encoding=\"utf-8\"?>\n",
       "<svg xmlns=\"http://www.w3.org/2000/svg\" fill=\"none\" version=\"1.1\" viewBox=\"-18.0079 -114.386 64.2277 115.386\" x=\"-18.0079pt\" y=\"-114.386pt\" width=\"64.2277pt\" height=\"115.386pt\" stroke-width=\"0.566929\" stroke-miterlimit=\"10.000000\">\n",
       " <path d=\"M0 -0L0 -28.3465\" stroke=\"black\"/>\n",
       " <path d=\"M28.3465 -0L28.3465 -28.3465\" stroke=\"black\"/>\n",
       " <path d=\"M31.1811 -14.1732L31.1811 -14.1782A2.83465 2.83465 0 0 0 25.5118 -14.1732A2.83465 2.83465 0 0 0 31.1811 -14.1683Z\" fill=\"black\"/>\n",
       " <path d=\"M42.5197 -0L32.7908 -9.72886\" stroke=\"black\"/>\n",
       " <g stroke-linecap=\"butt\" stroke-dasharray=\"none\">\n",
       "  <path d=\"M31.6008 -6.31661L28.3465 -14.1732L36.2031 -10.9189L32.7908 -9.72886Z\" fill=\"black\"/>\n",
       " </g>\n",
       " <g transform=\"matrix(1.000000,0.000000,0.000000,1.000000,39.685039,-2.834646)\">\n",
       "  <path d=\"M0.418431 -0M3.31756 -0.757161C3.35741 -0.358655 3.6264 0.0597758 4.09465 0.0597758C4.30386 0.0597758 4.91158 -0.0797011 4.91158 -0.886675L4.91158 -1.44458L4.66252 -1.44458L4.66252 -0.886675C4.66252 -0.308842 4.41345 -0.249066 4.30386 -0.249066C3.97509 -0.249066 3.93524 -0.697385 3.93524 -0.747198L3.93524 -2.73973C3.93524 -3.15816 3.93524 -3.5467 3.57659 -3.91532C3.18804 -4.30386 2.68991 -4.46326 2.21171 -4.46326C1.39477 -4.46326 0.707347 -3.99502 0.707347 -3.33748C0.707347 -3.03861 0.9066 -2.86924 1.16563 -2.86924C1.44458 -2.86924 1.62391 -3.06849 1.62391 -3.32752C1.62391 -3.44707 1.5741 -3.77584 1.11582 -3.7858C1.38481 -4.1345 1.87298 -4.24408 2.19178 -4.24408C2.67995 -4.24408 3.24782 -3.85554 3.24782 -2.96887L3.24782 -2.60025C2.73973 -2.57036 2.04234 -2.54047 1.41469 -2.24159C0.667497 -1.90286 0.418431 -1.38481 0.418431 -0.946451C0.418431 -0.139477 1.38481 0.109589 2.01245 0.109589C2.66999 0.109589 3.12827 -0.288917 3.31756 -0.757161ZM3.31756 -0.757161M3.24782 -2.39103L3.24782 -1.39477C3.24782 -0.448319 2.53051 -0.109589 2.08219 -0.109589C1.59402 -0.109589 1.18555 -0.458281 1.18555 -0.956413C1.18555 -1.50436 1.60399 -2.33126 3.24782 -2.39103ZM3.24782 -2.39103\" fill=\"black\"/>\n",
       " </g>\n",
       " <path d=\"M0 -28.3465L0 -56.6929\" stroke=\"black\"/>\n",
       " <path d=\"M28.3465 -28.3465L28.3465 -56.6929\" stroke=\"black\"/>\n",
       " <path d=\"M31.1811 -42.5197L31.1811 -42.5246A2.83465 2.83465 0 0 0 25.5118 -42.5197A2.83465 2.83465 0 0 0 31.1811 -42.5147Z\" fill=\"black\"/>\n",
       " <path d=\"M28.3465 -42.5197L38.0753 -52.2485\" stroke=\"black\"/>\n",
       " <g stroke-linecap=\"butt\" stroke-dasharray=\"none\">\n",
       "  <path d=\"M34.6631 -53.4386L42.5197 -56.6929L39.2654 -48.8363L38.0753 -52.2485Z\" fill=\"black\"/>\n",
       " </g>\n",
       " <g transform=\"matrix(1.000000,0.000000,0.000000,1.000000,39.685039,-42.519685)\">\n",
       "  <path d=\"M0.278954 -0M1.71357 -3.75592L1.71357 -6.91407L0.278954 -6.80448L0.278954 -6.49564C0.976339 -6.49564 1.05604 -6.4259 1.05604 -5.93773L1.05604 -0L1.30511 -0C1.31507 -0.00996264 1.39477 -0.14944 1.66376 -0.617684C1.8132 -0.388543 2.23163 0.109589 2.96887 0.109589C4.15442 0.109589 5.19054 -0.86675 5.19054 -2.15193C5.19054 -3.41719 4.2142 -4.40349 3.07846 -4.40349C2.30137 -4.40349 1.87298 -3.93524 1.71357 -3.75592ZM1.71357 -3.75592M1.74346 -1.13574L1.74346 -3.18804C1.74346 -3.37733 1.74346 -3.3873 1.85305 -3.5467C2.24159 -4.10461 2.78954 -4.18431 3.02864 -4.18431C3.47696 -4.18431 3.83562 -3.92528 4.07472 -3.5467C4.33375 -3.13823 4.36364 -2.57036 4.36364 -2.16189C4.36364 -1.79328 4.34371 -1.19552 4.05479 -0.747198C3.84558 -0.438356 3.467 -0.109589 2.92902 -0.109589C2.4807 -0.109589 2.12204 -0.348692 1.88294 -0.71731C1.74346 -0.926526 1.74346 -0.956413 1.74346 -1.13574ZM1.74346 -1.13574\" fill=\"black\"/>\n",
       " </g>\n",
       " <path d=\"M0 -56.6929L0 -85.0394\" stroke=\"black\"/>\n",
       " <path d=\"M28.3465 -56.6929L28.3465 -85.0394\" stroke=\"black\"/>\n",
       " <path d=\"M2.83465 -70.8661L2.83464 -70.8711A2.83465 2.83465 0 0 0 -2.83465 -70.8661A2.83465 2.83465 0 0 0 2.83464 -70.8612Z\" fill=\"black\"/>\n",
       " <path d=\"M-14.1732 -56.6929L-4.44437 -66.4218\" stroke=\"black\"/>\n",
       " <g stroke-linecap=\"butt\" stroke-dasharray=\"none\">\n",
       "  <path d=\"M-7.85661 -67.6118L0 -70.8661L-3.25432 -63.0095L-4.44437 -66.4218Z\" fill=\"black\"/>\n",
       " </g>\n",
       " <g transform=\"matrix(1.000000,0.000000,0.000000,1.000000,-17.007874,-59.527559)\">\n",
       "  <path d=\"M0.33873 -0M1.16563 -2.17186C1.16563 -3.79577 1.98257 -4.2142 2.51059 -4.2142C2.60025 -4.2142 3.2279 -4.20423 3.57659 -3.84558C3.16812 -3.81569 3.10834 -3.51681 3.10834 -3.3873C3.10834 -3.12827 3.28767 -2.92902 3.56663 -2.92902C3.82565 -2.92902 4.02491 -3.09838 4.02491 -3.39726C4.02491 -4.07472 3.26775 -4.46326 2.50062 -4.46326C1.25529 -4.46326 0.33873 -3.3873 0.33873 -2.15193C0.33873 -0.876712 1.32503 0.109589 2.4807 0.109589C3.81569 0.109589 4.1345 -1.08593 4.1345 -1.18555C4.1345 -1.28518 4.03487 -1.28518 4.00498 -1.28518C3.91532 -1.28518 3.89539 -1.24533 3.87547 -1.18555C3.58655 -0.259029 2.93898 -0.139477 2.57036 -0.139477C2.04234 -0.139477 1.16563 -0.56787 1.16563 -2.17186ZM1.16563 -2.17186\" fill=\"black\"/>\n",
       " </g>\n",
       " <path d=\"M0 -85.0394L0 -113.386\" stroke=\"black\"/>\n",
       " <path d=\"M28.3465 -85.0394L28.3465 -113.386\" stroke=\"black\"/>\n",
       " <path d=\"M31.1811 -99.2126L31.1811 -99.2175A2.83465 2.83465 0 0 0 25.5118 -99.2126A2.83465 2.83465 0 0 0 31.1811 -99.2077Z\" fill=\"black\"/>\n",
       " <path d=\"M42.5197 -85.0394L32.7908 -94.7682\" stroke=\"black\"/>\n",
       " <g stroke-linecap=\"butt\" stroke-dasharray=\"none\">\n",
       "  <path d=\"M31.6008 -91.356L28.3465 -99.2126L36.2031 -95.9583L32.7908 -94.7682Z\" fill=\"black\"/>\n",
       " </g>\n",
       " <g transform=\"matrix(1.000000,0.000000,0.000000,1.000000,39.685039,-87.874016)\">\n",
       "  <path d=\"M0.33873 -0M3.7858 -0.547945L3.7858 0.109589L5.25031 -0L5.25031 -0.308842C4.55293 -0.308842 4.47323 -0.37858 4.47323 -0.86675L4.47323 -6.91407L3.03861 -6.80448L3.03861 -6.49564C3.73599 -6.49564 3.81569 -6.4259 3.81569 -5.93773L3.81569 -3.7858C3.52677 -4.14446 3.09838 -4.40349 2.5604 -4.40349C1.38481 -4.40349 0.33873 -3.42715 0.33873 -2.14197C0.33873 -0.876712 1.31507 0.109589 2.45081 0.109589C3.08842 0.109589 3.53674 -0.229141 3.7858 -0.547945ZM3.7858 -0.547945M3.7858 -3.21793L3.7858 -1.17559C3.7858 -0.996264 3.7858 -0.976339 3.67621 -0.806974C3.37733 -0.328767 2.92902 -0.109589 2.50062 -0.109589C2.0523 -0.109589 1.69365 -0.368618 1.45455 -0.747198C1.19552 -1.15567 1.16563 -1.72354 1.16563 -2.132C1.16563 -2.50062 1.18555 -3.09838 1.47447 -3.5467C1.68369 -3.85554 2.06227 -4.18431 2.60025 -4.18431C2.94894 -4.18431 3.36737 -4.03487 3.67621 -3.58655C3.7858 -3.41719 3.7858 -3.39726 3.7858 -3.21793ZM3.7858 -3.21793\" fill=\"black\"/>\n",
       " </g>\n",
       "</svg>\n"
      ],
      "text/plain": [
       "<pyx.canvas.canvas at 0x181e46c780>"
      ]
     },
     "metadata": {},
     "output_type": "display_data"
    }
   ],
   "source": [
    "# set the pulse duration and interval of the 4th pulse (re-using pulse intervals for pulses 0-2)\n",
    "d3 = 5\n",
    "t3 = np.array([-d3/2,d3/2])\n",
    "all_pulse_intervals = [t0,t1,t2,t3]\n",
    "# pass pulse intervals to tdfs instance of DG\n",
    "tdfs.efield_times = all_pulse_intervals\n",
    "time_ordered_diagrams = tdfs.get_diagrams([0,100,200,300])\n",
    "tdfs.display_diagrams(time_ordered_diagrams)"
   ]
  },
  {
   "cell_type": "code",
   "execution_count": 15,
   "metadata": {},
   "outputs": [
    {
     "name": "stdout",
     "output_type": "stream",
     "text": [
      "There are  88  diagrams in total\n"
     ]
    }
   ],
   "source": [
    "# and all possibly relevant diagrams can be generated by setting the pulse delays so that all pulses overlap\n",
    "all_diagrams = tdfs.get_diagrams([0,1,2,2])\n",
    "print('There are ',len(all_diagrams),' diagrams in total')"
   ]
  },
  {
   "cell_type": "code",
   "execution_count": 16,
   "metadata": {},
   "outputs": [],
   "source": [
    "# Check in this folder to see 16 individual diagrams\n",
    "tdfs_diagrams_folder = 'TDFS_all_diagrams'\n",
    "os.makedirs(tdfs_diagrams_folder,exist_ok=True)\n",
    "tdfs.save_diagrams(all_diagrams,folder_name=tdfs_diagrams_folder)"
   ]
  },
  {
   "cell_type": "markdown",
   "metadata": {},
   "source": [
    "To play with different cases where only some of the pulses overlap, uncomment and execute any of the following:"
   ]
  },
  {
   "cell_type": "code",
   "execution_count": null,
   "metadata": {},
   "outputs": [],
   "source": [
    "#ab_overlap = tdfs.get_diagrams([0,1,6,12])\n",
    "#bc_overlap = tdfs.get_diagrams([0,5,5,12])\n",
    "#cd_overlap = tdfs.get_diagrams([0,5,10,12])\n",
    "#ab_bc_overlap = tdfs.get_diagrams([0,3,6,12])\n",
    "#ab_cd_overlap = tdfs.get_diagrams([0,1,10,12])\n",
    "# and so on"
   ]
  },
  {
   "cell_type": "markdown",
   "metadata": {},
   "source": [
    "And uncomment the following for the case you want to see"
   ]
  },
  {
   "cell_type": "code",
   "execution_count": null,
   "metadata": {},
   "outputs": [],
   "source": [
    "#tdfs.display_diagrams(ab_overlap) #<--- change the argument of display diagrams to the case you have uncommented and executed"
   ]
  },
  {
   "cell_type": "markdown",
   "metadata": {},
   "source": [
    "# TA"
   ]
  },
  {
   "cell_type": "code",
   "execution_count": 24,
   "metadata": {},
   "outputs": [],
   "source": [
    "ta = DG()\n",
    "ta.set_phase_discrimination([(1,1),(1,0)])\n",
    "pump_interval = t0\n",
    "probe_interval = t1\n",
    "ta.efield_times = [t0,t1]"
   ]
  },
  {
   "cell_type": "markdown",
   "metadata": {},
   "source": [
    "# TA 5th-order corrections"
   ]
  },
  {
   "cell_type": "markdown",
   "metadata": {},
   "source": [
    "## Higher order in pump amplitude"
   ]
  },
  {
   "cell_type": "code",
   "execution_count": null,
   "metadata": {},
   "outputs": [],
   "source": [
    "ta5order_pump = DG()\n",
    "ta5order_pump.set_phase_discrimination([(2,2),(1,0)])\n",
    "ta5order_pump.efield_times = [t0,t1]\n",
    "# Time-ordered diagrams\n",
    "ta5order_pump.get_diagrams([0,100,100])"
   ]
  },
  {
   "cell_type": "markdown",
   "metadata": {},
   "source": [
    "## Higher order in probe amplitude"
   ]
  },
  {
   "cell_type": "code",
   "execution_count": null,
   "metadata": {},
   "outputs": [],
   "source": [
    "ta5order_probe = DG()\n",
    "ta5order_probe.set_phase_discrimination([(1,1),(2,1)])\n",
    "ta5order_probe.efield_times = [t0,t1]\n",
    "ta5order_probe.get_diagrams([0,100,100])"
   ]
  },
  {
   "cell_type": "markdown",
   "metadata": {},
   "source": [
    "# EEI2D"
   ]
  },
  {
   "cell_type": "code",
   "execution_count": null,
   "metadata": {},
   "outputs": [],
   "source": [
    "eei2d = DG()\n",
    "eei2d.set_phase_discrimination([(0,2),(2,0),(1,0)])\n",
    "eei2d.efield_times = [t0,t1,t2,tlo]\n",
    "eei2d.get_diagrams([0,100,200,300])"
   ]
  },
  {
   "cell_type": "markdown",
   "metadata": {},
   "source": [
    "# 2DPE for IR vibrational spectroscopy"
   ]
  },
  {
   "cell_type": "markdown",
   "metadata": {},
   "source": [
    "For IR vibrational spectroscopy, the 'maximum_manifold' should be set to the default of $\\infty$.  In addition, the 'minimum_manifold' should be set to a negative number.  This is because, outside of zero temperature limit, the initial state of the system is a Boltzmann distribution of vibrational occupational states.  The $n=1$ vibrational state can be de-excited once, the $n=2$ vibrational state can be de-excited twice, and so on.  Depending on the ratio of $k_BT/\\hbar\\omega$, where $\\omega$ is the vibrational frequency, the initial distribution will contain appreciable weight in the first $n$ vibrational ladder states.  This information should be used in setting 'minimum_manifold' (see Sec. III, item (4)(a) on pages 4-5 of arXiv:2008.05081 for a discussion about maximum and minimum manifold values).  Here are two examples"
   ]
  },
  {
   "cell_type": "code",
   "execution_count": 17,
   "metadata": {},
   "outputs": [
    {
     "data": {
      "image/png": "[encoded data removed]",
      "image/svg+xml": [
       "<?xml version=\"1.0\" encoding=\"utf-8\"?>\n",
       "<svg xmlns=\"http://www.w3.org/2000/svg\" fill=\"none\" version=\"1.1\" viewBox=\"-18.0079 -86.0394 63.6743 87.0394\" x=\"-18.0079pt\" y=\"-86.0394pt\" width=\"63.6743pt\" height=\"87.0394pt\" stroke-width=\"0.566929\" stroke-miterlimit=\"10.000000\">\n",
       " <path d=\"M0 -0L0 -28.3465\" stroke=\"black\"/>\n",
       " <path d=\"M28.3465 -0L28.3465 -28.3465\" stroke=\"black\"/>\n",
       " <path d=\"M31.1811 -14.1732L31.1811 -14.1782A2.83465 2.83465 0 0 0 25.5118 -14.1732A2.83465 2.83465 0 0 0 31.1811 -14.1683Z\" fill=\"black\"/>\n",
       " <path d=\"M42.5197 -0L32.7908 -9.72886\" stroke=\"black\"/>\n",
       " <g stroke-linecap=\"butt\" stroke-dasharray=\"none\">\n",
       "  <path d=\"M31.6008 -6.31661L28.3465 -14.1732L36.2031 -10.9189L32.7908 -9.72886Z\" fill=\"black\"/>\n",
       " </g>\n",
       " <g transform=\"matrix(1.000000,0.000000,0.000000,1.000000,39.685039,-2.834646)\">\n",
       "  <path d=\"M0.418431 -0M3.31756 -0.757161C3.35741 -0.358655 3.6264 0.0597758 4.09465 0.0597758C4.30386 0.0597758 4.91158 -0.0797011 4.91158 -0.886675L4.91158 -1.44458L4.66252 -1.44458L4.66252 -0.886675C4.66252 -0.308842 4.41345 -0.249066 4.30386 -0.249066C3.97509 -0.249066 3.93524 -0.697385 3.93524 -0.747198L3.93524 -2.73973C3.93524 -3.15816 3.93524 -3.5467 3.57659 -3.91532C3.18804 -4.30386 2.68991 -4.46326 2.21171 -4.46326C1.39477 -4.46326 0.707347 -3.99502 0.707347 -3.33748C0.707347 -3.03861 0.9066 -2.86924 1.16563 -2.86924C1.44458 -2.86924 1.62391 -3.06849 1.62391 -3.32752C1.62391 -3.44707 1.5741 -3.77584 1.11582 -3.7858C1.38481 -4.1345 1.87298 -4.24408 2.19178 -4.24408C2.67995 -4.24408 3.24782 -3.85554 3.24782 -2.96887L3.24782 -2.60025C2.73973 -2.57036 2.04234 -2.54047 1.41469 -2.24159C0.667497 -1.90286 0.418431 -1.38481 0.418431 -0.946451C0.418431 -0.139477 1.38481 0.109589 2.01245 0.109589C2.66999 0.109589 3.12827 -0.288917 3.31756 -0.757161ZM3.31756 -0.757161M3.24782 -2.39103L3.24782 -1.39477C3.24782 -0.448319 2.53051 -0.109589 2.08219 -0.109589C1.59402 -0.109589 1.18555 -0.458281 1.18555 -0.956413C1.18555 -1.50436 1.60399 -2.33126 3.24782 -2.39103ZM3.24782 -2.39103\" fill=\"black\"/>\n",
       " </g>\n",
       " <path d=\"M0 -28.3465L0 -56.6929\" stroke=\"black\"/>\n",
       " <path d=\"M28.3465 -28.3465L28.3465 -56.6929\" stroke=\"black\"/>\n",
       " <path d=\"M2.83465 -42.5197L2.83464 -42.5246A2.83465 2.83465 0 0 0 -2.83465 -42.5197A2.83465 2.83465 0 0 0 2.83464 -42.5147Z\" fill=\"black\"/>\n",
       " <path d=\"M-14.1732 -28.3465L-4.44437 -38.0753\" stroke=\"black\"/>\n",
       " <g stroke-linecap=\"butt\" stroke-dasharray=\"none\">\n",
       "  <path d=\"M-7.85661 -39.2654L0 -42.5197L-3.25432 -34.6631L-4.44437 -38.0753Z\" fill=\"black\"/>\n",
       " </g>\n",
       " <g transform=\"matrix(1.000000,0.000000,0.000000,1.000000,-17.007874,-31.181102)\">\n",
       "  <path d=\"M0.278954 -0M1.71357 -3.75592L1.71357 -6.91407L0.278954 -6.80448L0.278954 -6.49564C0.976339 -6.49564 1.05604 -6.4259 1.05604 -5.93773L1.05604 -0L1.30511 -0C1.31507 -0.00996264 1.39477 -0.14944 1.66376 -0.617684C1.8132 -0.388543 2.23163 0.109589 2.96887 0.109589C4.15442 0.109589 5.19054 -0.86675 5.19054 -2.15193C5.19054 -3.41719 4.2142 -4.40349 3.07846 -4.40349C2.30137 -4.40349 1.87298 -3.93524 1.71357 -3.75592ZM1.71357 -3.75592M1.74346 -1.13574L1.74346 -3.18804C1.74346 -3.37733 1.74346 -3.3873 1.85305 -3.5467C2.24159 -4.10461 2.78954 -4.18431 3.02864 -4.18431C3.47696 -4.18431 3.83562 -3.92528 4.07472 -3.5467C4.33375 -3.13823 4.36364 -2.57036 4.36364 -2.16189C4.36364 -1.79328 4.34371 -1.19552 4.05479 -0.747198C3.84558 -0.438356 3.467 -0.109589 2.92902 -0.109589C2.4807 -0.109589 2.12204 -0.348692 1.88294 -0.71731C1.74346 -0.926526 1.74346 -0.956413 1.74346 -1.13574ZM1.74346 -1.13574\" fill=\"black\"/>\n",
       " </g>\n",
       " <path d=\"M0 -56.6929L0 -85.0394\" stroke=\"black\"/>\n",
       " <path d=\"M28.3465 -56.6929L28.3465 -85.0394\" stroke=\"black\"/>\n",
       " <path d=\"M2.83465 -70.8661L2.83464 -70.8711A2.83465 2.83465 0 0 0 -2.83465 -70.8661A2.83465 2.83465 0 0 0 2.83464 -70.8612Z\" fill=\"black\"/>\n",
       " <path d=\"M-14.1732 -56.6929L-4.44437 -66.4218\" stroke=\"black\"/>\n",
       " <g stroke-linecap=\"butt\" stroke-dasharray=\"none\">\n",
       "  <path d=\"M-7.85661 -67.6118L0 -70.8661L-3.25432 -63.0095L-4.44437 -66.4218Z\" fill=\"black\"/>\n",
       " </g>\n",
       " <g transform=\"matrix(1.000000,0.000000,0.000000,1.000000,-17.007874,-59.527559)\">\n",
       "  <path d=\"M0.33873 -0M1.16563 -2.17186C1.16563 -3.79577 1.98257 -4.2142 2.51059 -4.2142C2.60025 -4.2142 3.2279 -4.20423 3.57659 -3.84558C3.16812 -3.81569 3.10834 -3.51681 3.10834 -3.3873C3.10834 -3.12827 3.28767 -2.92902 3.56663 -2.92902C3.82565 -2.92902 4.02491 -3.09838 4.02491 -3.39726C4.02491 -4.07472 3.26775 -4.46326 2.50062 -4.46326C1.25529 -4.46326 0.33873 -3.3873 0.33873 -2.15193C0.33873 -0.876712 1.32503 0.109589 2.4807 0.109589C3.81569 0.109589 4.1345 -1.08593 4.1345 -1.18555C4.1345 -1.28518 4.03487 -1.28518 4.00498 -1.28518C3.91532 -1.28518 3.89539 -1.24533 3.87547 -1.18555C3.58655 -0.259029 2.93898 -0.139477 2.57036 -0.139477C2.04234 -0.139477 1.16563 -0.56787 1.16563 -2.17186ZM1.16563 -2.17186\" fill=\"black\"/>\n",
       " </g>\n",
       "</svg>\n"
      ],
      "text/plain": [
       "<pyx.canvas.canvas at 0x181eb57470>"
      ]
     },
     "metadata": {},
     "output_type": "display_data"
    },
    {
     "data": {
      "image/png": "[encoded data removed]",
      "image/svg+xml": [
       "<?xml version=\"1.0\" encoding=\"utf-8\"?>\n",
       "<svg xmlns=\"http://www.w3.org/2000/svg\" fill=\"none\" version=\"1.1\" viewBox=\"-18.0079 -86.0394 63.6743 87.0394\" x=\"-18.0079pt\" y=\"-86.0394pt\" width=\"63.6743pt\" height=\"87.0394pt\" stroke-width=\"0.566929\" stroke-miterlimit=\"10.000000\">\n",
       " <path d=\"M0 -0L0 -28.3465\" stroke=\"black\"/>\n",
       " <path d=\"M28.3465 -0L28.3465 -28.3465\" stroke=\"black\"/>\n",
       " <path d=\"M31.1811 -14.1732L31.1811 -14.1782A2.83465 2.83465 0 0 0 25.5118 -14.1732A2.83465 2.83465 0 0 0 31.1811 -14.1683Z\" fill=\"black\"/>\n",
       " <path d=\"M42.5197 -0L32.7908 -9.72886\" stroke=\"black\"/>\n",
       " <g stroke-linecap=\"butt\" stroke-dasharray=\"none\">\n",
       "  <path d=\"M31.6008 -6.31661L28.3465 -14.1732L36.2031 -10.9189L32.7908 -9.72886Z\" fill=\"black\"/>\n",
       " </g>\n",
       " <g transform=\"matrix(1.000000,0.000000,0.000000,1.000000,39.685039,-2.834646)\">\n",
       "  <path d=\"M0.418431 -0M3.31756 -0.757161C3.35741 -0.358655 3.6264 0.0597758 4.09465 0.0597758C4.30386 0.0597758 4.91158 -0.0797011 4.91158 -0.886675L4.91158 -1.44458L4.66252 -1.44458L4.66252 -0.886675C4.66252 -0.308842 4.41345 -0.249066 4.30386 -0.249066C3.97509 -0.249066 3.93524 -0.697385 3.93524 -0.747198L3.93524 -2.73973C3.93524 -3.15816 3.93524 -3.5467 3.57659 -3.91532C3.18804 -4.30386 2.68991 -4.46326 2.21171 -4.46326C1.39477 -4.46326 0.707347 -3.99502 0.707347 -3.33748C0.707347 -3.03861 0.9066 -2.86924 1.16563 -2.86924C1.44458 -2.86924 1.62391 -3.06849 1.62391 -3.32752C1.62391 -3.44707 1.5741 -3.77584 1.11582 -3.7858C1.38481 -4.1345 1.87298 -4.24408 2.19178 -4.24408C2.67995 -4.24408 3.24782 -3.85554 3.24782 -2.96887L3.24782 -2.60025C2.73973 -2.57036 2.04234 -2.54047 1.41469 -2.24159C0.667497 -1.90286 0.418431 -1.38481 0.418431 -0.946451C0.418431 -0.139477 1.38481 0.109589 2.01245 0.109589C2.66999 0.109589 3.12827 -0.288917 3.31756 -0.757161ZM3.31756 -0.757161M3.24782 -2.39103L3.24782 -1.39477C3.24782 -0.448319 2.53051 -0.109589 2.08219 -0.109589C1.59402 -0.109589 1.18555 -0.458281 1.18555 -0.956413C1.18555 -1.50436 1.60399 -2.33126 3.24782 -2.39103ZM3.24782 -2.39103\" fill=\"black\"/>\n",
       " </g>\n",
       " <path d=\"M0 -28.3465L0 -56.6929\" stroke=\"black\"/>\n",
       " <path d=\"M28.3465 -28.3465L28.3465 -56.6929\" stroke=\"black\"/>\n",
       " <path d=\"M2.83465 -42.5197L2.83464 -42.5246A2.83465 2.83465 0 0 0 -2.83465 -42.5197A2.83465 2.83465 0 0 0 2.83464 -42.5147Z\" fill=\"black\"/>\n",
       " <path d=\"M-14.1732 -28.3465L-4.44437 -38.0753\" stroke=\"black\"/>\n",
       " <g stroke-linecap=\"butt\" stroke-dasharray=\"none\">\n",
       "  <path d=\"M-7.85661 -39.2654L0 -42.5197L-3.25432 -34.6631L-4.44437 -38.0753Z\" fill=\"black\"/>\n",
       " </g>\n",
       " <g transform=\"matrix(1.000000,0.000000,0.000000,1.000000,-17.007874,-31.181102)\">\n",
       "  <path d=\"M0.278954 -0M1.71357 -3.75592L1.71357 -6.91407L0.278954 -6.80448L0.278954 -6.49564C0.976339 -6.49564 1.05604 -6.4259 1.05604 -5.93773L1.05604 -0L1.30511 -0C1.31507 -0.00996264 1.39477 -0.14944 1.66376 -0.617684C1.8132 -0.388543 2.23163 0.109589 2.96887 0.109589C4.15442 0.109589 5.19054 -0.86675 5.19054 -2.15193C5.19054 -3.41719 4.2142 -4.40349 3.07846 -4.40349C2.30137 -4.40349 1.87298 -3.93524 1.71357 -3.75592ZM1.71357 -3.75592M1.74346 -1.13574L1.74346 -3.18804C1.74346 -3.37733 1.74346 -3.3873 1.85305 -3.5467C2.24159 -4.10461 2.78954 -4.18431 3.02864 -4.18431C3.47696 -4.18431 3.83562 -3.92528 4.07472 -3.5467C4.33375 -3.13823 4.36364 -2.57036 4.36364 -2.16189C4.36364 -1.79328 4.34371 -1.19552 4.05479 -0.747198C3.84558 -0.438356 3.467 -0.109589 2.92902 -0.109589C2.4807 -0.109589 2.12204 -0.348692 1.88294 -0.71731C1.74346 -0.926526 1.74346 -0.956413 1.74346 -1.13574ZM1.74346 -1.13574\" fill=\"black\"/>\n",
       " </g>\n",
       " <path d=\"M0 -56.6929L0 -85.0394\" stroke=\"black\"/>\n",
       " <path d=\"M28.3465 -56.6929L28.3465 -85.0394\" stroke=\"black\"/>\n",
       " <path d=\"M31.1811 -70.8661L31.1811 -70.8711A2.83465 2.83465 0 0 0 25.5118 -70.8661A2.83465 2.83465 0 0 0 31.1811 -70.8612Z\" fill=\"black\"/>\n",
       " <path d=\"M28.3465 -70.8661L38.0753 -80.595\" stroke=\"black\"/>\n",
       " <g stroke-linecap=\"butt\" stroke-dasharray=\"none\">\n",
       "  <path d=\"M34.6631 -81.7851L42.5197 -85.0394L39.2654 -77.1828L38.0753 -80.595Z\" fill=\"black\"/>\n",
       " </g>\n",
       " <g transform=\"matrix(1.000000,0.000000,0.000000,1.000000,39.685039,-70.866142)\">\n",
       "  <path d=\"M0.33873 -0M1.16563 -2.17186C1.16563 -3.79577 1.98257 -4.2142 2.51059 -4.2142C2.60025 -4.2142 3.2279 -4.20423 3.57659 -3.84558C3.16812 -3.81569 3.10834 -3.51681 3.10834 -3.3873C3.10834 -3.12827 3.28767 -2.92902 3.56663 -2.92902C3.82565 -2.92902 4.02491 -3.09838 4.02491 -3.39726C4.02491 -4.07472 3.26775 -4.46326 2.50062 -4.46326C1.25529 -4.46326 0.33873 -3.3873 0.33873 -2.15193C0.33873 -0.876712 1.32503 0.109589 2.4807 0.109589C3.81569 0.109589 4.1345 -1.08593 4.1345 -1.18555C4.1345 -1.28518 4.03487 -1.28518 4.00498 -1.28518C3.91532 -1.28518 3.89539 -1.24533 3.87547 -1.18555C3.58655 -0.259029 2.93898 -0.139477 2.57036 -0.139477C2.04234 -0.139477 1.16563 -0.56787 1.16563 -2.17186ZM1.16563 -2.17186\" fill=\"black\"/>\n",
       " </g>\n",
       "</svg>\n"
      ],
      "text/plain": [
       "<pyx.canvas.canvas at 0x181ecae4e0>"
      ]
     },
     "metadata": {},
     "output_type": "display_data"
    },
    {
     "data": {
      "image/png": "[encoded data removed]",
      "image/svg+xml": [
       "<?xml version=\"1.0\" encoding=\"utf-8\"?>\n",
       "<svg xmlns=\"http://www.w3.org/2000/svg\" fill=\"none\" version=\"1.1\" viewBox=\"-18.0079 -86.0394 64.2277 87.0394\" x=\"-18.0079pt\" y=\"-86.0394pt\" width=\"64.2277pt\" height=\"87.0394pt\" stroke-width=\"0.566929\" stroke-miterlimit=\"10.000000\">\n",
       " <path d=\"M0 -0L0 -28.3465\" stroke=\"black\"/>\n",
       " <path d=\"M28.3465 -0L28.3465 -28.3465\" stroke=\"black\"/>\n",
       " <path d=\"M31.1811 -14.1732L31.1811 -14.1782A2.83465 2.83465 0 0 0 25.5118 -14.1732A2.83465 2.83465 0 0 0 31.1811 -14.1683Z\" fill=\"black\"/>\n",
       " <path d=\"M42.5197 -0L32.7908 -9.72886\" stroke=\"black\"/>\n",
       " <g stroke-linecap=\"butt\" stroke-dasharray=\"none\">\n",
       "  <path d=\"M31.6008 -6.31661L28.3465 -14.1732L36.2031 -10.9189L32.7908 -9.72886Z\" fill=\"black\"/>\n",
       " </g>\n",
       " <g transform=\"matrix(1.000000,0.000000,0.000000,1.000000,39.685039,-2.834646)\">\n",
       "  <path d=\"M0.418431 -0M3.31756 -0.757161C3.35741 -0.358655 3.6264 0.0597758 4.09465 0.0597758C4.30386 0.0597758 4.91158 -0.0797011 4.91158 -0.886675L4.91158 -1.44458L4.66252 -1.44458L4.66252 -0.886675C4.66252 -0.308842 4.41345 -0.249066 4.30386 -0.249066C3.97509 -0.249066 3.93524 -0.697385 3.93524 -0.747198L3.93524 -2.73973C3.93524 -3.15816 3.93524 -3.5467 3.57659 -3.91532C3.18804 -4.30386 2.68991 -4.46326 2.21171 -4.46326C1.39477 -4.46326 0.707347 -3.99502 0.707347 -3.33748C0.707347 -3.03861 0.9066 -2.86924 1.16563 -2.86924C1.44458 -2.86924 1.62391 -3.06849 1.62391 -3.32752C1.62391 -3.44707 1.5741 -3.77584 1.11582 -3.7858C1.38481 -4.1345 1.87298 -4.24408 2.19178 -4.24408C2.67995 -4.24408 3.24782 -3.85554 3.24782 -2.96887L3.24782 -2.60025C2.73973 -2.57036 2.04234 -2.54047 1.41469 -2.24159C0.667497 -1.90286 0.418431 -1.38481 0.418431 -0.946451C0.418431 -0.139477 1.38481 0.109589 2.01245 0.109589C2.66999 0.109589 3.12827 -0.288917 3.31756 -0.757161ZM3.31756 -0.757161M3.24782 -2.39103L3.24782 -1.39477C3.24782 -0.448319 2.53051 -0.109589 2.08219 -0.109589C1.59402 -0.109589 1.18555 -0.458281 1.18555 -0.956413C1.18555 -1.50436 1.60399 -2.33126 3.24782 -2.39103ZM3.24782 -2.39103\" fill=\"black\"/>\n",
       " </g>\n",
       " <path d=\"M0 -28.3465L0 -56.6929\" stroke=\"black\"/>\n",
       " <path d=\"M28.3465 -28.3465L28.3465 -56.6929\" stroke=\"black\"/>\n",
       " <path d=\"M31.1811 -42.5197L31.1811 -42.5246A2.83465 2.83465 0 0 0 25.5118 -42.5197A2.83465 2.83465 0 0 0 31.1811 -42.5147Z\" fill=\"black\"/>\n",
       " <path d=\"M28.3465 -42.5197L38.0753 -52.2485\" stroke=\"black\"/>\n",
       " <g stroke-linecap=\"butt\" stroke-dasharray=\"none\">\n",
       "  <path d=\"M34.6631 -53.4386L42.5197 -56.6929L39.2654 -48.8363L38.0753 -52.2485Z\" fill=\"black\"/>\n",
       " </g>\n",
       " <g transform=\"matrix(1.000000,0.000000,0.000000,1.000000,39.685039,-42.519685)\">\n",
       "  <path d=\"M0.278954 -0M1.71357 -3.75592L1.71357 -6.91407L0.278954 -6.80448L0.278954 -6.49564C0.976339 -6.49564 1.05604 -6.4259 1.05604 -5.93773L1.05604 -0L1.30511 -0C1.31507 -0.00996264 1.39477 -0.14944 1.66376 -0.617684C1.8132 -0.388543 2.23163 0.109589 2.96887 0.109589C4.15442 0.109589 5.19054 -0.86675 5.19054 -2.15193C5.19054 -3.41719 4.2142 -4.40349 3.07846 -4.40349C2.30137 -4.40349 1.87298 -3.93524 1.71357 -3.75592ZM1.71357 -3.75592M1.74346 -1.13574L1.74346 -3.18804C1.74346 -3.37733 1.74346 -3.3873 1.85305 -3.5467C2.24159 -4.10461 2.78954 -4.18431 3.02864 -4.18431C3.47696 -4.18431 3.83562 -3.92528 4.07472 -3.5467C4.33375 -3.13823 4.36364 -2.57036 4.36364 -2.16189C4.36364 -1.79328 4.34371 -1.19552 4.05479 -0.747198C3.84558 -0.438356 3.467 -0.109589 2.92902 -0.109589C2.4807 -0.109589 2.12204 -0.348692 1.88294 -0.71731C1.74346 -0.926526 1.74346 -0.956413 1.74346 -1.13574ZM1.74346 -1.13574\" fill=\"black\"/>\n",
       " </g>\n",
       " <path d=\"M0 -56.6929L0 -85.0394\" stroke=\"black\"/>\n",
       " <path d=\"M28.3465 -56.6929L28.3465 -85.0394\" stroke=\"black\"/>\n",
       " <path d=\"M2.83465 -70.8661L2.83464 -70.8711A2.83465 2.83465 0 0 0 -2.83465 -70.8661A2.83465 2.83465 0 0 0 2.83464 -70.8612Z\" fill=\"black\"/>\n",
       " <path d=\"M-14.1732 -56.6929L-4.44437 -66.4218\" stroke=\"black\"/>\n",
       " <g stroke-linecap=\"butt\" stroke-dasharray=\"none\">\n",
       "  <path d=\"M-7.85661 -67.6118L0 -70.8661L-3.25432 -63.0095L-4.44437 -66.4218Z\" fill=\"black\"/>\n",
       " </g>\n",
       " <g transform=\"matrix(1.000000,0.000000,0.000000,1.000000,-17.007874,-59.527559)\">\n",
       "  <path d=\"M0.33873 -0M1.16563 -2.17186C1.16563 -3.79577 1.98257 -4.2142 2.51059 -4.2142C2.60025 -4.2142 3.2279 -4.20423 3.57659 -3.84558C3.16812 -3.81569 3.10834 -3.51681 3.10834 -3.3873C3.10834 -3.12827 3.28767 -2.92902 3.56663 -2.92902C3.82565 -2.92902 4.02491 -3.09838 4.02491 -3.39726C4.02491 -4.07472 3.26775 -4.46326 2.50062 -4.46326C1.25529 -4.46326 0.33873 -3.3873 0.33873 -2.15193C0.33873 -0.876712 1.32503 0.109589 2.4807 0.109589C3.81569 0.109589 4.1345 -1.08593 4.1345 -1.18555C4.1345 -1.28518 4.03487 -1.28518 4.00498 -1.28518C3.91532 -1.28518 3.89539 -1.24533 3.87547 -1.18555C3.58655 -0.259029 2.93898 -0.139477 2.57036 -0.139477C2.04234 -0.139477 1.16563 -0.56787 1.16563 -2.17186ZM1.16563 -2.17186\" fill=\"black\"/>\n",
       " </g>\n",
       "</svg>\n"
      ],
      "text/plain": [
       "<pyx.canvas.canvas at 0x181ecae4a8>"
      ]
     },
     "metadata": {},
     "output_type": "display_data"
    },
    {
     "data": {
      "image/png": "[encoded data removed]",
      "image/svg+xml": [
       "<?xml version=\"1.0\" encoding=\"utf-8\"?>\n",
       "<svg xmlns=\"http://www.w3.org/2000/svg\" fill=\"none\" version=\"1.1\" viewBox=\"-1 -86.0394 47.2199 87.0394\" x=\"-1pt\" y=\"-86.0394pt\" width=\"47.2199pt\" height=\"87.0394pt\" stroke-width=\"0.566929\" stroke-miterlimit=\"10.000000\">\n",
       " <path d=\"M0 -0L0 -28.3465\" stroke=\"black\"/>\n",
       " <path d=\"M28.3465 -0L28.3465 -28.3465\" stroke=\"black\"/>\n",
       " <path d=\"M31.1811 -14.1732L31.1811 -14.1782A2.83465 2.83465 0 0 0 25.5118 -14.1732A2.83465 2.83465 0 0 0 31.1811 -14.1683Z\" fill=\"black\"/>\n",
       " <path d=\"M42.5197 -0L32.7908 -9.72886\" stroke=\"black\"/>\n",
       " <g stroke-linecap=\"butt\" stroke-dasharray=\"none\">\n",
       "  <path d=\"M31.6008 -6.31661L28.3465 -14.1732L36.2031 -10.9189L32.7908 -9.72886Z\" fill=\"black\"/>\n",
       " </g>\n",
       " <g transform=\"matrix(1.000000,0.000000,0.000000,1.000000,39.685039,-2.834646)\">\n",
       "  <path d=\"M0.418431 -0M3.31756 -0.757161C3.35741 -0.358655 3.6264 0.0597758 4.09465 0.0597758C4.30386 0.0597758 4.91158 -0.0797011 4.91158 -0.886675L4.91158 -1.44458L4.66252 -1.44458L4.66252 -0.886675C4.66252 -0.308842 4.41345 -0.249066 4.30386 -0.249066C3.97509 -0.249066 3.93524 -0.697385 3.93524 -0.747198L3.93524 -2.73973C3.93524 -3.15816 3.93524 -3.5467 3.57659 -3.91532C3.18804 -4.30386 2.68991 -4.46326 2.21171 -4.46326C1.39477 -4.46326 0.707347 -3.99502 0.707347 -3.33748C0.707347 -3.03861 0.9066 -2.86924 1.16563 -2.86924C1.44458 -2.86924 1.62391 -3.06849 1.62391 -3.32752C1.62391 -3.44707 1.5741 -3.77584 1.11582 -3.7858C1.38481 -4.1345 1.87298 -4.24408 2.19178 -4.24408C2.67995 -4.24408 3.24782 -3.85554 3.24782 -2.96887L3.24782 -2.60025C2.73973 -2.57036 2.04234 -2.54047 1.41469 -2.24159C0.667497 -1.90286 0.418431 -1.38481 0.418431 -0.946451C0.418431 -0.139477 1.38481 0.109589 2.01245 0.109589C2.66999 0.109589 3.12827 -0.288917 3.31756 -0.757161ZM3.31756 -0.757161M3.24782 -2.39103L3.24782 -1.39477C3.24782 -0.448319 2.53051 -0.109589 2.08219 -0.109589C1.59402 -0.109589 1.18555 -0.458281 1.18555 -0.956413C1.18555 -1.50436 1.60399 -2.33126 3.24782 -2.39103ZM3.24782 -2.39103\" fill=\"black\"/>\n",
       " </g>\n",
       " <path d=\"M0 -28.3465L0 -56.6929\" stroke=\"black\"/>\n",
       " <path d=\"M28.3465 -28.3465L28.3465 -56.6929\" stroke=\"black\"/>\n",
       " <path d=\"M31.1811 -42.5197L31.1811 -42.5246A2.83465 2.83465 0 0 0 25.5118 -42.5197A2.83465 2.83465 0 0 0 31.1811 -42.5147Z\" fill=\"black\"/>\n",
       " <path d=\"M28.3465 -42.5197L38.0753 -52.2485\" stroke=\"black\"/>\n",
       " <g stroke-linecap=\"butt\" stroke-dasharray=\"none\">\n",
       "  <path d=\"M34.6631 -53.4386L42.5197 -56.6929L39.2654 -48.8363L38.0753 -52.2485Z\" fill=\"black\"/>\n",
       " </g>\n",
       " <g transform=\"matrix(1.000000,0.000000,0.000000,1.000000,39.685039,-42.519685)\">\n",
       "  <path d=\"M0.278954 -0M1.71357 -3.75592L1.71357 -6.91407L0.278954 -6.80448L0.278954 -6.49564C0.976339 -6.49564 1.05604 -6.4259 1.05604 -5.93773L1.05604 -0L1.30511 -0C1.31507 -0.00996264 1.39477 -0.14944 1.66376 -0.617684C1.8132 -0.388543 2.23163 0.109589 2.96887 0.109589C4.15442 0.109589 5.19054 -0.86675 5.19054 -2.15193C5.19054 -3.41719 4.2142 -4.40349 3.07846 -4.40349C2.30137 -4.40349 1.87298 -3.93524 1.71357 -3.75592ZM1.71357 -3.75592M1.74346 -1.13574L1.74346 -3.18804C1.74346 -3.37733 1.74346 -3.3873 1.85305 -3.5467C2.24159 -4.10461 2.78954 -4.18431 3.02864 -4.18431C3.47696 -4.18431 3.83562 -3.92528 4.07472 -3.5467C4.33375 -3.13823 4.36364 -2.57036 4.36364 -2.16189C4.36364 -1.79328 4.34371 -1.19552 4.05479 -0.747198C3.84558 -0.438356 3.467 -0.109589 2.92902 -0.109589C2.4807 -0.109589 2.12204 -0.348692 1.88294 -0.71731C1.74346 -0.926526 1.74346 -0.956413 1.74346 -1.13574ZM1.74346 -1.13574\" fill=\"black\"/>\n",
       " </g>\n",
       " <path d=\"M0 -56.6929L0 -85.0394\" stroke=\"black\"/>\n",
       " <path d=\"M28.3465 -56.6929L28.3465 -85.0394\" stroke=\"black\"/>\n",
       " <path d=\"M31.1811 -70.8661L31.1811 -70.8711A2.83465 2.83465 0 0 0 25.5118 -70.8661A2.83465 2.83465 0 0 0 31.1811 -70.8612Z\" fill=\"black\"/>\n",
       " <path d=\"M28.3465 -70.8661L38.0753 -80.595\" stroke=\"black\"/>\n",
       " <g stroke-linecap=\"butt\" stroke-dasharray=\"none\">\n",
       "  <path d=\"M34.6631 -81.7851L42.5197 -85.0394L39.2654 -77.1828L38.0753 -80.595Z\" fill=\"black\"/>\n",
       " </g>\n",
       " <g transform=\"matrix(1.000000,0.000000,0.000000,1.000000,39.685039,-70.866142)\">\n",
       "  <path d=\"M0.33873 -0M1.16563 -2.17186C1.16563 -3.79577 1.98257 -4.2142 2.51059 -4.2142C2.60025 -4.2142 3.2279 -4.20423 3.57659 -3.84558C3.16812 -3.81569 3.10834 -3.51681 3.10834 -3.3873C3.10834 -3.12827 3.28767 -2.92902 3.56663 -2.92902C3.82565 -2.92902 4.02491 -3.09838 4.02491 -3.39726C4.02491 -4.07472 3.26775 -4.46326 2.50062 -4.46326C1.25529 -4.46326 0.33873 -3.3873 0.33873 -2.15193C0.33873 -0.876712 1.32503 0.109589 2.4807 0.109589C3.81569 0.109589 4.1345 -1.08593 4.1345 -1.18555C4.1345 -1.28518 4.03487 -1.28518 4.00498 -1.28518C3.91532 -1.28518 3.89539 -1.24533 3.87547 -1.18555C3.58655 -0.259029 2.93898 -0.139477 2.57036 -0.139477C2.04234 -0.139477 1.16563 -0.56787 1.16563 -2.17186ZM1.16563 -2.17186\" fill=\"black\"/>\n",
       " </g>\n",
       "</svg>\n"
      ],
      "text/plain": [
       "<pyx.canvas.canvas at 0x181ecae4e0>"
      ]
     },
     "metadata": {},
     "output_type": "display_data"
    },
    {
     "data": {
      "image/png": "[encoded data removed]",
      "image/svg+xml": [
       "<?xml version=\"1.0\" encoding=\"utf-8\"?>\n",
       "<svg xmlns=\"http://www.w3.org/2000/svg\" fill=\"none\" version=\"1.1\" viewBox=\"-18.0079 -86.0394 47.3543 87.0394\" x=\"-18.0079pt\" y=\"-86.0394pt\" width=\"47.3543pt\" height=\"87.0394pt\" stroke-width=\"0.566929\" stroke-miterlimit=\"10.000000\">\n",
       " <path d=\"M0 -0L0 -28.3465\" stroke=\"black\"/>\n",
       " <path d=\"M28.3465 -0L28.3465 -28.3465\" stroke=\"black\"/>\n",
       " <path d=\"M2.83465 -14.1732L2.83464 -14.1782A2.83465 2.83465 0 0 0 -2.83465 -14.1732A2.83465 2.83465 0 0 0 2.83464 -14.1683Z\" fill=\"black\"/>\n",
       " <path d=\"M0 -14.1732L-9.72886 -23.9021\" stroke=\"black\"/>\n",
       " <g stroke-linecap=\"butt\" stroke-dasharray=\"none\">\n",
       "  <path d=\"M-10.9189 -20.4898L-14.1732 -28.3465L-6.31661 -25.0921L-9.72886 -23.9021Z\" fill=\"black\"/>\n",
       " </g>\n",
       " <g transform=\"matrix(1.000000,0.000000,0.000000,1.000000,-17.007874,-14.173228)\">\n",
       "  <path d=\"M0.418431 -0M3.31756 -0.757161C3.35741 -0.358655 3.6264 0.0597758 4.09465 0.0597758C4.30386 0.0597758 4.91158 -0.0797011 4.91158 -0.886675L4.91158 -1.44458L4.66252 -1.44458L4.66252 -0.886675C4.66252 -0.308842 4.41345 -0.249066 4.30386 -0.249066C3.97509 -0.249066 3.93524 -0.697385 3.93524 -0.747198L3.93524 -2.73973C3.93524 -3.15816 3.93524 -3.5467 3.57659 -3.91532C3.18804 -4.30386 2.68991 -4.46326 2.21171 -4.46326C1.39477 -4.46326 0.707347 -3.99502 0.707347 -3.33748C0.707347 -3.03861 0.9066 -2.86924 1.16563 -2.86924C1.44458 -2.86924 1.62391 -3.06849 1.62391 -3.32752C1.62391 -3.44707 1.5741 -3.77584 1.11582 -3.7858C1.38481 -4.1345 1.87298 -4.24408 2.19178 -4.24408C2.67995 -4.24408 3.24782 -3.85554 3.24782 -2.96887L3.24782 -2.60025C2.73973 -2.57036 2.04234 -2.54047 1.41469 -2.24159C0.667497 -1.90286 0.418431 -1.38481 0.418431 -0.946451C0.418431 -0.139477 1.38481 0.109589 2.01245 0.109589C2.66999 0.109589 3.12827 -0.288917 3.31756 -0.757161ZM3.31756 -0.757161M3.24782 -2.39103L3.24782 -1.39477C3.24782 -0.448319 2.53051 -0.109589 2.08219 -0.109589C1.59402 -0.109589 1.18555 -0.458281 1.18555 -0.956413C1.18555 -1.50436 1.60399 -2.33126 3.24782 -2.39103ZM3.24782 -2.39103\" fill=\"black\"/>\n",
       " </g>\n",
       " <path d=\"M0 -28.3465L0 -56.6929\" stroke=\"black\"/>\n",
       " <path d=\"M28.3465 -28.3465L28.3465 -56.6929\" stroke=\"black\"/>\n",
       " <path d=\"M2.83465 -42.5197L2.83464 -42.5246A2.83465 2.83465 0 0 0 -2.83465 -42.5197A2.83465 2.83465 0 0 0 2.83464 -42.5147Z\" fill=\"black\"/>\n",
       " <path d=\"M-14.1732 -28.3465L-4.44437 -38.0753\" stroke=\"black\"/>\n",
       " <g stroke-linecap=\"butt\" stroke-dasharray=\"none\">\n",
       "  <path d=\"M-7.85661 -39.2654L0 -42.5197L-3.25432 -34.6631L-4.44437 -38.0753Z\" fill=\"black\"/>\n",
       " </g>\n",
       " <g transform=\"matrix(1.000000,0.000000,0.000000,1.000000,-17.007874,-31.181102)\">\n",
       "  <path d=\"M0.278954 -0M1.71357 -3.75592L1.71357 -6.91407L0.278954 -6.80448L0.278954 -6.49564C0.976339 -6.49564 1.05604 -6.4259 1.05604 -5.93773L1.05604 -0L1.30511 -0C1.31507 -0.00996264 1.39477 -0.14944 1.66376 -0.617684C1.8132 -0.388543 2.23163 0.109589 2.96887 0.109589C4.15442 0.109589 5.19054 -0.86675 5.19054 -2.15193C5.19054 -3.41719 4.2142 -4.40349 3.07846 -4.40349C2.30137 -4.40349 1.87298 -3.93524 1.71357 -3.75592ZM1.71357 -3.75592M1.74346 -1.13574L1.74346 -3.18804C1.74346 -3.37733 1.74346 -3.3873 1.85305 -3.5467C2.24159 -4.10461 2.78954 -4.18431 3.02864 -4.18431C3.47696 -4.18431 3.83562 -3.92528 4.07472 -3.5467C4.33375 -3.13823 4.36364 -2.57036 4.36364 -2.16189C4.36364 -1.79328 4.34371 -1.19552 4.05479 -0.747198C3.84558 -0.438356 3.467 -0.109589 2.92902 -0.109589C2.4807 -0.109589 2.12204 -0.348692 1.88294 -0.71731C1.74346 -0.926526 1.74346 -0.956413 1.74346 -1.13574ZM1.74346 -1.13574\" fill=\"black\"/>\n",
       " </g>\n",
       " <path d=\"M0 -56.6929L0 -85.0394\" stroke=\"black\"/>\n",
       " <path d=\"M28.3465 -56.6929L28.3465 -85.0394\" stroke=\"black\"/>\n",
       " <path d=\"M2.83465 -70.8661L2.83464 -70.8711A2.83465 2.83465 0 0 0 -2.83465 -70.8661A2.83465 2.83465 0 0 0 2.83464 -70.8612Z\" fill=\"black\"/>\n",
       " <path d=\"M-14.1732 -56.6929L-4.44437 -66.4218\" stroke=\"black\"/>\n",
       " <g stroke-linecap=\"butt\" stroke-dasharray=\"none\">\n",
       "  <path d=\"M-7.85661 -67.6118L0 -70.8661L-3.25432 -63.0095L-4.44437 -66.4218Z\" fill=\"black\"/>\n",
       " </g>\n",
       " <g transform=\"matrix(1.000000,0.000000,0.000000,1.000000,-17.007874,-59.527559)\">\n",
       "  <path d=\"M0.33873 -0M1.16563 -2.17186C1.16563 -3.79577 1.98257 -4.2142 2.51059 -4.2142C2.60025 -4.2142 3.2279 -4.20423 3.57659 -3.84558C3.16812 -3.81569 3.10834 -3.51681 3.10834 -3.3873C3.10834 -3.12827 3.28767 -2.92902 3.56663 -2.92902C3.82565 -2.92902 4.02491 -3.09838 4.02491 -3.39726C4.02491 -4.07472 3.26775 -4.46326 2.50062 -4.46326C1.25529 -4.46326 0.33873 -3.3873 0.33873 -2.15193C0.33873 -0.876712 1.32503 0.109589 2.4807 0.109589C3.81569 0.109589 4.1345 -1.08593 4.1345 -1.18555C4.1345 -1.28518 4.03487 -1.28518 4.00498 -1.28518C3.91532 -1.28518 3.89539 -1.24533 3.87547 -1.18555C3.58655 -0.259029 2.93898 -0.139477 2.57036 -0.139477C2.04234 -0.139477 1.16563 -0.56787 1.16563 -2.17186ZM1.16563 -2.17186\" fill=\"black\"/>\n",
       " </g>\n",
       "</svg>\n"
      ],
      "text/plain": [
       "<pyx.canvas.canvas at 0x181ec7f550>"
      ]
     },
     "metadata": {},
     "output_type": "display_data"
    },
    {
     "data": {
      "image/png": "[encoded data removed]",
      "image/svg+xml": [
       "<?xml version=\"1.0\" encoding=\"utf-8\"?>\n",
       "<svg xmlns=\"http://www.w3.org/2000/svg\" fill=\"none\" version=\"1.1\" viewBox=\"-18.0079 -86.0394 63.1207 87.0394\" x=\"-18.0079pt\" y=\"-86.0394pt\" width=\"63.1207pt\" height=\"87.0394pt\" stroke-width=\"0.566929\" stroke-miterlimit=\"10.000000\">\n",
       " <path d=\"M0 -0L0 -28.3465\" stroke=\"black\"/>\n",
       " <path d=\"M28.3465 -0L28.3465 -28.3465\" stroke=\"black\"/>\n",
       " <path d=\"M2.83465 -14.1732L2.83464 -14.1782A2.83465 2.83465 0 0 0 -2.83465 -14.1732A2.83465 2.83465 0 0 0 2.83464 -14.1683Z\" fill=\"black\"/>\n",
       " <path d=\"M0 -14.1732L-9.72886 -23.9021\" stroke=\"black\"/>\n",
       " <g stroke-linecap=\"butt\" stroke-dasharray=\"none\">\n",
       "  <path d=\"M-10.9189 -20.4898L-14.1732 -28.3465L-6.31661 -25.0921L-9.72886 -23.9021Z\" fill=\"black\"/>\n",
       " </g>\n",
       " <g transform=\"matrix(1.000000,0.000000,0.000000,1.000000,-17.007874,-14.173228)\">\n",
       "  <path d=\"M0.418431 -0M3.31756 -0.757161C3.35741 -0.358655 3.6264 0.0597758 4.09465 0.0597758C4.30386 0.0597758 4.91158 -0.0797011 4.91158 -0.886675L4.91158 -1.44458L4.66252 -1.44458L4.66252 -0.886675C4.66252 -0.308842 4.41345 -0.249066 4.30386 -0.249066C3.97509 -0.249066 3.93524 -0.697385 3.93524 -0.747198L3.93524 -2.73973C3.93524 -3.15816 3.93524 -3.5467 3.57659 -3.91532C3.18804 -4.30386 2.68991 -4.46326 2.21171 -4.46326C1.39477 -4.46326 0.707347 -3.99502 0.707347 -3.33748C0.707347 -3.03861 0.9066 -2.86924 1.16563 -2.86924C1.44458 -2.86924 1.62391 -3.06849 1.62391 -3.32752C1.62391 -3.44707 1.5741 -3.77584 1.11582 -3.7858C1.38481 -4.1345 1.87298 -4.24408 2.19178 -4.24408C2.67995 -4.24408 3.24782 -3.85554 3.24782 -2.96887L3.24782 -2.60025C2.73973 -2.57036 2.04234 -2.54047 1.41469 -2.24159C0.667497 -1.90286 0.418431 -1.38481 0.418431 -0.946451C0.418431 -0.139477 1.38481 0.109589 2.01245 0.109589C2.66999 0.109589 3.12827 -0.288917 3.31756 -0.757161ZM3.31756 -0.757161M3.24782 -2.39103L3.24782 -1.39477C3.24782 -0.448319 2.53051 -0.109589 2.08219 -0.109589C1.59402 -0.109589 1.18555 -0.458281 1.18555 -0.956413C1.18555 -1.50436 1.60399 -2.33126 3.24782 -2.39103ZM3.24782 -2.39103\" fill=\"black\"/>\n",
       " </g>\n",
       " <path d=\"M0 -28.3465L0 -56.6929\" stroke=\"black\"/>\n",
       " <path d=\"M28.3465 -28.3465L28.3465 -56.6929\" stroke=\"black\"/>\n",
       " <path d=\"M2.83465 -42.5197L2.83464 -42.5246A2.83465 2.83465 0 0 0 -2.83465 -42.5197A2.83465 2.83465 0 0 0 2.83464 -42.5147Z\" fill=\"black\"/>\n",
       " <path d=\"M-14.1732 -28.3465L-4.44437 -38.0753\" stroke=\"black\"/>\n",
       " <g stroke-linecap=\"butt\" stroke-dasharray=\"none\">\n",
       "  <path d=\"M-7.85661 -39.2654L0 -42.5197L-3.25432 -34.6631L-4.44437 -38.0753Z\" fill=\"black\"/>\n",
       " </g>\n",
       " <g transform=\"matrix(1.000000,0.000000,0.000000,1.000000,-17.007874,-31.181102)\">\n",
       "  <path d=\"M0.278954 -0M1.71357 -3.75592L1.71357 -6.91407L0.278954 -6.80448L0.278954 -6.49564C0.976339 -6.49564 1.05604 -6.4259 1.05604 -5.93773L1.05604 -0L1.30511 -0C1.31507 -0.00996264 1.39477 -0.14944 1.66376 -0.617684C1.8132 -0.388543 2.23163 0.109589 2.96887 0.109589C4.15442 0.109589 5.19054 -0.86675 5.19054 -2.15193C5.19054 -3.41719 4.2142 -4.40349 3.07846 -4.40349C2.30137 -4.40349 1.87298 -3.93524 1.71357 -3.75592ZM1.71357 -3.75592M1.74346 -1.13574L1.74346 -3.18804C1.74346 -3.37733 1.74346 -3.3873 1.85305 -3.5467C2.24159 -4.10461 2.78954 -4.18431 3.02864 -4.18431C3.47696 -4.18431 3.83562 -3.92528 4.07472 -3.5467C4.33375 -3.13823 4.36364 -2.57036 4.36364 -2.16189C4.36364 -1.79328 4.34371 -1.19552 4.05479 -0.747198C3.84558 -0.438356 3.467 -0.109589 2.92902 -0.109589C2.4807 -0.109589 2.12204 -0.348692 1.88294 -0.71731C1.74346 -0.926526 1.74346 -0.956413 1.74346 -1.13574ZM1.74346 -1.13574\" fill=\"black\"/>\n",
       " </g>\n",
       " <path d=\"M0 -56.6929L0 -85.0394\" stroke=\"black\"/>\n",
       " <path d=\"M28.3465 -56.6929L28.3465 -85.0394\" stroke=\"black\"/>\n",
       " <path d=\"M31.1811 -70.8661L31.1811 -70.8711A2.83465 2.83465 0 0 0 25.5118 -70.8661A2.83465 2.83465 0 0 0 31.1811 -70.8612Z\" fill=\"black\"/>\n",
       " <path d=\"M28.3465 -70.8661L38.0753 -80.595\" stroke=\"black\"/>\n",
       " <g stroke-linecap=\"butt\" stroke-dasharray=\"none\">\n",
       "  <path d=\"M34.6631 -81.7851L42.5197 -85.0394L39.2654 -77.1828L38.0753 -80.595Z\" fill=\"black\"/>\n",
       " </g>\n",
       " <g transform=\"matrix(1.000000,0.000000,0.000000,1.000000,39.685039,-70.866142)\">\n",
       "  <path d=\"M0.33873 -0M1.16563 -2.17186C1.16563 -3.79577 1.98257 -4.2142 2.51059 -4.2142C2.60025 -4.2142 3.2279 -4.20423 3.57659 -3.84558C3.16812 -3.81569 3.10834 -3.51681 3.10834 -3.3873C3.10834 -3.12827 3.28767 -2.92902 3.56663 -2.92902C3.82565 -2.92902 4.02491 -3.09838 4.02491 -3.39726C4.02491 -4.07472 3.26775 -4.46326 2.50062 -4.46326C1.25529 -4.46326 0.33873 -3.3873 0.33873 -2.15193C0.33873 -0.876712 1.32503 0.109589 2.4807 0.109589C3.81569 0.109589 4.1345 -1.08593 4.1345 -1.18555C4.1345 -1.28518 4.03487 -1.28518 4.00498 -1.28518C3.91532 -1.28518 3.89539 -1.24533 3.87547 -1.18555C3.58655 -0.259029 2.93898 -0.139477 2.57036 -0.139477C2.04234 -0.139477 1.16563 -0.56787 1.16563 -2.17186ZM1.16563 -2.17186\" fill=\"black\"/>\n",
       " </g>\n",
       "</svg>\n"
      ],
      "text/plain": [
       "<pyx.canvas.canvas at 0x11b3b96d8>"
      ]
     },
     "metadata": {},
     "output_type": "display_data"
    },
    {
     "data": {
      "image/png": "[encoded data removed]",
      "image/svg+xml": [
       "<?xml version=\"1.0\" encoding=\"utf-8\"?>\n",
       "<svg xmlns=\"http://www.w3.org/2000/svg\" fill=\"none\" version=\"1.1\" viewBox=\"-18.0079 -86.0394 64.2277 87.0394\" x=\"-18.0079pt\" y=\"-86.0394pt\" width=\"64.2277pt\" height=\"87.0394pt\" stroke-width=\"0.566929\" stroke-miterlimit=\"10.000000\">\n",
       " <path d=\"M0 -0L0 -28.3465\" stroke=\"black\"/>\n",
       " <path d=\"M28.3465 -0L28.3465 -28.3465\" stroke=\"black\"/>\n",
       " <path d=\"M2.83465 -14.1732L2.83464 -14.1782A2.83465 2.83465 0 0 0 -2.83465 -14.1732A2.83465 2.83465 0 0 0 2.83464 -14.1683Z\" fill=\"black\"/>\n",
       " <path d=\"M0 -14.1732L-9.72886 -23.9021\" stroke=\"black\"/>\n",
       " <g stroke-linecap=\"butt\" stroke-dasharray=\"none\">\n",
       "  <path d=\"M-10.9189 -20.4898L-14.1732 -28.3465L-6.31661 -25.0921L-9.72886 -23.9021Z\" fill=\"black\"/>\n",
       " </g>\n",
       " <g transform=\"matrix(1.000000,0.000000,0.000000,1.000000,-17.007874,-14.173228)\">\n",
       "  <path d=\"M0.418431 -0M3.31756 -0.757161C3.35741 -0.358655 3.6264 0.0597758 4.09465 0.0597758C4.30386 0.0597758 4.91158 -0.0797011 4.91158 -0.886675L4.91158 -1.44458L4.66252 -1.44458L4.66252 -0.886675C4.66252 -0.308842 4.41345 -0.249066 4.30386 -0.249066C3.97509 -0.249066 3.93524 -0.697385 3.93524 -0.747198L3.93524 -2.73973C3.93524 -3.15816 3.93524 -3.5467 3.57659 -3.91532C3.18804 -4.30386 2.68991 -4.46326 2.21171 -4.46326C1.39477 -4.46326 0.707347 -3.99502 0.707347 -3.33748C0.707347 -3.03861 0.9066 -2.86924 1.16563 -2.86924C1.44458 -2.86924 1.62391 -3.06849 1.62391 -3.32752C1.62391 -3.44707 1.5741 -3.77584 1.11582 -3.7858C1.38481 -4.1345 1.87298 -4.24408 2.19178 -4.24408C2.67995 -4.24408 3.24782 -3.85554 3.24782 -2.96887L3.24782 -2.60025C2.73973 -2.57036 2.04234 -2.54047 1.41469 -2.24159C0.667497 -1.90286 0.418431 -1.38481 0.418431 -0.946451C0.418431 -0.139477 1.38481 0.109589 2.01245 0.109589C2.66999 0.109589 3.12827 -0.288917 3.31756 -0.757161ZM3.31756 -0.757161M3.24782 -2.39103L3.24782 -1.39477C3.24782 -0.448319 2.53051 -0.109589 2.08219 -0.109589C1.59402 -0.109589 1.18555 -0.458281 1.18555 -0.956413C1.18555 -1.50436 1.60399 -2.33126 3.24782 -2.39103ZM3.24782 -2.39103\" fill=\"black\"/>\n",
       " </g>\n",
       " <path d=\"M0 -28.3465L0 -56.6929\" stroke=\"black\"/>\n",
       " <path d=\"M28.3465 -28.3465L28.3465 -56.6929\" stroke=\"black\"/>\n",
       " <path d=\"M31.1811 -42.5197L31.1811 -42.5246A2.83465 2.83465 0 0 0 25.5118 -42.5197A2.83465 2.83465 0 0 0 31.1811 -42.5147Z\" fill=\"black\"/>\n",
       " <path d=\"M28.3465 -42.5197L38.0753 -52.2485\" stroke=\"black\"/>\n",
       " <g stroke-linecap=\"butt\" stroke-dasharray=\"none\">\n",
       "  <path d=\"M34.6631 -53.4386L42.5197 -56.6929L39.2654 -48.8363L38.0753 -52.2485Z\" fill=\"black\"/>\n",
       " </g>\n",
       " <g transform=\"matrix(1.000000,0.000000,0.000000,1.000000,39.685039,-42.519685)\">\n",
       "  <path d=\"M0.278954 -0M1.71357 -3.75592L1.71357 -6.91407L0.278954 -6.80448L0.278954 -6.49564C0.976339 -6.49564 1.05604 -6.4259 1.05604 -5.93773L1.05604 -0L1.30511 -0C1.31507 -0.00996264 1.39477 -0.14944 1.66376 -0.617684C1.8132 -0.388543 2.23163 0.109589 2.96887 0.109589C4.15442 0.109589 5.19054 -0.86675 5.19054 -2.15193C5.19054 -3.41719 4.2142 -4.40349 3.07846 -4.40349C2.30137 -4.40349 1.87298 -3.93524 1.71357 -3.75592ZM1.71357 -3.75592M1.74346 -1.13574L1.74346 -3.18804C1.74346 -3.37733 1.74346 -3.3873 1.85305 -3.5467C2.24159 -4.10461 2.78954 -4.18431 3.02864 -4.18431C3.47696 -4.18431 3.83562 -3.92528 4.07472 -3.5467C4.33375 -3.13823 4.36364 -2.57036 4.36364 -2.16189C4.36364 -1.79328 4.34371 -1.19552 4.05479 -0.747198C3.84558 -0.438356 3.467 -0.109589 2.92902 -0.109589C2.4807 -0.109589 2.12204 -0.348692 1.88294 -0.71731C1.74346 -0.926526 1.74346 -0.956413 1.74346 -1.13574ZM1.74346 -1.13574\" fill=\"black\"/>\n",
       " </g>\n",
       " <path d=\"M0 -56.6929L0 -85.0394\" stroke=\"black\"/>\n",
       " <path d=\"M28.3465 -56.6929L28.3465 -85.0394\" stroke=\"black\"/>\n",
       " <path d=\"M2.83465 -70.8661L2.83464 -70.8711A2.83465 2.83465 0 0 0 -2.83465 -70.8661A2.83465 2.83465 0 0 0 2.83464 -70.8612Z\" fill=\"black\"/>\n",
       " <path d=\"M-14.1732 -56.6929L-4.44437 -66.4218\" stroke=\"black\"/>\n",
       " <g stroke-linecap=\"butt\" stroke-dasharray=\"none\">\n",
       "  <path d=\"M-7.85661 -67.6118L0 -70.8661L-3.25432 -63.0095L-4.44437 -66.4218Z\" fill=\"black\"/>\n",
       " </g>\n",
       " <g transform=\"matrix(1.000000,0.000000,0.000000,1.000000,-17.007874,-59.527559)\">\n",
       "  <path d=\"M0.33873 -0M1.16563 -2.17186C1.16563 -3.79577 1.98257 -4.2142 2.51059 -4.2142C2.60025 -4.2142 3.2279 -4.20423 3.57659 -3.84558C3.16812 -3.81569 3.10834 -3.51681 3.10834 -3.3873C3.10834 -3.12827 3.28767 -2.92902 3.56663 -2.92902C3.82565 -2.92902 4.02491 -3.09838 4.02491 -3.39726C4.02491 -4.07472 3.26775 -4.46326 2.50062 -4.46326C1.25529 -4.46326 0.33873 -3.3873 0.33873 -2.15193C0.33873 -0.876712 1.32503 0.109589 2.4807 0.109589C3.81569 0.109589 4.1345 -1.08593 4.1345 -1.18555C4.1345 -1.28518 4.03487 -1.28518 4.00498 -1.28518C3.91532 -1.28518 3.89539 -1.24533 3.87547 -1.18555C3.58655 -0.259029 2.93898 -0.139477 2.57036 -0.139477C2.04234 -0.139477 1.16563 -0.56787 1.16563 -2.17186ZM1.16563 -2.17186\" fill=\"black\"/>\n",
       " </g>\n",
       "</svg>\n"
      ],
      "text/plain": [
       "<pyx.canvas.canvas at 0x11b3b9e80>"
      ]
     },
     "metadata": {},
     "output_type": "display_data"
    }
   ],
   "source": [
    "tdpe.maximum_manifold = np.inf\n",
    "tdpe.minimum_manifold = -1\n",
    "tdpe.display_diagrams(tdpe.get_diagrams([0,100,200,200]))"
   ]
  },
  {
   "cell_type": "code",
   "execution_count": 18,
   "metadata": {},
   "outputs": [
    {
     "data": {
      "image/png": "[encoded data removed]",
      "image/svg+xml": [
       "<?xml version=\"1.0\" encoding=\"utf-8\"?>\n",
       "<svg xmlns=\"http://www.w3.org/2000/svg\" fill=\"none\" version=\"1.1\" viewBox=\"-18.0079 -86.0394 63.6743 87.0394\" x=\"-18.0079pt\" y=\"-86.0394pt\" width=\"63.6743pt\" height=\"87.0394pt\" stroke-width=\"0.566929\" stroke-miterlimit=\"10.000000\">\n",
       " <path d=\"M0 -0L0 -28.3465\" stroke=\"black\"/>\n",
       " <path d=\"M28.3465 -0L28.3465 -28.3465\" stroke=\"black\"/>\n",
       " <path d=\"M31.1811 -14.1732L31.1811 -14.1782A2.83465 2.83465 0 0 0 25.5118 -14.1732A2.83465 2.83465 0 0 0 31.1811 -14.1683Z\" fill=\"black\"/>\n",
       " <path d=\"M42.5197 -0L32.7908 -9.72886\" stroke=\"black\"/>\n",
       " <g stroke-linecap=\"butt\" stroke-dasharray=\"none\">\n",
       "  <path d=\"M31.6008 -6.31661L28.3465 -14.1732L36.2031 -10.9189L32.7908 -9.72886Z\" fill=\"black\"/>\n",
       " </g>\n",
       " <g transform=\"matrix(1.000000,0.000000,0.000000,1.000000,39.685039,-2.834646)\">\n",
       "  <path d=\"M0.418431 -0M3.31756 -0.757161C3.35741 -0.358655 3.6264 0.0597758 4.09465 0.0597758C4.30386 0.0597758 4.91158 -0.0797011 4.91158 -0.886675L4.91158 -1.44458L4.66252 -1.44458L4.66252 -0.886675C4.66252 -0.308842 4.41345 -0.249066 4.30386 -0.249066C3.97509 -0.249066 3.93524 -0.697385 3.93524 -0.747198L3.93524 -2.73973C3.93524 -3.15816 3.93524 -3.5467 3.57659 -3.91532C3.18804 -4.30386 2.68991 -4.46326 2.21171 -4.46326C1.39477 -4.46326 0.707347 -3.99502 0.707347 -3.33748C0.707347 -3.03861 0.9066 -2.86924 1.16563 -2.86924C1.44458 -2.86924 1.62391 -3.06849 1.62391 -3.32752C1.62391 -3.44707 1.5741 -3.77584 1.11582 -3.7858C1.38481 -4.1345 1.87298 -4.24408 2.19178 -4.24408C2.67995 -4.24408 3.24782 -3.85554 3.24782 -2.96887L3.24782 -2.60025C2.73973 -2.57036 2.04234 -2.54047 1.41469 -2.24159C0.667497 -1.90286 0.418431 -1.38481 0.418431 -0.946451C0.418431 -0.139477 1.38481 0.109589 2.01245 0.109589C2.66999 0.109589 3.12827 -0.288917 3.31756 -0.757161ZM3.31756 -0.757161M3.24782 -2.39103L3.24782 -1.39477C3.24782 -0.448319 2.53051 -0.109589 2.08219 -0.109589C1.59402 -0.109589 1.18555 -0.458281 1.18555 -0.956413C1.18555 -1.50436 1.60399 -2.33126 3.24782 -2.39103ZM3.24782 -2.39103\" fill=\"black\"/>\n",
       " </g>\n",
       " <path d=\"M0 -28.3465L0 -56.6929\" stroke=\"black\"/>\n",
       " <path d=\"M28.3465 -28.3465L28.3465 -56.6929\" stroke=\"black\"/>\n",
       " <path d=\"M2.83465 -42.5197L2.83464 -42.5246A2.83465 2.83465 0 0 0 -2.83465 -42.5197A2.83465 2.83465 0 0 0 2.83464 -42.5147Z\" fill=\"black\"/>\n",
       " <path d=\"M-14.1732 -28.3465L-4.44437 -38.0753\" stroke=\"black\"/>\n",
       " <g stroke-linecap=\"butt\" stroke-dasharray=\"none\">\n",
       "  <path d=\"M-7.85661 -39.2654L0 -42.5197L-3.25432 -34.6631L-4.44437 -38.0753Z\" fill=\"black\"/>\n",
       " </g>\n",
       " <g transform=\"matrix(1.000000,0.000000,0.000000,1.000000,-17.007874,-31.181102)\">\n",
       "  <path d=\"M0.278954 -0M1.71357 -3.75592L1.71357 -6.91407L0.278954 -6.80448L0.278954 -6.49564C0.976339 -6.49564 1.05604 -6.4259 1.05604 -5.93773L1.05604 -0L1.30511 -0C1.31507 -0.00996264 1.39477 -0.14944 1.66376 -0.617684C1.8132 -0.388543 2.23163 0.109589 2.96887 0.109589C4.15442 0.109589 5.19054 -0.86675 5.19054 -2.15193C5.19054 -3.41719 4.2142 -4.40349 3.07846 -4.40349C2.30137 -4.40349 1.87298 -3.93524 1.71357 -3.75592ZM1.71357 -3.75592M1.74346 -1.13574L1.74346 -3.18804C1.74346 -3.37733 1.74346 -3.3873 1.85305 -3.5467C2.24159 -4.10461 2.78954 -4.18431 3.02864 -4.18431C3.47696 -4.18431 3.83562 -3.92528 4.07472 -3.5467C4.33375 -3.13823 4.36364 -2.57036 4.36364 -2.16189C4.36364 -1.79328 4.34371 -1.19552 4.05479 -0.747198C3.84558 -0.438356 3.467 -0.109589 2.92902 -0.109589C2.4807 -0.109589 2.12204 -0.348692 1.88294 -0.71731C1.74346 -0.926526 1.74346 -0.956413 1.74346 -1.13574ZM1.74346 -1.13574\" fill=\"black\"/>\n",
       " </g>\n",
       " <path d=\"M0 -56.6929L0 -85.0394\" stroke=\"black\"/>\n",
       " <path d=\"M28.3465 -56.6929L28.3465 -85.0394\" stroke=\"black\"/>\n",
       " <path d=\"M2.83465 -70.8661L2.83464 -70.8711A2.83465 2.83465 0 0 0 -2.83465 -70.8661A2.83465 2.83465 0 0 0 2.83464 -70.8612Z\" fill=\"black\"/>\n",
       " <path d=\"M-14.1732 -56.6929L-4.44437 -66.4218\" stroke=\"black\"/>\n",
       " <g stroke-linecap=\"butt\" stroke-dasharray=\"none\">\n",
       "  <path d=\"M-7.85661 -67.6118L0 -70.8661L-3.25432 -63.0095L-4.44437 -66.4218Z\" fill=\"black\"/>\n",
       " </g>\n",
       " <g transform=\"matrix(1.000000,0.000000,0.000000,1.000000,-17.007874,-59.527559)\">\n",
       "  <path d=\"M0.33873 -0M1.16563 -2.17186C1.16563 -3.79577 1.98257 -4.2142 2.51059 -4.2142C2.60025 -4.2142 3.2279 -4.20423 3.57659 -3.84558C3.16812 -3.81569 3.10834 -3.51681 3.10834 -3.3873C3.10834 -3.12827 3.28767 -2.92902 3.56663 -2.92902C3.82565 -2.92902 4.02491 -3.09838 4.02491 -3.39726C4.02491 -4.07472 3.26775 -4.46326 2.50062 -4.46326C1.25529 -4.46326 0.33873 -3.3873 0.33873 -2.15193C0.33873 -0.876712 1.32503 0.109589 2.4807 0.109589C3.81569 0.109589 4.1345 -1.08593 4.1345 -1.18555C4.1345 -1.28518 4.03487 -1.28518 4.00498 -1.28518C3.91532 -1.28518 3.89539 -1.24533 3.87547 -1.18555C3.58655 -0.259029 2.93898 -0.139477 2.57036 -0.139477C2.04234 -0.139477 1.16563 -0.56787 1.16563 -2.17186ZM1.16563 -2.17186\" fill=\"black\"/>\n",
       " </g>\n",
       "</svg>\n"
      ],
      "text/plain": [
       "<pyx.canvas.canvas at 0x181ec7fe48>"
      ]
     },
     "metadata": {},
     "output_type": "display_data"
    },
    {
     "data": {
      "image/png": "[encoded data removed]",
      "image/svg+xml": [
       "<?xml version=\"1.0\" encoding=\"utf-8\"?>\n",
       "<svg xmlns=\"http://www.w3.org/2000/svg\" fill=\"none\" version=\"1.1\" viewBox=\"-18.0079 -86.0394 63.6743 87.0394\" x=\"-18.0079pt\" y=\"-86.0394pt\" width=\"63.6743pt\" height=\"87.0394pt\" stroke-width=\"0.566929\" stroke-miterlimit=\"10.000000\">\n",
       " <path d=\"M0 -0L0 -28.3465\" stroke=\"black\"/>\n",
       " <path d=\"M28.3465 -0L28.3465 -28.3465\" stroke=\"black\"/>\n",
       " <path d=\"M31.1811 -14.1732L31.1811 -14.1782A2.83465 2.83465 0 0 0 25.5118 -14.1732A2.83465 2.83465 0 0 0 31.1811 -14.1683Z\" fill=\"black\"/>\n",
       " <path d=\"M42.5197 -0L32.7908 -9.72886\" stroke=\"black\"/>\n",
       " <g stroke-linecap=\"butt\" stroke-dasharray=\"none\">\n",
       "  <path d=\"M31.6008 -6.31661L28.3465 -14.1732L36.2031 -10.9189L32.7908 -9.72886Z\" fill=\"black\"/>\n",
       " </g>\n",
       " <g transform=\"matrix(1.000000,0.000000,0.000000,1.000000,39.685039,-2.834646)\">\n",
       "  <path d=\"M0.418431 -0M3.31756 -0.757161C3.35741 -0.358655 3.6264 0.0597758 4.09465 0.0597758C4.30386 0.0597758 4.91158 -0.0797011 4.91158 -0.886675L4.91158 -1.44458L4.66252 -1.44458L4.66252 -0.886675C4.66252 -0.308842 4.41345 -0.249066 4.30386 -0.249066C3.97509 -0.249066 3.93524 -0.697385 3.93524 -0.747198L3.93524 -2.73973C3.93524 -3.15816 3.93524 -3.5467 3.57659 -3.91532C3.18804 -4.30386 2.68991 -4.46326 2.21171 -4.46326C1.39477 -4.46326 0.707347 -3.99502 0.707347 -3.33748C0.707347 -3.03861 0.9066 -2.86924 1.16563 -2.86924C1.44458 -2.86924 1.62391 -3.06849 1.62391 -3.32752C1.62391 -3.44707 1.5741 -3.77584 1.11582 -3.7858C1.38481 -4.1345 1.87298 -4.24408 2.19178 -4.24408C2.67995 -4.24408 3.24782 -3.85554 3.24782 -2.96887L3.24782 -2.60025C2.73973 -2.57036 2.04234 -2.54047 1.41469 -2.24159C0.667497 -1.90286 0.418431 -1.38481 0.418431 -0.946451C0.418431 -0.139477 1.38481 0.109589 2.01245 0.109589C2.66999 0.109589 3.12827 -0.288917 3.31756 -0.757161ZM3.31756 -0.757161M3.24782 -2.39103L3.24782 -1.39477C3.24782 -0.448319 2.53051 -0.109589 2.08219 -0.109589C1.59402 -0.109589 1.18555 -0.458281 1.18555 -0.956413C1.18555 -1.50436 1.60399 -2.33126 3.24782 -2.39103ZM3.24782 -2.39103\" fill=\"black\"/>\n",
       " </g>\n",
       " <path d=\"M0 -28.3465L0 -56.6929\" stroke=\"black\"/>\n",
       " <path d=\"M28.3465 -28.3465L28.3465 -56.6929\" stroke=\"black\"/>\n",
       " <path d=\"M2.83465 -42.5197L2.83464 -42.5246A2.83465 2.83465 0 0 0 -2.83465 -42.5197A2.83465 2.83465 0 0 0 2.83464 -42.5147Z\" fill=\"black\"/>\n",
       " <path d=\"M-14.1732 -28.3465L-4.44437 -38.0753\" stroke=\"black\"/>\n",
       " <g stroke-linecap=\"butt\" stroke-dasharray=\"none\">\n",
       "  <path d=\"M-7.85661 -39.2654L0 -42.5197L-3.25432 -34.6631L-4.44437 -38.0753Z\" fill=\"black\"/>\n",
       " </g>\n",
       " <g transform=\"matrix(1.000000,0.000000,0.000000,1.000000,-17.007874,-31.181102)\">\n",
       "  <path d=\"M0.278954 -0M1.71357 -3.75592L1.71357 -6.91407L0.278954 -6.80448L0.278954 -6.49564C0.976339 -6.49564 1.05604 -6.4259 1.05604 -5.93773L1.05604 -0L1.30511 -0C1.31507 -0.00996264 1.39477 -0.14944 1.66376 -0.617684C1.8132 -0.388543 2.23163 0.109589 2.96887 0.109589C4.15442 0.109589 5.19054 -0.86675 5.19054 -2.15193C5.19054 -3.41719 4.2142 -4.40349 3.07846 -4.40349C2.30137 -4.40349 1.87298 -3.93524 1.71357 -3.75592ZM1.71357 -3.75592M1.74346 -1.13574L1.74346 -3.18804C1.74346 -3.37733 1.74346 -3.3873 1.85305 -3.5467C2.24159 -4.10461 2.78954 -4.18431 3.02864 -4.18431C3.47696 -4.18431 3.83562 -3.92528 4.07472 -3.5467C4.33375 -3.13823 4.36364 -2.57036 4.36364 -2.16189C4.36364 -1.79328 4.34371 -1.19552 4.05479 -0.747198C3.84558 -0.438356 3.467 -0.109589 2.92902 -0.109589C2.4807 -0.109589 2.12204 -0.348692 1.88294 -0.71731C1.74346 -0.926526 1.74346 -0.956413 1.74346 -1.13574ZM1.74346 -1.13574\" fill=\"black\"/>\n",
       " </g>\n",
       " <path d=\"M0 -56.6929L0 -85.0394\" stroke=\"black\"/>\n",
       " <path d=\"M28.3465 -56.6929L28.3465 -85.0394\" stroke=\"black\"/>\n",
       " <path d=\"M31.1811 -70.8661L31.1811 -70.8711A2.83465 2.83465 0 0 0 25.5118 -70.8661A2.83465 2.83465 0 0 0 31.1811 -70.8612Z\" fill=\"black\"/>\n",
       " <path d=\"M28.3465 -70.8661L38.0753 -80.595\" stroke=\"black\"/>\n",
       " <g stroke-linecap=\"butt\" stroke-dasharray=\"none\">\n",
       "  <path d=\"M34.6631 -81.7851L42.5197 -85.0394L39.2654 -77.1828L38.0753 -80.595Z\" fill=\"black\"/>\n",
       " </g>\n",
       " <g transform=\"matrix(1.000000,0.000000,0.000000,1.000000,39.685039,-70.866142)\">\n",
       "  <path d=\"M0.33873 -0M1.16563 -2.17186C1.16563 -3.79577 1.98257 -4.2142 2.51059 -4.2142C2.60025 -4.2142 3.2279 -4.20423 3.57659 -3.84558C3.16812 -3.81569 3.10834 -3.51681 3.10834 -3.3873C3.10834 -3.12827 3.28767 -2.92902 3.56663 -2.92902C3.82565 -2.92902 4.02491 -3.09838 4.02491 -3.39726C4.02491 -4.07472 3.26775 -4.46326 2.50062 -4.46326C1.25529 -4.46326 0.33873 -3.3873 0.33873 -2.15193C0.33873 -0.876712 1.32503 0.109589 2.4807 0.109589C3.81569 0.109589 4.1345 -1.08593 4.1345 -1.18555C4.1345 -1.28518 4.03487 -1.28518 4.00498 -1.28518C3.91532 -1.28518 3.89539 -1.24533 3.87547 -1.18555C3.58655 -0.259029 2.93898 -0.139477 2.57036 -0.139477C2.04234 -0.139477 1.16563 -0.56787 1.16563 -2.17186ZM1.16563 -2.17186\" fill=\"black\"/>\n",
       " </g>\n",
       "</svg>\n"
      ],
      "text/plain": [
       "<pyx.canvas.canvas at 0x11b3b9e80>"
      ]
     },
     "metadata": {},
     "output_type": "display_data"
    },
    {
     "data": {
      "image/png": "[encoded data removed]",
      "image/svg+xml": [
       "<?xml version=\"1.0\" encoding=\"utf-8\"?>\n",
       "<svg xmlns=\"http://www.w3.org/2000/svg\" fill=\"none\" version=\"1.1\" viewBox=\"-18.0079 -86.0394 64.2277 87.0394\" x=\"-18.0079pt\" y=\"-86.0394pt\" width=\"64.2277pt\" height=\"87.0394pt\" stroke-width=\"0.566929\" stroke-miterlimit=\"10.000000\">\n",
       " <path d=\"M0 -0L0 -28.3465\" stroke=\"black\"/>\n",
       " <path d=\"M28.3465 -0L28.3465 -28.3465\" stroke=\"black\"/>\n",
       " <path d=\"M31.1811 -14.1732L31.1811 -14.1782A2.83465 2.83465 0 0 0 25.5118 -14.1732A2.83465 2.83465 0 0 0 31.1811 -14.1683Z\" fill=\"black\"/>\n",
       " <path d=\"M42.5197 -0L32.7908 -9.72886\" stroke=\"black\"/>\n",
       " <g stroke-linecap=\"butt\" stroke-dasharray=\"none\">\n",
       "  <path d=\"M31.6008 -6.31661L28.3465 -14.1732L36.2031 -10.9189L32.7908 -9.72886Z\" fill=\"black\"/>\n",
       " </g>\n",
       " <g transform=\"matrix(1.000000,0.000000,0.000000,1.000000,39.685039,-2.834646)\">\n",
       "  <path d=\"M0.418431 -0M3.31756 -0.757161C3.35741 -0.358655 3.6264 0.0597758 4.09465 0.0597758C4.30386 0.0597758 4.91158 -0.0797011 4.91158 -0.886675L4.91158 -1.44458L4.66252 -1.44458L4.66252 -0.886675C4.66252 -0.308842 4.41345 -0.249066 4.30386 -0.249066C3.97509 -0.249066 3.93524 -0.697385 3.93524 -0.747198L3.93524 -2.73973C3.93524 -3.15816 3.93524 -3.5467 3.57659 -3.91532C3.18804 -4.30386 2.68991 -4.46326 2.21171 -4.46326C1.39477 -4.46326 0.707347 -3.99502 0.707347 -3.33748C0.707347 -3.03861 0.9066 -2.86924 1.16563 -2.86924C1.44458 -2.86924 1.62391 -3.06849 1.62391 -3.32752C1.62391 -3.44707 1.5741 -3.77584 1.11582 -3.7858C1.38481 -4.1345 1.87298 -4.24408 2.19178 -4.24408C2.67995 -4.24408 3.24782 -3.85554 3.24782 -2.96887L3.24782 -2.60025C2.73973 -2.57036 2.04234 -2.54047 1.41469 -2.24159C0.667497 -1.90286 0.418431 -1.38481 0.418431 -0.946451C0.418431 -0.139477 1.38481 0.109589 2.01245 0.109589C2.66999 0.109589 3.12827 -0.288917 3.31756 -0.757161ZM3.31756 -0.757161M3.24782 -2.39103L3.24782 -1.39477C3.24782 -0.448319 2.53051 -0.109589 2.08219 -0.109589C1.59402 -0.109589 1.18555 -0.458281 1.18555 -0.956413C1.18555 -1.50436 1.60399 -2.33126 3.24782 -2.39103ZM3.24782 -2.39103\" fill=\"black\"/>\n",
       " </g>\n",
       " <path d=\"M0 -28.3465L0 -56.6929\" stroke=\"black\"/>\n",
       " <path d=\"M28.3465 -28.3465L28.3465 -56.6929\" stroke=\"black\"/>\n",
       " <path d=\"M31.1811 -42.5197L31.1811 -42.5246A2.83465 2.83465 0 0 0 25.5118 -42.5197A2.83465 2.83465 0 0 0 31.1811 -42.5147Z\" fill=\"black\"/>\n",
       " <path d=\"M28.3465 -42.5197L38.0753 -52.2485\" stroke=\"black\"/>\n",
       " <g stroke-linecap=\"butt\" stroke-dasharray=\"none\">\n",
       "  <path d=\"M34.6631 -53.4386L42.5197 -56.6929L39.2654 -48.8363L38.0753 -52.2485Z\" fill=\"black\"/>\n",
       " </g>\n",
       " <g transform=\"matrix(1.000000,0.000000,0.000000,1.000000,39.685039,-42.519685)\">\n",
       "  <path d=\"M0.278954 -0M1.71357 -3.75592L1.71357 -6.91407L0.278954 -6.80448L0.278954 -6.49564C0.976339 -6.49564 1.05604 -6.4259 1.05604 -5.93773L1.05604 -0L1.30511 -0C1.31507 -0.00996264 1.39477 -0.14944 1.66376 -0.617684C1.8132 -0.388543 2.23163 0.109589 2.96887 0.109589C4.15442 0.109589 5.19054 -0.86675 5.19054 -2.15193C5.19054 -3.41719 4.2142 -4.40349 3.07846 -4.40349C2.30137 -4.40349 1.87298 -3.93524 1.71357 -3.75592ZM1.71357 -3.75592M1.74346 -1.13574L1.74346 -3.18804C1.74346 -3.37733 1.74346 -3.3873 1.85305 -3.5467C2.24159 -4.10461 2.78954 -4.18431 3.02864 -4.18431C3.47696 -4.18431 3.83562 -3.92528 4.07472 -3.5467C4.33375 -3.13823 4.36364 -2.57036 4.36364 -2.16189C4.36364 -1.79328 4.34371 -1.19552 4.05479 -0.747198C3.84558 -0.438356 3.467 -0.109589 2.92902 -0.109589C2.4807 -0.109589 2.12204 -0.348692 1.88294 -0.71731C1.74346 -0.926526 1.74346 -0.956413 1.74346 -1.13574ZM1.74346 -1.13574\" fill=\"black\"/>\n",
       " </g>\n",
       " <path d=\"M0 -56.6929L0 -85.0394\" stroke=\"black\"/>\n",
       " <path d=\"M28.3465 -56.6929L28.3465 -85.0394\" stroke=\"black\"/>\n",
       " <path d=\"M2.83465 -70.8661L2.83464 -70.8711A2.83465 2.83465 0 0 0 -2.83465 -70.8661A2.83465 2.83465 0 0 0 2.83464 -70.8612Z\" fill=\"black\"/>\n",
       " <path d=\"M-14.1732 -56.6929L-4.44437 -66.4218\" stroke=\"black\"/>\n",
       " <g stroke-linecap=\"butt\" stroke-dasharray=\"none\">\n",
       "  <path d=\"M-7.85661 -67.6118L0 -70.8661L-3.25432 -63.0095L-4.44437 -66.4218Z\" fill=\"black\"/>\n",
       " </g>\n",
       " <g transform=\"matrix(1.000000,0.000000,0.000000,1.000000,-17.007874,-59.527559)\">\n",
       "  <path d=\"M0.33873 -0M1.16563 -2.17186C1.16563 -3.79577 1.98257 -4.2142 2.51059 -4.2142C2.60025 -4.2142 3.2279 -4.20423 3.57659 -3.84558C3.16812 -3.81569 3.10834 -3.51681 3.10834 -3.3873C3.10834 -3.12827 3.28767 -2.92902 3.56663 -2.92902C3.82565 -2.92902 4.02491 -3.09838 4.02491 -3.39726C4.02491 -4.07472 3.26775 -4.46326 2.50062 -4.46326C1.25529 -4.46326 0.33873 -3.3873 0.33873 -2.15193C0.33873 -0.876712 1.32503 0.109589 2.4807 0.109589C3.81569 0.109589 4.1345 -1.08593 4.1345 -1.18555C4.1345 -1.28518 4.03487 -1.28518 4.00498 -1.28518C3.91532 -1.28518 3.89539 -1.24533 3.87547 -1.18555C3.58655 -0.259029 2.93898 -0.139477 2.57036 -0.139477C2.04234 -0.139477 1.16563 -0.56787 1.16563 -2.17186ZM1.16563 -2.17186\" fill=\"black\"/>\n",
       " </g>\n",
       "</svg>\n"
      ],
      "text/plain": [
       "<pyx.canvas.canvas at 0x181ec7f6d8>"
      ]
     },
     "metadata": {},
     "output_type": "display_data"
    },
    {
     "data": {
      "image/png": "[encoded data removed]",
      "image/svg+xml": [
       "<?xml version=\"1.0\" encoding=\"utf-8\"?>\n",
       "<svg xmlns=\"http://www.w3.org/2000/svg\" fill=\"none\" version=\"1.1\" viewBox=\"-1 -86.0394 47.2199 87.0394\" x=\"-1pt\" y=\"-86.0394pt\" width=\"47.2199pt\" height=\"87.0394pt\" stroke-width=\"0.566929\" stroke-miterlimit=\"10.000000\">\n",
       " <path d=\"M0 -0L0 -28.3465\" stroke=\"black\"/>\n",
       " <path d=\"M28.3465 -0L28.3465 -28.3465\" stroke=\"black\"/>\n",
       " <path d=\"M31.1811 -14.1732L31.1811 -14.1782A2.83465 2.83465 0 0 0 25.5118 -14.1732A2.83465 2.83465 0 0 0 31.1811 -14.1683Z\" fill=\"black\"/>\n",
       " <path d=\"M42.5197 -0L32.7908 -9.72886\" stroke=\"black\"/>\n",
       " <g stroke-linecap=\"butt\" stroke-dasharray=\"none\">\n",
       "  <path d=\"M31.6008 -6.31661L28.3465 -14.1732L36.2031 -10.9189L32.7908 -9.72886Z\" fill=\"black\"/>\n",
       " </g>\n",
       " <g transform=\"matrix(1.000000,0.000000,0.000000,1.000000,39.685039,-2.834646)\">\n",
       "  <path d=\"M0.418431 -0M3.31756 -0.757161C3.35741 -0.358655 3.6264 0.0597758 4.09465 0.0597758C4.30386 0.0597758 4.91158 -0.0797011 4.91158 -0.886675L4.91158 -1.44458L4.66252 -1.44458L4.66252 -0.886675C4.66252 -0.308842 4.41345 -0.249066 4.30386 -0.249066C3.97509 -0.249066 3.93524 -0.697385 3.93524 -0.747198L3.93524 -2.73973C3.93524 -3.15816 3.93524 -3.5467 3.57659 -3.91532C3.18804 -4.30386 2.68991 -4.46326 2.21171 -4.46326C1.39477 -4.46326 0.707347 -3.99502 0.707347 -3.33748C0.707347 -3.03861 0.9066 -2.86924 1.16563 -2.86924C1.44458 -2.86924 1.62391 -3.06849 1.62391 -3.32752C1.62391 -3.44707 1.5741 -3.77584 1.11582 -3.7858C1.38481 -4.1345 1.87298 -4.24408 2.19178 -4.24408C2.67995 -4.24408 3.24782 -3.85554 3.24782 -2.96887L3.24782 -2.60025C2.73973 -2.57036 2.04234 -2.54047 1.41469 -2.24159C0.667497 -1.90286 0.418431 -1.38481 0.418431 -0.946451C0.418431 -0.139477 1.38481 0.109589 2.01245 0.109589C2.66999 0.109589 3.12827 -0.288917 3.31756 -0.757161ZM3.31756 -0.757161M3.24782 -2.39103L3.24782 -1.39477C3.24782 -0.448319 2.53051 -0.109589 2.08219 -0.109589C1.59402 -0.109589 1.18555 -0.458281 1.18555 -0.956413C1.18555 -1.50436 1.60399 -2.33126 3.24782 -2.39103ZM3.24782 -2.39103\" fill=\"black\"/>\n",
       " </g>\n",
       " <path d=\"M0 -28.3465L0 -56.6929\" stroke=\"black\"/>\n",
       " <path d=\"M28.3465 -28.3465L28.3465 -56.6929\" stroke=\"black\"/>\n",
       " <path d=\"M31.1811 -42.5197L31.1811 -42.5246A2.83465 2.83465 0 0 0 25.5118 -42.5197A2.83465 2.83465 0 0 0 31.1811 -42.5147Z\" fill=\"black\"/>\n",
       " <path d=\"M28.3465 -42.5197L38.0753 -52.2485\" stroke=\"black\"/>\n",
       " <g stroke-linecap=\"butt\" stroke-dasharray=\"none\">\n",
       "  <path d=\"M34.6631 -53.4386L42.5197 -56.6929L39.2654 -48.8363L38.0753 -52.2485Z\" fill=\"black\"/>\n",
       " </g>\n",
       " <g transform=\"matrix(1.000000,0.000000,0.000000,1.000000,39.685039,-42.519685)\">\n",
       "  <path d=\"M0.278954 -0M1.71357 -3.75592L1.71357 -6.91407L0.278954 -6.80448L0.278954 -6.49564C0.976339 -6.49564 1.05604 -6.4259 1.05604 -5.93773L1.05604 -0L1.30511 -0C1.31507 -0.00996264 1.39477 -0.14944 1.66376 -0.617684C1.8132 -0.388543 2.23163 0.109589 2.96887 0.109589C4.15442 0.109589 5.19054 -0.86675 5.19054 -2.15193C5.19054 -3.41719 4.2142 -4.40349 3.07846 -4.40349C2.30137 -4.40349 1.87298 -3.93524 1.71357 -3.75592ZM1.71357 -3.75592M1.74346 -1.13574L1.74346 -3.18804C1.74346 -3.37733 1.74346 -3.3873 1.85305 -3.5467C2.24159 -4.10461 2.78954 -4.18431 3.02864 -4.18431C3.47696 -4.18431 3.83562 -3.92528 4.07472 -3.5467C4.33375 -3.13823 4.36364 -2.57036 4.36364 -2.16189C4.36364 -1.79328 4.34371 -1.19552 4.05479 -0.747198C3.84558 -0.438356 3.467 -0.109589 2.92902 -0.109589C2.4807 -0.109589 2.12204 -0.348692 1.88294 -0.71731C1.74346 -0.926526 1.74346 -0.956413 1.74346 -1.13574ZM1.74346 -1.13574\" fill=\"black\"/>\n",
       " </g>\n",
       " <path d=\"M0 -56.6929L0 -85.0394\" stroke=\"black\"/>\n",
       " <path d=\"M28.3465 -56.6929L28.3465 -85.0394\" stroke=\"black\"/>\n",
       " <path d=\"M31.1811 -70.8661L31.1811 -70.8711A2.83465 2.83465 0 0 0 25.5118 -70.8661A2.83465 2.83465 0 0 0 31.1811 -70.8612Z\" fill=\"black\"/>\n",
       " <path d=\"M28.3465 -70.8661L38.0753 -80.595\" stroke=\"black\"/>\n",
       " <g stroke-linecap=\"butt\" stroke-dasharray=\"none\">\n",
       "  <path d=\"M34.6631 -81.7851L42.5197 -85.0394L39.2654 -77.1828L38.0753 -80.595Z\" fill=\"black\"/>\n",
       " </g>\n",
       " <g transform=\"matrix(1.000000,0.000000,0.000000,1.000000,39.685039,-70.866142)\">\n",
       "  <path d=\"M0.33873 -0M1.16563 -2.17186C1.16563 -3.79577 1.98257 -4.2142 2.51059 -4.2142C2.60025 -4.2142 3.2279 -4.20423 3.57659 -3.84558C3.16812 -3.81569 3.10834 -3.51681 3.10834 -3.3873C3.10834 -3.12827 3.28767 -2.92902 3.56663 -2.92902C3.82565 -2.92902 4.02491 -3.09838 4.02491 -3.39726C4.02491 -4.07472 3.26775 -4.46326 2.50062 -4.46326C1.25529 -4.46326 0.33873 -3.3873 0.33873 -2.15193C0.33873 -0.876712 1.32503 0.109589 2.4807 0.109589C3.81569 0.109589 4.1345 -1.08593 4.1345 -1.18555C4.1345 -1.28518 4.03487 -1.28518 4.00498 -1.28518C3.91532 -1.28518 3.89539 -1.24533 3.87547 -1.18555C3.58655 -0.259029 2.93898 -0.139477 2.57036 -0.139477C2.04234 -0.139477 1.16563 -0.56787 1.16563 -2.17186ZM1.16563 -2.17186\" fill=\"black\"/>\n",
       " </g>\n",
       "</svg>\n"
      ],
      "text/plain": [
       "<pyx.canvas.canvas at 0x11b3b9e80>"
      ]
     },
     "metadata": {},
     "output_type": "display_data"
    },
    {
     "data": {
      "image/png": "[encoded data removed]",
      "image/svg+xml": [
       "<?xml version=\"1.0\" encoding=\"utf-8\"?>\n",
       "<svg xmlns=\"http://www.w3.org/2000/svg\" fill=\"none\" version=\"1.1\" viewBox=\"-18.0079 -86.0394 47.3543 87.0394\" x=\"-18.0079pt\" y=\"-86.0394pt\" width=\"47.3543pt\" height=\"87.0394pt\" stroke-width=\"0.566929\" stroke-miterlimit=\"10.000000\">\n",
       " <path d=\"M0 -0L0 -28.3465\" stroke=\"black\"/>\n",
       " <path d=\"M28.3465 -0L28.3465 -28.3465\" stroke=\"black\"/>\n",
       " <path d=\"M2.83465 -14.1732L2.83464 -14.1782A2.83465 2.83465 0 0 0 -2.83465 -14.1732A2.83465 2.83465 0 0 0 2.83464 -14.1683Z\" fill=\"black\"/>\n",
       " <path d=\"M0 -14.1732L-9.72886 -23.9021\" stroke=\"black\"/>\n",
       " <g stroke-linecap=\"butt\" stroke-dasharray=\"none\">\n",
       "  <path d=\"M-10.9189 -20.4898L-14.1732 -28.3465L-6.31661 -25.0921L-9.72886 -23.9021Z\" fill=\"black\"/>\n",
       " </g>\n",
       " <g transform=\"matrix(1.000000,0.000000,0.000000,1.000000,-17.007874,-14.173228)\">\n",
       "  <path d=\"M0.418431 -0M3.31756 -0.757161C3.35741 -0.358655 3.6264 0.0597758 4.09465 0.0597758C4.30386 0.0597758 4.91158 -0.0797011 4.91158 -0.886675L4.91158 -1.44458L4.66252 -1.44458L4.66252 -0.886675C4.66252 -0.308842 4.41345 -0.249066 4.30386 -0.249066C3.97509 -0.249066 3.93524 -0.697385 3.93524 -0.747198L3.93524 -2.73973C3.93524 -3.15816 3.93524 -3.5467 3.57659 -3.91532C3.18804 -4.30386 2.68991 -4.46326 2.21171 -4.46326C1.39477 -4.46326 0.707347 -3.99502 0.707347 -3.33748C0.707347 -3.03861 0.9066 -2.86924 1.16563 -2.86924C1.44458 -2.86924 1.62391 -3.06849 1.62391 -3.32752C1.62391 -3.44707 1.5741 -3.77584 1.11582 -3.7858C1.38481 -4.1345 1.87298 -4.24408 2.19178 -4.24408C2.67995 -4.24408 3.24782 -3.85554 3.24782 -2.96887L3.24782 -2.60025C2.73973 -2.57036 2.04234 -2.54047 1.41469 -2.24159C0.667497 -1.90286 0.418431 -1.38481 0.418431 -0.946451C0.418431 -0.139477 1.38481 0.109589 2.01245 0.109589C2.66999 0.109589 3.12827 -0.288917 3.31756 -0.757161ZM3.31756 -0.757161M3.24782 -2.39103L3.24782 -1.39477C3.24782 -0.448319 2.53051 -0.109589 2.08219 -0.109589C1.59402 -0.109589 1.18555 -0.458281 1.18555 -0.956413C1.18555 -1.50436 1.60399 -2.33126 3.24782 -2.39103ZM3.24782 -2.39103\" fill=\"black\"/>\n",
       " </g>\n",
       " <path d=\"M0 -28.3465L0 -56.6929\" stroke=\"black\"/>\n",
       " <path d=\"M28.3465 -28.3465L28.3465 -56.6929\" stroke=\"black\"/>\n",
       " <path d=\"M2.83465 -42.5197L2.83464 -42.5246A2.83465 2.83465 0 0 0 -2.83465 -42.5197A2.83465 2.83465 0 0 0 2.83464 -42.5147Z\" fill=\"black\"/>\n",
       " <path d=\"M-14.1732 -28.3465L-4.44437 -38.0753\" stroke=\"black\"/>\n",
       " <g stroke-linecap=\"butt\" stroke-dasharray=\"none\">\n",
       "  <path d=\"M-7.85661 -39.2654L0 -42.5197L-3.25432 -34.6631L-4.44437 -38.0753Z\" fill=\"black\"/>\n",
       " </g>\n",
       " <g transform=\"matrix(1.000000,0.000000,0.000000,1.000000,-17.007874,-31.181102)\">\n",
       "  <path d=\"M0.278954 -0M1.71357 -3.75592L1.71357 -6.91407L0.278954 -6.80448L0.278954 -6.49564C0.976339 -6.49564 1.05604 -6.4259 1.05604 -5.93773L1.05604 -0L1.30511 -0C1.31507 -0.00996264 1.39477 -0.14944 1.66376 -0.617684C1.8132 -0.388543 2.23163 0.109589 2.96887 0.109589C4.15442 0.109589 5.19054 -0.86675 5.19054 -2.15193C5.19054 -3.41719 4.2142 -4.40349 3.07846 -4.40349C2.30137 -4.40349 1.87298 -3.93524 1.71357 -3.75592ZM1.71357 -3.75592M1.74346 -1.13574L1.74346 -3.18804C1.74346 -3.37733 1.74346 -3.3873 1.85305 -3.5467C2.24159 -4.10461 2.78954 -4.18431 3.02864 -4.18431C3.47696 -4.18431 3.83562 -3.92528 4.07472 -3.5467C4.33375 -3.13823 4.36364 -2.57036 4.36364 -2.16189C4.36364 -1.79328 4.34371 -1.19552 4.05479 -0.747198C3.84558 -0.438356 3.467 -0.109589 2.92902 -0.109589C2.4807 -0.109589 2.12204 -0.348692 1.88294 -0.71731C1.74346 -0.926526 1.74346 -0.956413 1.74346 -1.13574ZM1.74346 -1.13574\" fill=\"black\"/>\n",
       " </g>\n",
       " <path d=\"M0 -56.6929L0 -85.0394\" stroke=\"black\"/>\n",
       " <path d=\"M28.3465 -56.6929L28.3465 -85.0394\" stroke=\"black\"/>\n",
       " <path d=\"M2.83465 -70.8661L2.83464 -70.8711A2.83465 2.83465 0 0 0 -2.83465 -70.8661A2.83465 2.83465 0 0 0 2.83464 -70.8612Z\" fill=\"black\"/>\n",
       " <path d=\"M-14.1732 -56.6929L-4.44437 -66.4218\" stroke=\"black\"/>\n",
       " <g stroke-linecap=\"butt\" stroke-dasharray=\"none\">\n",
       "  <path d=\"M-7.85661 -67.6118L0 -70.8661L-3.25432 -63.0095L-4.44437 -66.4218Z\" fill=\"black\"/>\n",
       " </g>\n",
       " <g transform=\"matrix(1.000000,0.000000,0.000000,1.000000,-17.007874,-59.527559)\">\n",
       "  <path d=\"M0.33873 -0M1.16563 -2.17186C1.16563 -3.79577 1.98257 -4.2142 2.51059 -4.2142C2.60025 -4.2142 3.2279 -4.20423 3.57659 -3.84558C3.16812 -3.81569 3.10834 -3.51681 3.10834 -3.3873C3.10834 -3.12827 3.28767 -2.92902 3.56663 -2.92902C3.82565 -2.92902 4.02491 -3.09838 4.02491 -3.39726C4.02491 -4.07472 3.26775 -4.46326 2.50062 -4.46326C1.25529 -4.46326 0.33873 -3.3873 0.33873 -2.15193C0.33873 -0.876712 1.32503 0.109589 2.4807 0.109589C3.81569 0.109589 4.1345 -1.08593 4.1345 -1.18555C4.1345 -1.28518 4.03487 -1.28518 4.00498 -1.28518C3.91532 -1.28518 3.89539 -1.24533 3.87547 -1.18555C3.58655 -0.259029 2.93898 -0.139477 2.57036 -0.139477C2.04234 -0.139477 1.16563 -0.56787 1.16563 -2.17186ZM1.16563 -2.17186\" fill=\"black\"/>\n",
       " </g>\n",
       "</svg>\n"
      ],
      "text/plain": [
       "<pyx.canvas.canvas at 0x181ecf0198>"
      ]
     },
     "metadata": {},
     "output_type": "display_data"
    },
    {
     "data": {
      "image/png": "[encoded data removed]",
      "image/svg+xml": [
       "<?xml version=\"1.0\" encoding=\"utf-8\"?>\n",
       "<svg xmlns=\"http://www.w3.org/2000/svg\" fill=\"none\" version=\"1.1\" viewBox=\"-18.0079 -86.0394 63.1207 87.0394\" x=\"-18.0079pt\" y=\"-86.0394pt\" width=\"63.1207pt\" height=\"87.0394pt\" stroke-width=\"0.566929\" stroke-miterlimit=\"10.000000\">\n",
       " <path d=\"M0 -0L0 -28.3465\" stroke=\"black\"/>\n",
       " <path d=\"M28.3465 -0L28.3465 -28.3465\" stroke=\"black\"/>\n",
       " <path d=\"M2.83465 -14.1732L2.83464 -14.1782A2.83465 2.83465 0 0 0 -2.83465 -14.1732A2.83465 2.83465 0 0 0 2.83464 -14.1683Z\" fill=\"black\"/>\n",
       " <path d=\"M0 -14.1732L-9.72886 -23.9021\" stroke=\"black\"/>\n",
       " <g stroke-linecap=\"butt\" stroke-dasharray=\"none\">\n",
       "  <path d=\"M-10.9189 -20.4898L-14.1732 -28.3465L-6.31661 -25.0921L-9.72886 -23.9021Z\" fill=\"black\"/>\n",
       " </g>\n",
       " <g transform=\"matrix(1.000000,0.000000,0.000000,1.000000,-17.007874,-14.173228)\">\n",
       "  <path d=\"M0.418431 -0M3.31756 -0.757161C3.35741 -0.358655 3.6264 0.0597758 4.09465 0.0597758C4.30386 0.0597758 4.91158 -0.0797011 4.91158 -0.886675L4.91158 -1.44458L4.66252 -1.44458L4.66252 -0.886675C4.66252 -0.308842 4.41345 -0.249066 4.30386 -0.249066C3.97509 -0.249066 3.93524 -0.697385 3.93524 -0.747198L3.93524 -2.73973C3.93524 -3.15816 3.93524 -3.5467 3.57659 -3.91532C3.18804 -4.30386 2.68991 -4.46326 2.21171 -4.46326C1.39477 -4.46326 0.707347 -3.99502 0.707347 -3.33748C0.707347 -3.03861 0.9066 -2.86924 1.16563 -2.86924C1.44458 -2.86924 1.62391 -3.06849 1.62391 -3.32752C1.62391 -3.44707 1.5741 -3.77584 1.11582 -3.7858C1.38481 -4.1345 1.87298 -4.24408 2.19178 -4.24408C2.67995 -4.24408 3.24782 -3.85554 3.24782 -2.96887L3.24782 -2.60025C2.73973 -2.57036 2.04234 -2.54047 1.41469 -2.24159C0.667497 -1.90286 0.418431 -1.38481 0.418431 -0.946451C0.418431 -0.139477 1.38481 0.109589 2.01245 0.109589C2.66999 0.109589 3.12827 -0.288917 3.31756 -0.757161ZM3.31756 -0.757161M3.24782 -2.39103L3.24782 -1.39477C3.24782 -0.448319 2.53051 -0.109589 2.08219 -0.109589C1.59402 -0.109589 1.18555 -0.458281 1.18555 -0.956413C1.18555 -1.50436 1.60399 -2.33126 3.24782 -2.39103ZM3.24782 -2.39103\" fill=\"black\"/>\n",
       " </g>\n",
       " <path d=\"M0 -28.3465L0 -56.6929\" stroke=\"black\"/>\n",
       " <path d=\"M28.3465 -28.3465L28.3465 -56.6929\" stroke=\"black\"/>\n",
       " <path d=\"M2.83465 -42.5197L2.83464 -42.5246A2.83465 2.83465 0 0 0 -2.83465 -42.5197A2.83465 2.83465 0 0 0 2.83464 -42.5147Z\" fill=\"black\"/>\n",
       " <path d=\"M-14.1732 -28.3465L-4.44437 -38.0753\" stroke=\"black\"/>\n",
       " <g stroke-linecap=\"butt\" stroke-dasharray=\"none\">\n",
       "  <path d=\"M-7.85661 -39.2654L0 -42.5197L-3.25432 -34.6631L-4.44437 -38.0753Z\" fill=\"black\"/>\n",
       " </g>\n",
       " <g transform=\"matrix(1.000000,0.000000,0.000000,1.000000,-17.007874,-31.181102)\">\n",
       "  <path d=\"M0.278954 -0M1.71357 -3.75592L1.71357 -6.91407L0.278954 -6.80448L0.278954 -6.49564C0.976339 -6.49564 1.05604 -6.4259 1.05604 -5.93773L1.05604 -0L1.30511 -0C1.31507 -0.00996264 1.39477 -0.14944 1.66376 -0.617684C1.8132 -0.388543 2.23163 0.109589 2.96887 0.109589C4.15442 0.109589 5.19054 -0.86675 5.19054 -2.15193C5.19054 -3.41719 4.2142 -4.40349 3.07846 -4.40349C2.30137 -4.40349 1.87298 -3.93524 1.71357 -3.75592ZM1.71357 -3.75592M1.74346 -1.13574L1.74346 -3.18804C1.74346 -3.37733 1.74346 -3.3873 1.85305 -3.5467C2.24159 -4.10461 2.78954 -4.18431 3.02864 -4.18431C3.47696 -4.18431 3.83562 -3.92528 4.07472 -3.5467C4.33375 -3.13823 4.36364 -2.57036 4.36364 -2.16189C4.36364 -1.79328 4.34371 -1.19552 4.05479 -0.747198C3.84558 -0.438356 3.467 -0.109589 2.92902 -0.109589C2.4807 -0.109589 2.12204 -0.348692 1.88294 -0.71731C1.74346 -0.926526 1.74346 -0.956413 1.74346 -1.13574ZM1.74346 -1.13574\" fill=\"black\"/>\n",
       " </g>\n",
       " <path d=\"M0 -56.6929L0 -85.0394\" stroke=\"black\"/>\n",
       " <path d=\"M28.3465 -56.6929L28.3465 -85.0394\" stroke=\"black\"/>\n",
       " <path d=\"M31.1811 -70.8661L31.1811 -70.8711A2.83465 2.83465 0 0 0 25.5118 -70.8661A2.83465 2.83465 0 0 0 31.1811 -70.8612Z\" fill=\"black\"/>\n",
       " <path d=\"M28.3465 -70.8661L38.0753 -80.595\" stroke=\"black\"/>\n",
       " <g stroke-linecap=\"butt\" stroke-dasharray=\"none\">\n",
       "  <path d=\"M34.6631 -81.7851L42.5197 -85.0394L39.2654 -77.1828L38.0753 -80.595Z\" fill=\"black\"/>\n",
       " </g>\n",
       " <g transform=\"matrix(1.000000,0.000000,0.000000,1.000000,39.685039,-70.866142)\">\n",
       "  <path d=\"M0.33873 -0M1.16563 -2.17186C1.16563 -3.79577 1.98257 -4.2142 2.51059 -4.2142C2.60025 -4.2142 3.2279 -4.20423 3.57659 -3.84558C3.16812 -3.81569 3.10834 -3.51681 3.10834 -3.3873C3.10834 -3.12827 3.28767 -2.92902 3.56663 -2.92902C3.82565 -2.92902 4.02491 -3.09838 4.02491 -3.39726C4.02491 -4.07472 3.26775 -4.46326 2.50062 -4.46326C1.25529 -4.46326 0.33873 -3.3873 0.33873 -2.15193C0.33873 -0.876712 1.32503 0.109589 2.4807 0.109589C3.81569 0.109589 4.1345 -1.08593 4.1345 -1.18555C4.1345 -1.28518 4.03487 -1.28518 4.00498 -1.28518C3.91532 -1.28518 3.89539 -1.24533 3.87547 -1.18555C3.58655 -0.259029 2.93898 -0.139477 2.57036 -0.139477C2.04234 -0.139477 1.16563 -0.56787 1.16563 -2.17186ZM1.16563 -2.17186\" fill=\"black\"/>\n",
       " </g>\n",
       "</svg>\n"
      ],
      "text/plain": [
       "<pyx.canvas.canvas at 0x11b3b9e80>"
      ]
     },
     "metadata": {},
     "output_type": "display_data"
    },
    {
     "data": {
      "image/png": "[encoded data removed]",
      "image/svg+xml": [
       "<?xml version=\"1.0\" encoding=\"utf-8\"?>\n",
       "<svg xmlns=\"http://www.w3.org/2000/svg\" fill=\"none\" version=\"1.1\" viewBox=\"-18.0079 -86.0394 64.2277 87.0394\" x=\"-18.0079pt\" y=\"-86.0394pt\" width=\"64.2277pt\" height=\"87.0394pt\" stroke-width=\"0.566929\" stroke-miterlimit=\"10.000000\">\n",
       " <path d=\"M0 -0L0 -28.3465\" stroke=\"black\"/>\n",
       " <path d=\"M28.3465 -0L28.3465 -28.3465\" stroke=\"black\"/>\n",
       " <path d=\"M2.83465 -14.1732L2.83464 -14.1782A2.83465 2.83465 0 0 0 -2.83465 -14.1732A2.83465 2.83465 0 0 0 2.83464 -14.1683Z\" fill=\"black\"/>\n",
       " <path d=\"M0 -14.1732L-9.72886 -23.9021\" stroke=\"black\"/>\n",
       " <g stroke-linecap=\"butt\" stroke-dasharray=\"none\">\n",
       "  <path d=\"M-10.9189 -20.4898L-14.1732 -28.3465L-6.31661 -25.0921L-9.72886 -23.9021Z\" fill=\"black\"/>\n",
       " </g>\n",
       " <g transform=\"matrix(1.000000,0.000000,0.000000,1.000000,-17.007874,-14.173228)\">\n",
       "  <path d=\"M0.418431 -0M3.31756 -0.757161C3.35741 -0.358655 3.6264 0.0597758 4.09465 0.0597758C4.30386 0.0597758 4.91158 -0.0797011 4.91158 -0.886675L4.91158 -1.44458L4.66252 -1.44458L4.66252 -0.886675C4.66252 -0.308842 4.41345 -0.249066 4.30386 -0.249066C3.97509 -0.249066 3.93524 -0.697385 3.93524 -0.747198L3.93524 -2.73973C3.93524 -3.15816 3.93524 -3.5467 3.57659 -3.91532C3.18804 -4.30386 2.68991 -4.46326 2.21171 -4.46326C1.39477 -4.46326 0.707347 -3.99502 0.707347 -3.33748C0.707347 -3.03861 0.9066 -2.86924 1.16563 -2.86924C1.44458 -2.86924 1.62391 -3.06849 1.62391 -3.32752C1.62391 -3.44707 1.5741 -3.77584 1.11582 -3.7858C1.38481 -4.1345 1.87298 -4.24408 2.19178 -4.24408C2.67995 -4.24408 3.24782 -3.85554 3.24782 -2.96887L3.24782 -2.60025C2.73973 -2.57036 2.04234 -2.54047 1.41469 -2.24159C0.667497 -1.90286 0.418431 -1.38481 0.418431 -0.946451C0.418431 -0.139477 1.38481 0.109589 2.01245 0.109589C2.66999 0.109589 3.12827 -0.288917 3.31756 -0.757161ZM3.31756 -0.757161M3.24782 -2.39103L3.24782 -1.39477C3.24782 -0.448319 2.53051 -0.109589 2.08219 -0.109589C1.59402 -0.109589 1.18555 -0.458281 1.18555 -0.956413C1.18555 -1.50436 1.60399 -2.33126 3.24782 -2.39103ZM3.24782 -2.39103\" fill=\"black\"/>\n",
       " </g>\n",
       " <path d=\"M0 -28.3465L0 -56.6929\" stroke=\"black\"/>\n",
       " <path d=\"M28.3465 -28.3465L28.3465 -56.6929\" stroke=\"black\"/>\n",
       " <path d=\"M31.1811 -42.5197L31.1811 -42.5246A2.83465 2.83465 0 0 0 25.5118 -42.5197A2.83465 2.83465 0 0 0 31.1811 -42.5147Z\" fill=\"black\"/>\n",
       " <path d=\"M28.3465 -42.5197L38.0753 -52.2485\" stroke=\"black\"/>\n",
       " <g stroke-linecap=\"butt\" stroke-dasharray=\"none\">\n",
       "  <path d=\"M34.6631 -53.4386L42.5197 -56.6929L39.2654 -48.8363L38.0753 -52.2485Z\" fill=\"black\"/>\n",
       " </g>\n",
       " <g transform=\"matrix(1.000000,0.000000,0.000000,1.000000,39.685039,-42.519685)\">\n",
       "  <path d=\"M0.278954 -0M1.71357 -3.75592L1.71357 -6.91407L0.278954 -6.80448L0.278954 -6.49564C0.976339 -6.49564 1.05604 -6.4259 1.05604 -5.93773L1.05604 -0L1.30511 -0C1.31507 -0.00996264 1.39477 -0.14944 1.66376 -0.617684C1.8132 -0.388543 2.23163 0.109589 2.96887 0.109589C4.15442 0.109589 5.19054 -0.86675 5.19054 -2.15193C5.19054 -3.41719 4.2142 -4.40349 3.07846 -4.40349C2.30137 -4.40349 1.87298 -3.93524 1.71357 -3.75592ZM1.71357 -3.75592M1.74346 -1.13574L1.74346 -3.18804C1.74346 -3.37733 1.74346 -3.3873 1.85305 -3.5467C2.24159 -4.10461 2.78954 -4.18431 3.02864 -4.18431C3.47696 -4.18431 3.83562 -3.92528 4.07472 -3.5467C4.33375 -3.13823 4.36364 -2.57036 4.36364 -2.16189C4.36364 -1.79328 4.34371 -1.19552 4.05479 -0.747198C3.84558 -0.438356 3.467 -0.109589 2.92902 -0.109589C2.4807 -0.109589 2.12204 -0.348692 1.88294 -0.71731C1.74346 -0.926526 1.74346 -0.956413 1.74346 -1.13574ZM1.74346 -1.13574\" fill=\"black\"/>\n",
       " </g>\n",
       " <path d=\"M0 -56.6929L0 -85.0394\" stroke=\"black\"/>\n",
       " <path d=\"M28.3465 -56.6929L28.3465 -85.0394\" stroke=\"black\"/>\n",
       " <path d=\"M2.83465 -70.8661L2.83464 -70.8711A2.83465 2.83465 0 0 0 -2.83465 -70.8661A2.83465 2.83465 0 0 0 2.83464 -70.8612Z\" fill=\"black\"/>\n",
       " <path d=\"M-14.1732 -56.6929L-4.44437 -66.4218\" stroke=\"black\"/>\n",
       " <g stroke-linecap=\"butt\" stroke-dasharray=\"none\">\n",
       "  <path d=\"M-7.85661 -67.6118L0 -70.8661L-3.25432 -63.0095L-4.44437 -66.4218Z\" fill=\"black\"/>\n",
       " </g>\n",
       " <g transform=\"matrix(1.000000,0.000000,0.000000,1.000000,-17.007874,-59.527559)\">\n",
       "  <path d=\"M0.33873 -0M1.16563 -2.17186C1.16563 -3.79577 1.98257 -4.2142 2.51059 -4.2142C2.60025 -4.2142 3.2279 -4.20423 3.57659 -3.84558C3.16812 -3.81569 3.10834 -3.51681 3.10834 -3.3873C3.10834 -3.12827 3.28767 -2.92902 3.56663 -2.92902C3.82565 -2.92902 4.02491 -3.09838 4.02491 -3.39726C4.02491 -4.07472 3.26775 -4.46326 2.50062 -4.46326C1.25529 -4.46326 0.33873 -3.3873 0.33873 -2.15193C0.33873 -0.876712 1.32503 0.109589 2.4807 0.109589C3.81569 0.109589 4.1345 -1.08593 4.1345 -1.18555C4.1345 -1.28518 4.03487 -1.28518 4.00498 -1.28518C3.91532 -1.28518 3.89539 -1.24533 3.87547 -1.18555C3.58655 -0.259029 2.93898 -0.139477 2.57036 -0.139477C2.04234 -0.139477 1.16563 -0.56787 1.16563 -2.17186ZM1.16563 -2.17186\" fill=\"black\"/>\n",
       " </g>\n",
       "</svg>\n"
      ],
      "text/plain": [
       "<pyx.canvas.canvas at 0x181ec7f828>"
      ]
     },
     "metadata": {},
     "output_type": "display_data"
    },
    {
     "data": {
      "image/png": "[encoded data removed]",
      "image/svg+xml": [
       "<?xml version=\"1.0\" encoding=\"utf-8\"?>\n",
       "<svg xmlns=\"http://www.w3.org/2000/svg\" fill=\"none\" version=\"1.1\" viewBox=\"-18.0079 -86.0394 64.2277 87.0394\" x=\"-18.0079pt\" y=\"-86.0394pt\" width=\"64.2277pt\" height=\"87.0394pt\" stroke-width=\"0.566929\" stroke-miterlimit=\"10.000000\">\n",
       " <path d=\"M0 -0L0 -28.3465\" stroke=\"black\"/>\n",
       " <path d=\"M28.3465 -0L28.3465 -28.3465\" stroke=\"black\"/>\n",
       " <path d=\"M2.83465 -14.1732L2.83464 -14.1782A2.83465 2.83465 0 0 0 -2.83465 -14.1732A2.83465 2.83465 0 0 0 2.83464 -14.1683Z\" fill=\"black\"/>\n",
       " <path d=\"M0 -14.1732L-9.72886 -23.9021\" stroke=\"black\"/>\n",
       " <g stroke-linecap=\"butt\" stroke-dasharray=\"none\">\n",
       "  <path d=\"M-10.9189 -20.4898L-14.1732 -28.3465L-6.31661 -25.0921L-9.72886 -23.9021Z\" fill=\"black\"/>\n",
       " </g>\n",
       " <g transform=\"matrix(1.000000,0.000000,0.000000,1.000000,-17.007874,-14.173228)\">\n",
       "  <path d=\"M0.418431 -0M3.31756 -0.757161C3.35741 -0.358655 3.6264 0.0597758 4.09465 0.0597758C4.30386 0.0597758 4.91158 -0.0797011 4.91158 -0.886675L4.91158 -1.44458L4.66252 -1.44458L4.66252 -0.886675C4.66252 -0.308842 4.41345 -0.249066 4.30386 -0.249066C3.97509 -0.249066 3.93524 -0.697385 3.93524 -0.747198L3.93524 -2.73973C3.93524 -3.15816 3.93524 -3.5467 3.57659 -3.91532C3.18804 -4.30386 2.68991 -4.46326 2.21171 -4.46326C1.39477 -4.46326 0.707347 -3.99502 0.707347 -3.33748C0.707347 -3.03861 0.9066 -2.86924 1.16563 -2.86924C1.44458 -2.86924 1.62391 -3.06849 1.62391 -3.32752C1.62391 -3.44707 1.5741 -3.77584 1.11582 -3.7858C1.38481 -4.1345 1.87298 -4.24408 2.19178 -4.24408C2.67995 -4.24408 3.24782 -3.85554 3.24782 -2.96887L3.24782 -2.60025C2.73973 -2.57036 2.04234 -2.54047 1.41469 -2.24159C0.667497 -1.90286 0.418431 -1.38481 0.418431 -0.946451C0.418431 -0.139477 1.38481 0.109589 2.01245 0.109589C2.66999 0.109589 3.12827 -0.288917 3.31756 -0.757161ZM3.31756 -0.757161M3.24782 -2.39103L3.24782 -1.39477C3.24782 -0.448319 2.53051 -0.109589 2.08219 -0.109589C1.59402 -0.109589 1.18555 -0.458281 1.18555 -0.956413C1.18555 -1.50436 1.60399 -2.33126 3.24782 -2.39103ZM3.24782 -2.39103\" fill=\"black\"/>\n",
       " </g>\n",
       " <path d=\"M0 -28.3465L0 -56.6929\" stroke=\"black\"/>\n",
       " <path d=\"M28.3465 -28.3465L28.3465 -56.6929\" stroke=\"black\"/>\n",
       " <path d=\"M31.1811 -42.5197L31.1811 -42.5246A2.83465 2.83465 0 0 0 25.5118 -42.5197A2.83465 2.83465 0 0 0 31.1811 -42.5147Z\" fill=\"black\"/>\n",
       " <path d=\"M28.3465 -42.5197L38.0753 -52.2485\" stroke=\"black\"/>\n",
       " <g stroke-linecap=\"butt\" stroke-dasharray=\"none\">\n",
       "  <path d=\"M34.6631 -53.4386L42.5197 -56.6929L39.2654 -48.8363L38.0753 -52.2485Z\" fill=\"black\"/>\n",
       " </g>\n",
       " <g transform=\"matrix(1.000000,0.000000,0.000000,1.000000,39.685039,-42.519685)\">\n",
       "  <path d=\"M0.278954 -0M1.71357 -3.75592L1.71357 -6.91407L0.278954 -6.80448L0.278954 -6.49564C0.976339 -6.49564 1.05604 -6.4259 1.05604 -5.93773L1.05604 -0L1.30511 -0C1.31507 -0.00996264 1.39477 -0.14944 1.66376 -0.617684C1.8132 -0.388543 2.23163 0.109589 2.96887 0.109589C4.15442 0.109589 5.19054 -0.86675 5.19054 -2.15193C5.19054 -3.41719 4.2142 -4.40349 3.07846 -4.40349C2.30137 -4.40349 1.87298 -3.93524 1.71357 -3.75592ZM1.71357 -3.75592M1.74346 -1.13574L1.74346 -3.18804C1.74346 -3.37733 1.74346 -3.3873 1.85305 -3.5467C2.24159 -4.10461 2.78954 -4.18431 3.02864 -4.18431C3.47696 -4.18431 3.83562 -3.92528 4.07472 -3.5467C4.33375 -3.13823 4.36364 -2.57036 4.36364 -2.16189C4.36364 -1.79328 4.34371 -1.19552 4.05479 -0.747198C3.84558 -0.438356 3.467 -0.109589 2.92902 -0.109589C2.4807 -0.109589 2.12204 -0.348692 1.88294 -0.71731C1.74346 -0.926526 1.74346 -0.956413 1.74346 -1.13574ZM1.74346 -1.13574\" fill=\"black\"/>\n",
       " </g>\n",
       " <path d=\"M0 -56.6929L0 -85.0394\" stroke=\"black\"/>\n",
       " <path d=\"M28.3465 -56.6929L28.3465 -85.0394\" stroke=\"black\"/>\n",
       " <path d=\"M31.1811 -70.8661L31.1811 -70.8711A2.83465 2.83465 0 0 0 25.5118 -70.8661A2.83465 2.83465 0 0 0 31.1811 -70.8612Z\" fill=\"black\"/>\n",
       " <path d=\"M28.3465 -70.8661L38.0753 -80.595\" stroke=\"black\"/>\n",
       " <g stroke-linecap=\"butt\" stroke-dasharray=\"none\">\n",
       "  <path d=\"M34.6631 -81.7851L42.5197 -85.0394L39.2654 -77.1828L38.0753 -80.595Z\" fill=\"black\"/>\n",
       " </g>\n",
       " <g transform=\"matrix(1.000000,0.000000,0.000000,1.000000,39.685039,-70.866142)\">\n",
       "  <path d=\"M0.33873 -0M1.16563 -2.17186C1.16563 -3.79577 1.98257 -4.2142 2.51059 -4.2142C2.60025 -4.2142 3.2279 -4.20423 3.57659 -3.84558C3.16812 -3.81569 3.10834 -3.51681 3.10834 -3.3873C3.10834 -3.12827 3.28767 -2.92902 3.56663 -2.92902C3.82565 -2.92902 4.02491 -3.09838 4.02491 -3.39726C4.02491 -4.07472 3.26775 -4.46326 2.50062 -4.46326C1.25529 -4.46326 0.33873 -3.3873 0.33873 -2.15193C0.33873 -0.876712 1.32503 0.109589 2.4807 0.109589C3.81569 0.109589 4.1345 -1.08593 4.1345 -1.18555C4.1345 -1.28518 4.03487 -1.28518 4.00498 -1.28518C3.91532 -1.28518 3.89539 -1.24533 3.87547 -1.18555C3.58655 -0.259029 2.93898 -0.139477 2.57036 -0.139477C2.04234 -0.139477 1.16563 -0.56787 1.16563 -2.17186ZM1.16563 -2.17186\" fill=\"black\"/>\n",
       " </g>\n",
       "</svg>\n"
      ],
      "text/plain": [
       "<pyx.canvas.canvas at 0x11b3b9e80>"
      ]
     },
     "metadata": {},
     "output_type": "display_data"
    }
   ],
   "source": [
    "# or \n",
    "tdpe.maximum_manifold = np.inf\n",
    "tdpe.minimum_manifold = -2\n",
    "tdpe.display_diagrams(tdpe.get_diagrams([0,100,200,200]))"
   ]
  },
  {
   "cell_type": "code",
   "execution_count": 20,
   "metadata": {},
   "outputs": [
    {
     "name": "stdout",
     "output_type": "stream",
     "text": [
      "48\n"
     ]
    }
   ],
   "source": [
    "print(len(tdpe.get_diagrams([0,0,0,0])))"
   ]
  },
  {
   "cell_type": "code",
   "execution_count": 22,
   "metadata": {},
   "outputs": [
    {
     "name": "stdout",
     "output_type": "stream",
     "text": [
      "16\n"
     ]
    }
   ],
   "source": [
    "print(len(tdpe.get_diagrams([0,0,200,200])))"
   ]
  },
  {
   "cell_type": "markdown",
   "metadata": {},
   "source": [
    "Going below minimum_manifold=-2 has no further effect on 2DPE, but one would need to consider smaller minimum_manifold values for higher-order spectroscopies.  To be safe, one can simply set minimum_manifold=-np.inf, though this may lead to unnecessary calculations, depending upon the initial thermal distribution of vibrational eigenstates"
   ]
  },
  {
   "cell_type": "markdown",
   "metadata": {},
   "source": [
    "# TA for IR vibrational spectroscopy"
   ]
  },
  {
   "cell_type": "code",
   "execution_count": 25,
   "metadata": {},
   "outputs": [
    {
     "name": "stdout",
     "output_type": "stream",
     "text": [
      "16\n",
      "48\n"
     ]
    }
   ],
   "source": [
    "ta.maximum_manifold = np.inf\n",
    "ta.minimum_manifold = -2\n",
    "print(len(tdpe.get_diagrams([0,0,200,200])))\n",
    "print(len(tdpe.get_diagrams([0,0,0,0])))"
   ]
  },
  {
   "cell_type": "code",
   "execution_count": null,
   "metadata": {},
   "outputs": [],
   "source": []
  }
 ],
 "metadata": {
  "kernelspec": {
   "display_name": "Python 3",
   "language": "python",
   "name": "python3"
  },
  "language_info": {
   "codemirror_mode": {
    "name": "ipython",
    "version": 3
   },
   "file_extension": ".py",
   "mimetype": "text/x-python",
   "name": "python",
   "nbconvert_exporter": "python",
   "pygments_lexer": "ipython3",
   "version": "3.7.3"
  }
 },
 "nbformat": 4,
 "nbformat_minor": 4
}
