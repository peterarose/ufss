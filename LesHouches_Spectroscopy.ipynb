{
 "cells": [
  {
   "cell_type": "markdown",
   "id": "honest-burton",
   "metadata": {},
   "source": [
    "## <center><b>Les Houches 2023: Quantum Dynamics and Spectroscopy of<br>Functional Molecular Materials and Biological Photosystems</b></center>\n",
    "# <center><b> Computational Exercise: Ultrafast spectroscopy of complex molecular systems </b></center>\n",
    "<center><b>James Green and Dominik Brey</b></center>\n",
    "\n",
    "When we irradiate a molecular sample with light, the electric field $\\epsilon$ of the light will induce a macroscopic electric dipole moment, known as the polarisation $P$ in the sample. For a single weak electric field (i.e. single laser light pulse), the induced polarisation will depend linearly upon the electric field\n",
    "\n",
    "\\begin{equation}\n",
    "P = \\chi \\cdot \\epsilon\n",
    "\\end{equation}\n",
    "\n",
    "where $\\chi$ is the susceptibility of the material. The polarization acts as a source to generate radiation with angular frequency $\\omega$ which can be detected and be used to measure the absorption of a sample. The detected signal is proportional to the polarization.\n",
    "\n",
    "For higher electric field strengths, we have a power series expansion of the polarization in terms of the electric field:\n",
    "\t\t\n",
    "\\begin{equation}\n",
    "\tP = \\chi^{(1)} \\cdot \\epsilon + \\chi^{(2)} \\cdot \\epsilon \\cdot \\epsilon + \\chi^{(3)} \\cdot \\epsilon \\cdot \\epsilon\\cdot \\epsilon+ \\dots = P^{(1)} + P^{(2)} + P^{(3)} + \\dots\n",
    "\\end{equation}\n",
    "\t\t\n",
    "where $\\chi^{(1)}$ is the linear susceptibility of the sample, and $\\chi^{(n)}$ $n>1$ are higher order non-linear susceptibilities. In isotropic media, even order susceptibilities vanish, so in general the lowest order non-linearity is the third order. This third order non-linear polarization $P^{(3)}$ is what is detected by transient absorption and 2D electronic spectroscopy. In general, these are known as 4 wave mixing techniques, as 3 interactions with the laser electric field are used to generate $P^{(3)}$ that creates an emission signal (the fourth wave), which can be detected by another interaction with an incident laser field known as the local oscillator (heterodyne detection).\n",
    "\n",
    "In order to calculate the polarisation, we can turn to perturbation theory, describing the interaction of light with molecular system by\n",
    "\n",
    "\\begin{equation}\n",
    "H = H_0 + H'(t)\n",
    "\\end{equation}\n",
    "\n",
    "where $H_0$ is the Hamiltonian of the bare molecular system, and $H'(t)$ the interaction with light. This takes the form of the dipole operator of the molecule interacting with the time-dependent electric field of the light\n",
    "\n",
    "\\begin{equation}\n",
    "H'(t) = - \\mu \\cdot \\epsilon(t).\n",
    "\\end{equation}\n",
    "\n",
    "Within a density matrix based picture, we can calculate the $n$th order polarization via\n",
    "\n",
    "\\begin{equation}\n",
    "P^{(n)}(t) = \\left(-\\frac{i}{\\hbar}\\right)^n \\int_{0}^\\infty d t_n \\int_{0}^{\\infty} d t_{n-1} \\dots \\int_{0}^{\\infty} d t_{1} \\epsilon(t-t_n) \\epsilon(t- t_n - t_{n-1}) \\dots \\epsilon(t - t_n -t_{n-1}  \\dots - t_1) \\langle{\\mu(t_n+t_{n-1}\\dots + t_1) \\cdot [ \\mu(t_{n-1}+ \\dots t_1), \\dots [\\mu(t_1), [\\mu(0), \\rho(-\\infty)]] \\dots ] \\rangle}\n",
    "\\end{equation}\n",
    "\n",
    "where the electric fields arrive delayed by times $t_1\\dots t_n$, and the density matrix is the outer product\n",
    "\n",
    "\\begin{equation}\n",
    "\\rho = c_n c^*_m | n \\rangle \\langle m |\n",
    "\\end{equation}\n",
    "\n",
    "and the commutators with the dipole operator either raise or lower the ket or bra side of the density matrix by one quantum. \n",
    "\n",
    "The time dependence of the density matrix may be calculated by a Liouvillian equation\n",
    "\n",
    "\\begin{equation}\n",
    "\t\\frac{\\mathrm{d} \\rho(t)}{\\mathrm{d} t} = \\frac{-i}{\\hbar} \\left[ L_0 \\rho(t) + L'(t) \\rho(t) \\right]\n",
    "\\end{equation}\n",
    "\n",
    "where $L'(t)$ is the Liouvilian superoperator of the interaction with light\n",
    "\n",
    "\\begin{equation}\n",
    "\tL'(t) \\rho(t) = [H'(t),\\rho(t)] \n",
    "\\end{equation}\n",
    "\n",
    "and $L_0$ is the Liouvilian superoperator of the molecular system plus environment\n",
    "\n",
    "\\begin{equation}\n",
    "\tL_0 \\rho(t) = [H_0,\\rho(t)] + i \\hbar D \\rho(t) .\n",
    "\\end{equation}\n",
    "\n",
    "In the above, $D$ is a superoperator that describes dephasing and dissipation to an environment, which in the practical will be described by Redfield theory.\n",
    "\n",
    "If the polarization is calculated in the time domain, in order to obtain it in the frequency domain, a Fourier transformation must be performed:\n",
    "\n",
    "\\begin{equation}\n",
    "\tP^{(n)}(\\omega) = \\frac{1}{\\sqrt{2\\pi}} \\int_{-\\infty}^{\\infty} dt e^{i\\omega t} P^{(n)}(t).\n",
    "\\end{equation}\n",
    "\t\t\n",
    "For heterodyne detection, the resulting signal can then be given by the interaction of the polarization with the local oscillator electric field\n",
    "\t\t\n",
    "\\begin{equation}\n",
    "\tS^{(n)}(\\omega) \\propto \\text{Im}\\left[\\epsilon^*_{\\text{LO}}(\\omega) \\cdot P^{(n)}(\\omega) \\right]\n",
    "\\end{equation}\n",
    "\n",
    "This signal is what will be obtained in the various spectroscopies presented in the notebook.\n",
    "\n",
    "The electric fields can be expressed by\n",
    "\n",
    "\\begin{equation}\n",
    "\\epsilon_j(t) = A_j (t-\\tau_j) e^{-i(\\omega_j (t-\\tau_j) - k_j \\cdot r - \\phi_j)}\n",
    "\\end{equation}\n",
    "\n",
    "where the $j$th laser pulse is centered in time at $\\tau_j$, $A(t)$ is its envelope function, $\\omega_j$ is its carrier frequency, $k_j$ is its wavevector and $\\phi_j$ is its phase. When multiple laser pulses interact and produce a polarization in a sample, the direction in which it can be detected $k_{\\text{sig}}$ will be a function of sums and differences of the wavevectors of the laser pulses, e.g. for 3rd order nonlinear polarization\n",
    "\n",
    "\\begin{equation}\n",
    "k_{\\text{sig}} = \\pm k_1 \\pm k_2 \\pm k_3.\n",
    "\\end{equation}\n",
    "\n",
    "This is known as phase matching, and the direction of $k_{\\text{sig}}$ is specific to different kinds of non-linear spectroscopy. The difference between linear absorption and a 4 wave mixing experiment is shown schematically below\n",
    "\n",
    "<center><img src=\"Figs/abs_4wm_diff.png\"/></center>\n",
    "\n",
    "For linear absorption, there is a single probe pulse, in the direction $k_{\\text{pr}}$ that generates a first order polarization $P^{(1)}$ which is detected in the same direction as the probe pulse $k_{\\text{sig}} = k_{\\text{pr}}$. The probe pulse acts as a local oscillator, known as self-heterodyned detection. For a 4 wave mixing experiment, three incident beams of light in directions $k_1$, $k_2$ and $k_3$ interact with a sample, which then emits a third order polarization $P^{(3)}$. This third order polarization is then detected in a direction $k_{\\text{sig}}$ by a local oscillator, with the direction of detection specific to different kinds of 4 wave mixing experiments, such as transient absorption and 2D electronic spectroscopy that will be covered in the practical.\n",
    "\n",
    "In this practical, you will:\n",
    "\n",
    "1. Input parameters to define a molecular Hamiltonian $H_0$, and the dipole operator $\\mu$.\n",
    "2. Define an ultrafast laser pulse $\\epsilon_j$ and compute the linear absorption signal from the linear polarization $P^{(1)}$ \n",
    "3. Define pump and probe laser pulses in order to compute transient absorption signals from the third-order non linear polarization $P^{(3)}$.\n",
    "4. Explore the phase matching conditions required for 2D electronic spectroscopy and compute spectra, once more from the third-order non linear polarization $P^{(3)}$.\n",
    "5. Illustrate the theory of nonlinear spectroscopy through generation of Feynman diagrams corresponding to specific phase matching conditions, and seperate components of the 2D spectra by selecting particular Feynman diagrams.\n",
    "\n",
    "Questions will be highlighted in blue square boxes, and below them you can write the solutions. Some portion of the code will already be given for you, and parts where you should enter something will be marked by elipses: ...\n",
    "At some points you will also see yellow boxes, and these are questions for yourself to think about - but you don't need to add any code below them.\n",
    "\n",
    "Have fun!\n",
    "\n"
   ]
  },
  {
   "cell_type": "markdown",
   "id": "joined-cruise",
   "metadata": {},
   "source": [
    "***\n",
    "## 1. Setup of System\n"
   ]
  },
  {
   "cell_type": "markdown",
   "id": "relevant-positive",
   "metadata": {},
   "source": [
    "This practical will simulate the absorption, transient absorption, and 2-dimensional electronic spectra of excitonic dimers, using a density matrix open quantum system based approach to illustrate the theory. The practical will be based on the squaraine dimers studied in https://doi.org/10.1039/D0CP03218B, with one dimer used as an example in the workbook, whilst you will perform the calculations for another dimer.\n",
    "\n",
    "A simplified version of the model used in the reference work will be implemented, consisting of a coupled two level system, with a ground state $|g\\rangle$ and first excited state for each squaraine monomer $|e_{\\text{A}}\\rangle$ and $|e_{\\text{B}}\\rangle$, with the excited states coupled by a different strength excitonic coupling for each dimer. When both monomers are excited, we also have the possibility of a doubly excited state $|e_{\\text{A}},e_{\\text{B}}\\rangle$. This site basis works with so called diabatic states. Behind the scenes of the code, this diabatic basis will be diagonalised into an adiabatic basis, which we can also refer to as the exciton basis. This is displayed below in the 0, 1 and 2 quantum manifolds. In the non-linear spectra we will study later in the practical, we have the possibility of ground state bleaching (GSB), stimulated emission (SE) and excited state absorption (ESA) as indicated schematically below on the exciton basis.\n",
    "\n",
    "<center><img src=\"Figs/sqab_energy_level.png\" width=\"600\"/></center>\n",
    "\n",
    "\n",
    "A dominant harmonic vibrational mode will also be included in the model.\n",
    "\n",
    "In the first part of the practical the relevant python libraries will be imported, including the Ultrafast Spectroscopy Suite (UFSS, https://github.com/peterarose/ufss) which this practical is based upon. Then, the parameters for the model system will be specified, including energies, couplings and dipoles, and written into a form suitable for reading by UFSS. This first section is somewhat technical, but necessary for calculation of spectra later in the practical."
   ]
  },
  {
   "cell_type": "markdown",
   "id": "miniature-lobby",
   "metadata": {},
   "source": [
    "***\n",
    "### 1.1 Setup Notebook and Python Libraries"
   ]
  },
  {
   "cell_type": "code",
   "execution_count": null,
   "id": "least-cookie",
   "metadata": {},
   "outputs": [],
   "source": [
    "#Setup the notebook so that plots will appear inline\n",
    "%matplotlib inline\n",
    "%load_ext autoreload\n",
    "%autoreload 2"
   ]
  },
  {
   "cell_type": "code",
   "execution_count": null,
   "id": "moved-resident",
   "metadata": {},
   "outputs": [],
   "source": [
    "#Import the relevant python packages\n",
    "import ufss\n",
    "import numpy as np\n",
    "import matplotlib.pyplot as plt\n",
    "import os\n",
    "import yaml\n",
    "import math"
   ]
  },
  {
   "cell_type": "markdown",
   "id": "sustainable-optimization",
   "metadata": {},
   "source": [
    "***\n",
    "### 1.2 Define Parameters for System"
   ]
  },
  {
   "cell_type": "markdown",
   "id": "objective-reliance",
   "metadata": {},
   "source": [
    "Now that the relevant packages have been loaded, we can proceed with setting up our molecular Hamiltonian $H_0$, and dipole operator $\\mu$. \n",
    "\n",
    "**(i)** The electronic states of the dimer may be described as a coupled two level system, with the general electronic Hamiltonian given by:\n",
    "\n",
    "\\begin{equation}\n",
    "\tH_\\text{el} = \\sum_{n=1}^s e_n a_n^\\dagger a_n + \\sum_{m\\neq n} V_{mn} a^{\\dagger}_m a_n\n",
    "\\end{equation}\n",
    "\n",
    "where $s$ is the total number of coupled two level systems ($s=2$ in our example, since we have a dimer), $e_n$ is the excitation energy of the monomer, $V_{mn}$ the excitonic coupling, $a_n^\\dagger$ the creation operator for an excited electronic state $|n\\rangle$ (i.e. $|n\\rangle = a_n^\\dagger |g\\rangle$ where $|g\\rangle$ is the ground electronic state), and $a_n$ the respective annihilation operator. We need to define these excitation energies of the SQA and SQB monomers, which in the reference paper are given as\n",
    "\n",
    "\\begin{align}\n",
    "e_A &= 15240 \\, \\text{cm}^{-1} \\\\\n",
    "e_B &= 13950 \\, \\text{cm}^{-1}\n",
    "\\end{align}"
   ]
  },
  {
   "cell_type": "code",
   "execution_count": null,
   "id": "seeing-reynolds",
   "metadata": {},
   "outputs": [],
   "source": [
    "#Ground to excited state energies of SQA and SQB\n",
    "eA = 15240\n",
    "eB = 13950"
   ]
  },
  {
   "cell_type": "markdown",
   "id": "economic-intake",
   "metadata": {},
   "source": [
    "**(ii)** We will input the excitonic coupling between the excited states of the SQA and SQB monomers. For this illustration we will use the dimer SQAB1 with a single bond linker, which has an excitonic coupling between the first excited states of SQA and SQB of:\n",
    "\n",
    "\\begin{equation}\n",
    "V_1 = -650 \\, \\text{cm}^{-1}\n",
    "\\end{equation}"
   ]
  },
  {
   "cell_type": "code",
   "execution_count": null,
   "id": "blind-desperate",
   "metadata": {},
   "outputs": [],
   "source": [
    "#Excitonic coupling between excited states of SQA and SQB for dimer 1\n",
    "V1 = -650"
   ]
  },
  {
   "cell_type": "markdown",
   "id": "outstanding-netherlands",
   "metadata": {},
   "source": [
    "**(iii)** Now that the parameters for the electronic Hamiltonian have been defined, we will input values for the transition dipole moments connecting the ground state and excited states of each of the monomers $\\mu_A$ and $\\mu_B$. In principle these should be vectors with $x$, $y$, and $z$ components, however for simplicity we will just consider that the dipole moments lie parallel to one another and along the direction of the polarization of the electric field, such that we only need to give one number for each"
   ]
  },
  {
   "cell_type": "code",
   "execution_count": null,
   "id": "electric-replacement",
   "metadata": {},
   "outputs": [],
   "source": [
    "#Transition dipole moments for SQA and SQB transitions\n",
    "#projected along the direction of the polarization of the electric field\n",
    "muA = 1.15\n",
    "muB = 1.0"
   ]
  },
  {
   "cell_type": "markdown",
   "id": "statewide-coast",
   "metadata": {},
   "source": [
    "**(iv)** Next, we will include a dominant, harmonic, vibrational mode into our model. The Hamiltonian for a set of harmonic vibrations may be given by\n",
    "\n",
    "\\begin{equation}\n",
    "\tH_{\\text{vib}} = \\frac{1}{2} \\sum_{\\alpha=1}^k p_\\alpha^2 + \\Omega_\\alpha^2 q_\\alpha^2 \n",
    "\\end{equation}\n",
    "\n",
    "where $k$ is the number of vibrational modes ($k=1$ in our example), with coordinate $q_\\alpha$, momentum $p_\\alpha$ and vibrational frequency $\\Omega_\\alpha$. The coupling of the vibrational mode to electronic system is given by\n",
    "\n",
    "\\begin{equation}\n",
    "\tH_{\\text{el-vib}} =  \\sum_{\\alpha=1}^k \\sum_{n=1}^s \\Omega_\\alpha^2 d_{\\alpha,n} q_\\alpha a_n^\\dagger a_n \n",
    "\\end{equation}\n",
    "\n",
    "where $d_{\\alpha,n}$ is the coupling of the vibrational mode to each two level system, related to the Huang-Rhys factor by\n",
    "\n",
    "\\begin{equation}\n",
    "\t\\label{eq:HR}\n",
    "\tS_{\\alpha,n} = \\frac{1}{2}\\Omega_\\alpha d_{\\alpha,n}^2.\n",
    "\\end{equation}\n",
    "\n",
    "We will define the frequency of the dominant intramolecular vibrational mode as:\n",
    "\n",
    "\\begin{equation}\n",
    "\\Omega = 1220 \\, \\text{cm}^{-1}\n",
    "\\end{equation}\n",
    "\n",
    "and its Huang-Rhys factor as\n",
    "\n",
    "\\begin{equation}\n",
    "S = 0.15\n",
    "\\end{equation}"
   ]
  },
  {
   "cell_type": "code",
   "execution_count": null,
   "id": "referenced-fabric",
   "metadata": {},
   "outputs": [],
   "source": [
    "#Wavenumber of dominant intramolecular vibrational mode and Huang-Rhys factor\n",
    "Omega = 1220\n",
    "S = 0.15"
   ]
  },
  {
   "cell_type": "markdown",
   "id": "d5967a72",
   "metadata": {},
   "source": [
    "The necessary parameters for our molecular Hamiltonian have now been defined, with\n",
    "\n",
    "\\begin{equation}\n",
    "\tH_0 = H_{\\text{el}} + H_{\\text{vib}} + H_{\\text{el-vib}}.\n",
    "\\end{equation}\n"
   ]
  },
  {
   "cell_type": "markdown",
   "id": "phantom-kingdom",
   "metadata": {},
   "source": [
    "**(v)** Finally, we will model dissipation and dephasing to the environment by coupling our dimer system to a bath of harmonic oscillators with frequencies obtained from an Ohmic spectral density with Drude-Lorentz cut-off\n",
    "\\begin{equation}\n",
    "J(\\nu) = 2 \\nu \\lambda \\frac{\\gamma}{\\nu^2+\\gamma^2}.\n",
    "\\end{equation}\n",
    "The parameter $\\lambda$ is the strength of coupling of our molecular system to the environment, and $\\gamma$ is a cutoff frequency, above which vibrational frequencies of the environment are less important. Following a similar setup to the reference work, we choose:\n",
    "\n",
    "\\begin{equation}\n",
    "\\lambda = 200 \\, \\text{cm}^{-1}\n",
    "\\end{equation}\n",
    "\n",
    "and\n",
    "\n",
    "\\begin{equation}\n",
    "\\gamma = 666 \\, \\text{cm}^{-1}\n",
    "\\end{equation}"
   ]
  },
  {
   "cell_type": "code",
   "execution_count": null,
   "id": "mighty-egypt",
   "metadata": {},
   "outputs": [],
   "source": [
    "#Parameters for the bath. \n",
    "#Since lambda is a protected keyword in python, we call the system bath coupling l_sb\n",
    "l_sb=200\n",
    "gamma=666"
   ]
  },
  {
   "cell_type": "markdown",
   "id": "operational-cleaning",
   "metadata": {},
   "source": [
    "***\n",
    "### 1.3 Input to UFSS\n",
    "\n",
    "Now that we have defined the important parameters for our molecular system plus environment bath, we define a function to input these parameters into a form that UFSS can read.\n",
    "\n",
    "#### 1.3.1 Units\n",
    "\n",
    "We need to consider the units that our Hamiltonian is expressed in. In UFSS, units are taken care of implicitly, with frequencies being expressed in multiples of some angular frequency $\\omega_0$, and times in units of the inverse of this, $\\omega_0^{-1}$. For numerical convenience, we will choose our unit $\\omega_0$ to be fixed to the dominant vibrational frequency i.e. $\\omega_0 = 2\\pi c \\Omega$, and express all energies in our Hamiltonian as multiples of $\\Omega$. Now let us work out what $\\omega_0^{-1}$ is in femtoseconds:"
   ]
  },
  {
   "cell_type": "code",
   "execution_count": null,
   "id": "explicit-variation",
   "metadata": {},
   "outputs": [],
   "source": [
    "inv_omega0 = 1E15/(Omega*2*np.pi*3E10)\n",
    "print(\"omega_0^{-1} is equivalent to \"+str(inv_omega0)+\" fs\")"
   ]
  },
  {
   "cell_type": "markdown",
   "id": "virgin-craps",
   "metadata": {},
   "source": [
    "The conversion invovles the speed of light (given as $3\\times10^{10}$ cm s$^{-1}$ and a factor of $2\\pi$ due to the conversion of angular frequency to time. All times for the laser pulses later in the practical will be expressed in terms of multiples of $\\omega_0^{-1}$.\n",
    "\n",
    "Note that the period of this vibration is $T=2\\pi\\omega_0^{-1} \\simeq 28$ fs.\n",
    "\n",
    "Next, a routine has been written to prepare the input file for UFSS. The exact details of this routine are not particularly important, but it is a necessary step so that the code properly reads all the parameters we have defined above. The various energies and couplings are converted to multiples of $\\Omega$ in this routine, and will need to be re-converted later when we plot spectra. We also define a temperature for our calculations of 298 K."
   ]
  },
  {
   "cell_type": "code",
   "execution_count": null,
   "id": "terminal-clinton",
   "metadata": {},
   "outputs": [],
   "source": [
    "def setup_ufss(folder,eA,eB,muA,muB,V,Omega,S,l_sb,gamma):\n",
    "    \"\"\"This function creates the file 'simple_params.yaml' inside the \n",
    "        specified folder which UFSS uses as input.\n",
    "        \n",
    "        Parameters\n",
    "        -----------\n",
    "        folder : name of folder where input and data will be saved\n",
    "        eA     : transition energy of squaraine monomer A (cm-1)\n",
    "        eB     : transition energy of squaraine monomer B (cm-1)\n",
    "        muA    : magnitude of dipole moment of squaraine monomer A\n",
    "        muB    : magnitude of dipole moment of squaraine monomer B\n",
    "        V      : excitonic coupling (cm-1)\n",
    "        Omega  : wavenumber of vibrational mode (cm-1)\n",
    "        S      : Huang-Rhys factor\n",
    "        l_sb   : system-bath coupling (cm-1)\n",
    "        gamma  : bath cutoff frequency (cm-1)\n",
    "       \n",
    "\"\"\"\n",
    "    \n",
    "    # the following line means that you will overwrite data inside folder\n",
    "    # without getting a warning\n",
    "    os.makedirs(folder,exist_ok=True)\n",
    "\n",
    "    ### Define Hamiltonian\n",
    "    site_energies = [(eA)/Omega,(eB)/Omega] # bare site energies of uncoupled monomers a and b\n",
    "    site_couplings = [V/Omega]\n",
    "    \n",
    "    #Maxmimum number of vibrational quanta\n",
    "    truncation_size = 2\n",
    "    \n",
    "    #Define the coupling of the vibrational mode to the excited states from the Huang-Rhys factor\n",
    "    d=math.sqrt(2*S)\n",
    "    \n",
    "    #Setup vibrations\n",
    "    vibs = [{'displacement':d,'site_label':0,'omega_g':1},\n",
    "              {'displacement':d,'site_label':1,'omega_g':1}]\n",
    "  \n",
    "    ### Define electronic dipoles\n",
    "    mu = [[muA,0,0], # dipole for site a\n",
    "          [muB,0,0]] # dipole for site b    \n",
    "\n",
    "    #This is an ohmic spectral density\n",
    "    site_bath = {'cutoff_frequency':gamma/Omega, #in multiples of Omega\n",
    "                 'coupling':l_sb/Omega,# system-bath coupling in multiples of Omega\n",
    "                 'temperature':207/Omega,# kBT in multiples of Omega at 298 K\n",
    "                 'cutoff_function':'lorentz-drude',\n",
    "                 'spectrum_type':'ohmic'}\n",
    "    \n",
    "    \n",
    "    #We will use a Redfield bath (details not important)\n",
    "    Redfield_bath = {'site_bath':site_bath}\n",
    "    \n",
    "    #Setup all the parameters previously defined to be written to file\n",
    "    params = {\n",
    "        'site_energies':site_energies,\n",
    "        'site_couplings':site_couplings,\n",
    "        'dipoles':mu,\n",
    "        'truncation_size':truncation_size,\n",
    "        'vibrations':vibs,\n",
    "        'bath':Redfield_bath}\n",
    "    \n",
    "    #Write the input parameters to file\n",
    "    with open(os.path.join(folder,'simple_params.yaml'),'w+') as file_stream:\n",
    "        yaml.dump(params,file_stream)\n",
    "\n",
    "    return None"
   ]
  },
  {
   "cell_type": "markdown",
   "id": "brown-cologne",
   "metadata": {},
   "source": [
    "Now that the <code>setup_ufss</code> function has been defined, we can call it. First, we need to give the name of a folder where various files needed by UFSS will be stored, named below as 'SQAB1_folder'. Then, the Hamiltonian paramters we defined above are passed to the function, and the final two commands setup the Hamiltonian internally in UFSS and prepare an object <code>sqab1</code> that contains all this information, and will be used later to calculate spectra."
   ]
  },
  {
   "cell_type": "code",
   "execution_count": null,
   "id": "female-organ",
   "metadata": {},
   "outputs": [],
   "source": [
    "#Define the folder name\n",
    "folder = 'SQAB1_folder'\n",
    "#Pass folder name and all previously defined parameters to setup_ufss\n",
    "setup_ufss(folder,eA,eB,muA,muB,V1,Omega,S,l_sb,gamma)\n",
    "#Internally generate the Hamiltonian using the HLG.run method on the folder\n",
    "ufss.HLG.run(folder)\n",
    "#Define a sqab1 object with which we will perform our spectroscopic calculations\n",
    "sqab1 = ufss.DensityMatrices(os.path.join(folder,'open'))"
   ]
  },
  {
   "cell_type": "markdown",
   "id": "overall-cattle",
   "metadata": {},
   "source": [
    "### Try by yourself !\n",
    "\n",
    "<div class=\"alert alert-block alert-info\">\n",
    "    1.1) Define a new dimer <code>sqab2</code> which has the same parameters as <code>sqab1</code>, except for an excitonic coupling $V_2 = -350$ cm$^{-1}$\n",
    "</div>"
   ]
  },
  {
   "cell_type": "code",
   "execution_count": null,
   "id": "hazardous-straight",
   "metadata": {},
   "outputs": [],
   "source": [
    "#Answer to Q1.1\n",
    "#Define a new excitonic coupling\n",
    "V2 = ...\n",
    "\n",
    "#Define a new folder name:\n",
    "folder2 = 'SQAB2_folder'\n",
    "\n",
    "#Call the setup_ufss routine\n",
    "setup_ufss(folder2,eA,eB,muA,muB,V2,Omega,S,l_sb,gamma)\n",
    "\n",
    "#Call the HLG.run routine\n",
    "ufss.HLG.run(folder2)\n",
    "\n",
    "#Define a sqab2 object with which we will perform our spectroscopic calculations\n",
    "sqab2 = ufss.DensityMatrices(os.path.join(folder2,'open'))"
   ]
  },
  {
   "cell_type": "markdown",
   "id": "political-newsletter",
   "metadata": {},
   "source": [
    "***\n",
    "## 2. Ultrafast Laser Pulse and Linear Absorption\n"
   ]
  },
  {
   "cell_type": "markdown",
   "id": "psychological-defensive",
   "metadata": {},
   "source": [
    "### 2.1 Definition of Laser Pulse\n",
    "\n",
    "Now that we have setup our system, let us define an ultrafast laser pulse with a Gaussian envelope of standard deviation $\\sigma$\n",
    "\n",
    "\\begin{equation}\n",
    "A(t) = \\frac{1}{\\sqrt{2\\pi\\sigma}} e^{-t^2/2\\sigma^2}\n",
    "\\end{equation}"
   ]
  },
  {
   "cell_type": "markdown",
   "id": "posted-arizona",
   "metadata": {},
   "source": [
    "In the reference paper, the pulse is defined with full width half maximum (FWHM) of 12 fs. The relationship between FWHM and the standard deviation $\\sigma$ is\n",
    "\n",
    "\\begin{equation}\n",
    "\\text{FWHM} = 2\\sqrt{2\\ln(2)}\\sigma\n",
    "\\end{equation}\n",
    "\n",
    "so in units of $\\omega_0^{-1}$ we have"
   ]
  },
  {
   "cell_type": "code",
   "execution_count": null,
   "id": "explicit-latter",
   "metadata": {},
   "outputs": [],
   "source": [
    "def fwhm_to_sigma(fwhm_fs):\n",
    "    ''' This function converts from a full width half maximum (FWHM)\n",
    "    of a Gaussian in fs, to a standard deviation of the Gaussian in\n",
    "    units of omega_0^{-1}\n",
    "    \n",
    "    Parameters\n",
    "    -----------\n",
    "    fwhm_fs : FWHM of a Gaussian in fs\n",
    "    \n",
    "    Returns\n",
    "    -----------\n",
    "    sigma : standard deviation of the Gaussian in units of omega_0^{-1}\n",
    "    \n",
    "    '''\n",
    "    \n",
    "    #Convert from fs to omega_0^{-1}\n",
    "    fwhm = fwhm_fs/inv_omega0\n",
    "    #Calculate standard deviation sigma\n",
    "    sigma = fwhm/(2*np.sqrt(2*np.log(2)))\n",
    "    \n",
    "    return sigma"
   ]
  },
  {
   "cell_type": "code",
   "execution_count": null,
   "id": "a993245a",
   "metadata": {},
   "outputs": [],
   "source": [
    "sigma = fwhm_to_sigma(12)\n",
    "sigma"
   ]
  },
  {
   "cell_type": "markdown",
   "id": "chinese-guard",
   "metadata": {},
   "source": [
    "Let us define a time array of 1001 points on which this envelope will be defined, running from $t=[-20\\sigma,20\\sigma]$"
   ]
  },
  {
   "cell_type": "code",
   "execution_count": null,
   "id": "prerequisite-plymouth",
   "metadata": {},
   "outputs": [],
   "source": [
    "#Number of time points\n",
    "Nt = 1001\n",
    "#Vector of 1001 time points from -20*sigma to 20*sigma\n",
    "t = np.linspace(-20*sigma,20*sigma,num=Nt)"
   ]
  },
  {
   "cell_type": "markdown",
   "id": "focused-astronomy",
   "metadata": {},
   "source": [
    "And finally, define the envelope using an in built Gaussian function in UFSS, passing the times and standard deviation $\\sigma$ as parameters"
   ]
  },
  {
   "cell_type": "code",
   "execution_count": null,
   "id": "exotic-season",
   "metadata": {},
   "outputs": [],
   "source": [
    "A = ufss.gaussian(t,sigma)"
   ]
  },
  {
   "cell_type": "markdown",
   "id": "mexican-printing",
   "metadata": {},
   "source": [
    "Next, we would like to set out laser pulse to have a carrier frequency $\\omega_c$, such that our electric field in the time domain will be defined as:\n",
    "\n",
    "\\begin{equation}\n",
    "\\epsilon(t) = A(t)e^{i \\omega_c t}\n",
    "\\end{equation}\n",
    "\n",
    "where for the moment we will ignore the phase and wavevector, as we are only dealing with a single pulse in this section.\n",
    "\n",
    "From the reference paper, we will use a pulse centered at $\\omega_c = 14700$ cm$^{-1}$, which we will write as a multiple of $\\Omega$"
   ]
  },
  {
   "cell_type": "code",
   "execution_count": null,
   "id": "stable-gibson",
   "metadata": {},
   "outputs": [],
   "source": [
    "#Set carrier frequency in multiples of Omega\n",
    "omega_c = 14700/Omega"
   ]
  },
  {
   "cell_type": "markdown",
   "id": "suitable-georgia",
   "metadata": {},
   "source": [
    "Hence we can write this electric field as:"
   ]
  },
  {
   "cell_type": "code",
   "execution_count": null,
   "id": "attractive-communist",
   "metadata": {},
   "outputs": [],
   "source": [
    "#In python, an imaginary number is written as 1j\n",
    "epsilon = A*np.exp(1j*omega_c*t)"
   ]
  },
  {
   "cell_type": "markdown",
   "id": "environmental-mission",
   "metadata": {},
   "source": [
    "We can plot what this laser pulse looks like on the frequency axis by a Fourier transformation from the time domain, which is implemented via the <code>signals.SignalProcessing.ft1D</code> function in UFSS. This function takes as arguments the time array and the electric field array. It returns an array of frequencies which we save into the <code>laser_w</code> variable, and the electric field in the frequency domain which we save in the <code>epsilon_w</code> variable."
   ]
  },
  {
   "cell_type": "code",
   "execution_count": null,
   "id": "sonic-nebraska",
   "metadata": {
    "scrolled": true
   },
   "outputs": [],
   "source": [
    "#Fourier transform the electric field from time to frequency domain\n",
    "laser_w,epsilon_w = ufss.signals.SignalProcessing.ft1D(t,epsilon)"
   ]
  },
  {
   "cell_type": "markdown",
   "id": "f497dbc7",
   "metadata": {},
   "source": [
    "Experimentally, detectors will not measure the electric field directly, but instead its intensity, i.e.\n",
    "\n",
    "\\begin{equation}\n",
    "I(\\omega) = |\\epsilon(\\omega)|^2\n",
    "\\end{equation}\n",
    "\n",
    "and this is calculated below"
   ]
  },
  {
   "cell_type": "code",
   "execution_count": null,
   "id": "c621adf8",
   "metadata": {},
   "outputs": [],
   "source": [
    "I_w = np.abs(epsilon_w)**2"
   ]
  },
  {
   "cell_type": "markdown",
   "id": "alike-imagination",
   "metadata": {},
   "source": [
    "Now let us plot both the real part of the electric field, and its detected intensity. We will normalise both in the code below, by dividing through by the maximal value of each. In plotting the respective frequencies in the <code>laser_w</code> variable, we multiply by $\\Omega$ to have units of cm$^{-1}$, which is achieved with the command <code>laser_w*Omega</code>."
   ]
  },
  {
   "cell_type": "code",
   "execution_count": null,
   "id": "based-burlington",
   "metadata": {
    "scrolled": true
   },
   "outputs": [],
   "source": [
    "#Setup matplotlib figure\n",
    "fig, ax = plt.subplots(1,1,figsize=(8,5))\n",
    "\n",
    "#Convert the laser frequency from a multiple of Omega to cm-1\n",
    "laser_w_cm = laser_w*Omega\n",
    "\n",
    "#Normalise the electric field and the intensity\n",
    "epsilon_w_norm = np.real(epsilon_w)/np.max(np.real(epsilon_w))\n",
    "I_w_norm = I_w/np.max(I_w)\n",
    "\n",
    "#Set x and y values\n",
    "ax.plot(laser_w_cm,epsilon_w_norm,color='black',linestyle=\"dashed\",label=\"$\\epsilon(\\omega)$\")\n",
    "ax.plot(laser_w_cm,I_w_norm,color='black',label=\"$I(\\omega)$\")\n",
    "#Label the axes\n",
    "ax.set_xlabel('Frequency $\\omega$ (cm$^{-1}$)',fontsize=16)\n",
    "ax.set_ylabel('Intensity',fontsize=16)\n",
    "#Set the frequency range on the x axis\n",
    "ax.set_xlim([12000,17000])\n",
    "#Add legend\n",
    "ax.legend(loc=\"upper left\")\n",
    "#Crop the figure\n",
    "fig.tight_layout()"
   ]
  },
  {
   "cell_type": "markdown",
   "id": "e0993b7f",
   "metadata": {},
   "source": [
    "Notice how the measured intensity (solid line) is narrower than the field itself (by a factor of $\\sqrt{2}$)"
   ]
  },
  {
   "cell_type": "markdown",
   "id": "automatic-standing",
   "metadata": {},
   "source": [
    "<div class=\"alert alert-block alert-info\">\n",
    "2.1) Change the pulse duration by passing different values on the <code>sigma = fwhm_to_sigma(12)</code> line, and see how it affects the width of the pulse in the frequency domain.\n",
    "\n",
    "<b><font color='red'>Note</font></b> : Change the line back to <code>sigma = fwhm_to_sigma(12)</code> before executing the rest of the workbook.\n",
    "   \n",
    "</div>"
   ]
  },
  {
   "cell_type": "markdown",
   "id": "accessible-arizona",
   "metadata": {},
   "source": [
    "***\n",
    "### 2.2 Linear Absorption\n",
    "\n",
    "Now, let us calculate the linear absorption signal that would be obtained from the interaction of our laser pulse with the molecular system we defined in section 1. A routine has been written for this, such that it is straightforward to recalculate an absorption signal with a change of parameters. In order for UFSS to read the laser field and compute its interaction with our molecular system, we need to use the <code>set_efields</code> routine, which takes as arguments the time array, envelope function, carrier frequency, and phase discrimination condition. We will pass the first three variables as arguments to the linear absorption function, whilst the latter point we have not yet considered, but will become important when we consider multiple pulses later in the practical. For now, we will simply set it equal to '+'. Furthermore, since UFSS is meant for computation of non-linear spectra with multiple pulses, it requires a set of pulse delays and times with the <code>set_pulse_delays</code> and <code>pulse_times</code> routines. For now, we only have one arriving at $t=0$. \n",
    "\n",
    "For the spectral signal itself, the routine calculates the polarization in the $x$, $y$, and $z$ directions and then averages. For our example, only the $x$ direction will contribute since we defined the dipole moments only in the $x$ direction."
   ]
  },
  {
   "cell_type": "code",
   "execution_count": null,
   "id": "satisfied-repair",
   "metadata": {},
   "outputs": [],
   "source": [
    "def calculate_linear_absorption(spec_obj,t,A,center):\n",
    "    \"\"\"This function computes the linear absorption signal \n",
    "       due to an incident Gaussian laser pulse\n",
    "        \n",
    "        Parameters\n",
    "        -----------\n",
    "        spec_obj : A UFSS object created by the ufss.DensityMatrices routine\n",
    "        t        : Array of time-points for the laser field\n",
    "        A        : envelope function of the laser field\n",
    "        center   : carrier frequency of the laser field\n",
    "        \n",
    "        Returns\n",
    "        -----------\n",
    "        lin_abs  : Linear absorption signal\n",
    "       \n",
    "\"\"\"\n",
    "    \n",
    "    #Set the electric fields for interaction with molecular system in UFSS\n",
    "    spec_obj.set_efields([t],[A],[center],['+'])\n",
    "    #Make an empty pulse delay for linear absorption\n",
    "    spec_obj.set_pulse_delays([])\n",
    "    #Set a pulse at time 0\n",
    "    spec_obj.pulse_times = [0]\n",
    "    #Set a time grid for the signal that will be returned \n",
    "    spec_obj.set_t(0.1)\n",
    "    \n",
    "    #One pulse in x direction\n",
    "    spec_obj.set_polarization_sequence(['x'])\n",
    "    lin_abs_x = spec_obj.calculate_signal_all_delays()\n",
    "    #One pulse in y direction\n",
    "    spec_obj.set_polarization_sequence(['y'])\n",
    "    lin_abs_y = spec_obj.calculate_signal_all_delays()\n",
    "    #One pulse in z direction\n",
    "    spec_obj.set_polarization_sequence(['z'])\n",
    "    lin_abs_z = spec_obj.calculate_signal_all_delays()\n",
    "\n",
    "    #linear absorption signal as average of pulses in 3D\n",
    "    lin_abs = (lin_abs_x + lin_abs_y + lin_abs_z)/3\n",
    "    \n",
    "    return lin_abs\n"
   ]
  },
  {
   "cell_type": "markdown",
   "id": "educated-adolescent",
   "metadata": {},
   "source": [
    "Now that we have defined our function to calculate the linear absorption, we can pass the <code>sqab1</code> object, the time array, envelope function and carrier frequency to the function and save the resulting spectral signal in the <code>la</code> variable. The <code>%%capture</code> command blocks any unnecessary output from python. We can also obtain the frequency array on which the spectroscopic signal has been computed with the <code>w.copy()</code> command acting on our <code>sqab1</code> object."
   ]
  },
  {
   "cell_type": "code",
   "execution_count": null,
   "id": "atlantic-rough",
   "metadata": {},
   "outputs": [],
   "source": [
    "%%capture\n",
    "#Calculate linear absorption signal from our routine\n",
    "la = calculate_linear_absorption(sqab1,t,A,omega_c)\n",
    "#Extract the frequency array\n",
    "w = sqab1.w.copy()"
   ]
  },
  {
   "cell_type": "markdown",
   "id": "typical-giant",
   "metadata": {},
   "source": [
    "Now, let us plot the signal and the exciting laser pulse in the same figure. After calculation, UFSS returns the signal centered at $\\omega=0$, so we must shift by the carrier frequency $\\omega_c$ before plotting. We must also remember to multiply by $\\Omega$, since our Hamiltonian was set up in multiples of this for numerical convenience. Both of these features are achieved in the command <code>(w+omega_c)*Omega</code>.\n",
    "\n",
    "We also normalise the linear absorption signal by dividing by its maximal value, in the command <code>la/np.max(la)</code>\n",
    "\n",
    "Vertical red lines are also included to highlight the energies of the two main vibronic transitions of the dimer with the <code>ax.axvline</code> commands."
   ]
  },
  {
   "cell_type": "code",
   "execution_count": null,
   "id": "contained-bibliography",
   "metadata": {
    "scrolled": false
   },
   "outputs": [],
   "source": [
    "#Create a matplotlib figure and axis object\n",
    "fig, ax = plt.subplots(1,1,figsize=(8,5))\n",
    "\n",
    "#We need to shift the signal by the carrier frequency omega_c, and multiply by the unit Omega\n",
    "w_cm = (w+omega_c)*Omega\n",
    "\n",
    "#We also normalise the intensity of the signal\n",
    "la_norm = np.real(la)/np.max(np.real(la))\n",
    "\n",
    "#Plot the absorption signal.\n",
    "ax.plot(w_cm,la_norm,color='blue')\n",
    "\n",
    "#Plot vertical lines at transition energies\n",
    "ax.axvline(13533,color='red')\n",
    "ax.axvline(14800,color='red')\n",
    "\n",
    "#Plot the laser pulse\n",
    "ax.plot(laser_w_cm,epsilon_w_norm,color='black')\n",
    "\n",
    "#Set axis labels\n",
    "ax.set_xlabel('Frequency $\\omega$ (cm$^{-1}$)',fontsize=16)\n",
    "ax.set_ylabel('Normalised Intensity',fontsize=16)\n",
    "#Set an axis range\n",
    "ax.set_xlim([12000,17000])\n",
    "#ax.set_xlim([0,17000])\n",
    "\n",
    "fig.tight_layout()"
   ]
  },
  {
   "cell_type": "markdown",
   "id": "figured-sociology",
   "metadata": {},
   "source": [
    "<div class=\"alert alert-block alert-info\">\n",
    "2.2) Like we did in Q2.1, change the pulse duration by passing different values on the <code>sigma = fwhm_to_sigma(12)</code> line, and recalculate the absorption signal. How does it change?\n",
    "    \n",
    "<b><font color='red'>Note</font></b> : Change the line back to <code>sigma = fwhm_to_sigma(12)</code> before executing the rest of the workbook.\n",
    "    \n",
    "    \n",
    "2.3) Using the <code>sqab2</code> dimer object you defined in Q1.1, compute and plot the linear absorption signal. In the plot, add two vertical lines passing through the two most intense vibronic peaks.\n",
    "\n",
    "</div>"
   ]
  },
  {
   "cell_type": "code",
   "execution_count": null,
   "id": "friendly-archives",
   "metadata": {},
   "outputs": [],
   "source": [
    "%%capture\n",
    "#Answer to Q2.3\n",
    "#Calculate linear absorption signal of sqab2\n",
    "la2 = calculate_linear_absorption(...)\n",
    "#Extract the frequency array\n",
    "w2 = sqab2.w.copy()"
   ]
  },
  {
   "cell_type": "code",
   "execution_count": null,
   "id": "tough-terrain",
   "metadata": {},
   "outputs": [],
   "source": [
    "#Answer to Q2.3 cont\n",
    "#Create a matplotlib figure and axis object\n",
    "fig, ax = plt.subplots(1,1,figsize=(8,5))\n",
    "\n",
    "#We need to shift the spectrum by the carrier frequency omega_c, and multiply by the unit Omega\n",
    "w2_cm = ...\n",
    "#We also normalise the intensity of the real part of the signal\n",
    "la2_norm = ...\n",
    "\n",
    "#Plot the absorption spectrum.\n",
    "ax.plot(w2_cm,la2_norm,color='blue')\n",
    "#Plot vertical lines at transition energies\n",
    "ax.axvline(13700,color='red')\n",
    "ax.axvline(14975,color='red')\n",
    "\n",
    "#Set axis labels\n",
    "ax.set_xlabel('Frequency $\\omega$ (cm$^{-1}$)',fontsize=16)\n",
    "ax.set_ylabel('Normalised Intensity',fontsize=16)\n",
    "#Set an axis range\n",
    "ax.set_xlim([12000,17000])\n",
    "\n",
    "fig.tight_layout()"
   ]
  },
  {
   "cell_type": "markdown",
   "id": "51df4ac3",
   "metadata": {},
   "source": [
    "<b><font color='red'>Conclusion from 2.2</font></b> : When calculating the linear absorption signal with an explicit ultrafast laser pulse, the intensity of the signal is weighted by the pulse. We note that this is not a \"true\" linear absorption spectrum, since a linear absorption spectrum is a fingerprint of the molecular system, insensitive to the incident light field. We could remove the dependence on the incident electric field by dividing the signal by the intensity.  \n",
    "\n",
    "\\begin{equation}\n",
    "\\text{Abs}(\\omega) = \\frac{S(\\omega)}{I(\\omega)}\n",
    "\\end{equation}\n",
    "\n",
    "as illustrated in the cells below. A new array for the electric field intensity is defined, in order to have the same dimensions as the signal. A mask is also implemented, setting the intensity to 1 in places where it is small, to ensure we do not have division by very small numbers."
   ]
  },
  {
   "cell_type": "code",
   "execution_count": null,
   "id": "fe6da6c9",
   "metadata": {},
   "outputs": [],
   "source": [
    "#Make a new pulse with number of points in the array equal to that of the signal\n",
    "time = sqab1.t.copy()\n",
    "A2 = ufss.gaussian(time,sigma)\n",
    "epsilon2 = A2*np.exp(1j*omega_c*time)\n",
    "#Fourier transform to frequency domain and calculate the intensity\n",
    "laser_w2,epsilon_w2 = ufss.signals.SignalProcessing.ft1D(time,epsilon2)\n",
    "laser_w2_cm = laser_w2*Omega\n",
    "I_w2 = np.abs(epsilon_w2)**2\n",
    "I_w2_norm = I_w2/np.max(I_w2)\n",
    "\n",
    "#Set a mask for I_w2_norm so we do not divide by tiny numbers where the pulse is not present\n",
    "I_w2_norm[I_w2_norm<0.001] = 1\n",
    "\n",
    "#Get indeces of arrays corresponding to the range 0:30000 cm-1\n",
    "ilaser1=np.abs(laser_w2_cm).argmin()\n",
    "isignal1=np.abs(w_cm).argmin()\n",
    "ilaser2=np.abs(laser_w2_cm-30000).argmin()\n",
    "isignal2=np.abs(w_cm-30000).argmin()\n",
    "\n",
    "#Divide the signal on this range\n",
    "abs_I = np.real(la[isignal1:isignal2])/I_w2_norm[ilaser1:ilaser2]\n",
    "abs_I_norm = np.real(abs_I)/np.max(np.real(abs_I))"
   ]
  },
  {
   "cell_type": "code",
   "execution_count": null,
   "id": "47b80dc9",
   "metadata": {},
   "outputs": [],
   "source": [
    "#Create a matplotlib figure and axis object\n",
    "fig, ax = plt.subplots(1,1,figsize=(8,5))\n",
    "\n",
    "#Plot the absorption spectrum weighted by the pulse intensity in blue\n",
    "ax.plot(w_cm,la_norm,color='blue')\n",
    "#And the normalised spectrum in green\n",
    "ax.plot(w_cm[isignal1:isignal2],np.real(abs_I_norm),color='green')\n",
    "\n",
    "#Plot the laser pulse in black\n",
    "ax.plot(laser_w_cm,I_w_norm,color='black')\n",
    "\n",
    "#Set axis labels\n",
    "ax.set_xlabel('Frequency $\\omega$ (cm$^{-1}$)',fontsize=16)\n",
    "ax.set_ylabel('Normalised Intensity',fontsize=16)\n",
    "#Set an axis range\n",
    "ax.set_xlim([12000,17000])\n",
    "ax.set_ylim([0,1])\n",
    "\n",
    "\n",
    "fig.tight_layout()"
   ]
  },
  {
   "cell_type": "markdown",
   "id": "0a0a0ad5",
   "metadata": {},
   "source": [
    "In the rest of the practical, we will keep the pulse effects on the signal."
   ]
  },
  {
   "cell_type": "markdown",
   "id": "flying-cooking",
   "metadata": {},
   "source": [
    "***\n",
    "### 2.3 Inhomogenous Broadening\n",
    "\n",
    "For an isolated, closed, molecular system, spectra would exhibit perfectly sharp absorption lines. However, in reality they are broadened by interaction with the environment. The broadening of the lines can be seperated into two components: homogenous broadening and inhomogenous broadening. \n",
    "\n",
    "Homogenous broadening arises from three sources:\n",
    "1. Population relaxation (time constant $T_1$). Transitions have a finite lifetime associated with them, and this uncertainty in the time gives rise to an unceartainty in the energy that is the same for all molecules in the system.\n",
    "2. Pure dephasing (time constant $T_2^*$). A dynamic effect in which memory of the phase of oscillation of a molecule is lost as a result of intermolecular interactions that randomize the phase.\n",
    "3. Orientational relaxation ($\\tau_{\\text{or}}$) An ensemble averaged dephasing effect associated with the randomization of the initial dipole orientations.\n",
    "\n",
    "Homogenous broadening gives rise to a Lorentzian line shape, and is already accounted for in our model.\n",
    "\n",
    "Inhomogenous broadening arises due to the fact that each molecule is in a slightly different environment (e.g. different solvent shell), and hence the electronic transitions all have slightly different energies due to interactions with this environment. This gives rise to a Gaussian broadening of the absorption signal. We can mimic this effect in UFSS by first setting up a number of different molecular Hamiltonians with slightly different energy levels according to a Gaussian distribution, and then computing absorption spectra for each and averaging. This is implemented in two routines below, with: 1) <code>setup_inhom</code> that creates the required UFSS objects for each calculation and the corresponding weight for each spectra, and 2) <code>inhomogeneous_broadening</code> that calculates the spectra and averages."
   ]
  },
  {
   "cell_type": "code",
   "execution_count": null,
   "id": "pressing-lyric",
   "metadata": {},
   "outputs": [],
   "source": [
    "def setup_inhom(eA,eB,muA,muB,V1,Omega,S,l_sb,gamma,sb,num_points):\n",
    "    \"\"\"This function sets up the required UFSS objects for\n",
    "    inhomogenously broadened spectra as well as the weights\n",
    "    of the subsequently calculated spectral signals\n",
    "        \n",
    "        Parameters\n",
    "        -----------\n",
    "        eA         : transition energy of squaraine monomer A (cm-1)\n",
    "        eB         : transition energy of squaraine monomer B (cm-1)\n",
    "        muA        : magnitude of dipole moment of squaraine monomer A\n",
    "        muB        : magnitude of dipole moment of squaraine monomer B\n",
    "        V          : excitonic coupling (cm-1)\n",
    "        Omega      : wavenumber of vibrational mode (cm-1)\n",
    "        S          : Huang-Rhys factor\n",
    "        l_sb       : system-bath coupling (cm-1)\n",
    "        gamma      : bath cutoff frequency (cm-1)\n",
    "        sb         : standard deviation of inhomogenous broadening (sigma_broadening)     \n",
    "        num_points : Number of seperate calculations that will be averaged over\n",
    "        \n",
    "        Returns\n",
    "        -----------\n",
    "        spec_objs  : A list of UFSS objects created by the ufss.DensityMatrices routine\n",
    "                     each of which has a slightly different energy offset according\n",
    "                     to the Gaussian distribution\n",
    "        weights    : Weights of the averaged spectral signal that will be subsequently calculated\n",
    "                     by the inhomogeneous_broadening routine\n",
    "       \n",
    "\"\"\"\n",
    "\n",
    "    #Set spacing for different energy levels\n",
    "    dw = 6*sb/num_points\n",
    "    #An array for offsets of the energy levels\n",
    "    offsets = np.arange(-sb*3,sb*3,dw)\n",
    "    \n",
    "    #Calculate the weights of each individual Hamiltonian\n",
    "    weights = ufss.gaussian(offsets,sb)\n",
    "    \n",
    "    #Make arrays of energies with offsets from equilibrium values\n",
    "    en1 = offsets + eA\n",
    "    en2 = offsets + eB\n",
    "        \n",
    "    #Make a list for the UFSS objects created by the ufss.DensityMatrices routine\n",
    "    spec_objs = [None]*num_points    \n",
    "        \n",
    "    for i in range(num_points):\n",
    "        #Setup a folder\n",
    "        folder = \"inhom/\"+str(i)\n",
    "        #Pass folder name and all previously defined parameters to setup_ufss\n",
    "        setup_ufss(folder,float(en1[i]),float(en2[i]),muA,muB,V1,Omega,S,l_sb,gamma)\n",
    "        #Internally generate the Hamiltonian using the HLG.run method on the folder\n",
    "        ufss.HLG.run(folder)\n",
    "        #Define an object with which we will perform our spectroscopic calculations\n",
    "        spec_objs[i] = ufss.DensityMatrices(os.path.join(folder,'open'))\n",
    "    \n",
    "    return spec_objs,weights"
   ]
  },
  {
   "cell_type": "code",
   "execution_count": null,
   "id": "48c1d90c",
   "metadata": {},
   "outputs": [],
   "source": [
    "def inhomogeneous_broadening(spec_fun,spec_objs,weights,center,**kwargs):\n",
    "    \"\"\"This function calculated inhomogenously broadened spectra \n",
    "    by simulating spectra for molecular Hamiltonians with energy levels\n",
    "    that have been offset by a Gaussian broadening\n",
    "        \n",
    "        Parameters\n",
    "        -----------\n",
    "        spec_fun   : A function with which to compute a type of spectrum,\n",
    "                     e.g. calculate_linear_absorption\n",
    "        spec_objs  : A list of UFSS objects created by the ufss.DensityMatrices routine\n",
    "                     each of which has a slightly different energy offset according\n",
    "                     to the Gaussian distribution        \n",
    "        weights    : Weights of the averaged spectral signal             \n",
    "        center     : carrier frequency of the exciting laser field\n",
    "        **kwargs   : other named keyword arguments required by spec_fun\n",
    "        \n",
    "        Returns\n",
    "        -----------\n",
    "        signal  : Inhomogenously broadened spectral signal\n",
    "       \n",
    "\"\"\"\n",
    "    \n",
    "    #Create an empty list for all spectral signals\n",
    "    signals = [None]*len(spec_objs)\n",
    "        \n",
    "    #Loop over each molecular Hamiltonian and calculate spectra\n",
    "    for i in range(len(spec_objs)):\n",
    "        signals[i] = spec_fun(spec_objs[i],center=center,**kwargs)\n",
    "        \n",
    "\n",
    "    #Convert the signals list to a numpy array\n",
    "    np_signals = np.stack(signals)\n",
    "    \n",
    "    #Average over the signals\n",
    "    signal = np.einsum('i,i...',weights,np_signals)/weights.sum()\n",
    "    \n",
    "    return signal"
   ]
  },
  {
   "cell_type": "markdown",
   "id": "increased-trader",
   "metadata": {},
   "source": [
    "Now that these functions have been implemented, we can test them with the linear absorption signal, inhomogenously broadened with a standard deviation of 200 cm$^{-1}$. First, let us define a parameter for this standard deviation"
   ]
  },
  {
   "cell_type": "code",
   "execution_count": null,
   "id": "atmospheric-alexander",
   "metadata": {},
   "outputs": [],
   "source": [
    "#Parameter for inhomogenous broadening (200 cm-1)\n",
    "broad=200"
   ]
  },
  {
   "cell_type": "markdown",
   "id": "responsible-swing",
   "metadata": {},
   "source": [
    "Next we will setup our list of seperate calculation objects for the inhomogenous broadening, as well as the corresponding weights by calling the <code>setup_inhom</code> routine. It takes as parameters all those that were required by the <code>setup_ufss</code> routine, plus the standard deviation of the broadening defined above, and a number of calculations we wish to average over. This has been set to only 11, to speed up the computation."
   ]
  },
  {
   "cell_type": "code",
   "execution_count": null,
   "id": "recognized-casino",
   "metadata": {},
   "outputs": [],
   "source": [
    "num_points = 11\n",
    "sqab1_inhom,weights = setup_inhom(eA,eB,muA,muB,V1,Omega,S,l_sb,gamma,broad,num_points)"
   ]
  },
  {
   "cell_type": "markdown",
   "id": "biological-plate",
   "metadata": {},
   "source": [
    "Next, we call the <code>inhomogeneous_broadening</code> function. We need to pass it the previously defined <code>calculate_linear_absorption</code> function, our <code>sqab1_inhom</code> list, the weights for the averaging, the carrier frequency of our laser field, as well as the other named parameters required by <code>calculate_linear_absorption</code>, i.e. the time array and envelope function.\n",
    "    \n",
    "We save the resulting inhomogenously broadened signal into the <code>la_broadened</code> array, and get an array of the corresponding frequencies by using the <code>w.copy()</code> command on the first element of our <code>sqab1_inhom</code> list of UFSS objects. This is implemented below."
   ]
  },
  {
   "cell_type": "code",
   "execution_count": null,
   "id": "0e25f58c",
   "metadata": {},
   "outputs": [],
   "source": [
    "%%capture\n",
    "la_broadened = inhomogeneous_broadening(calculate_linear_absorption,sqab1_inhom,weights,omega_c,t=t,A=A)\n",
    "w = sqab1_inhom[0].w.copy()"
   ]
  },
  {
   "cell_type": "markdown",
   "id": "56daceba",
   "metadata": {},
   "source": [
    "Finally, we plot our inhomogenously broadened signal. Once more, we must shift our frequencies by <code>omega_c</code> and multiply by <code>Omega</code>. We can also normalise the signal"
   ]
  },
  {
   "cell_type": "code",
   "execution_count": null,
   "id": "treated-summer",
   "metadata": {
    "scrolled": false
   },
   "outputs": [],
   "source": [
    "fig, ax = plt.subplots(1,1,figsize=(8,5))\n",
    "\n",
    "#Shift by carrier frequency and multiply by Omega\n",
    "w_cm = (w+omega_c)*Omega\n",
    "\n",
    "#We also normalise the intensity of the signal\n",
    "la_broad_norm = np.real(la_broadened)/np.max(np.real(la_broadened))\n",
    "\n",
    "ax.plot(w_cm,la_broad_norm)\n",
    "ax.set_xlabel('Frequency $\\omega$ (cm$^{-1}$)',fontsize=16)\n",
    "ax.set_ylabel('Normalised Intensity',fontsize=16)\n",
    "ax.set_xlim([12000,17000])\n",
    "fig.tight_layout()"
   ]
  },
  {
   "cell_type": "markdown",
   "id": "behind-leisure",
   "metadata": {},
   "source": [
    "<div class=\"alert alert-block alert-info\">\n",
    "2.4) Test different values for the broadening parameter <code>broad</code> and see how it affects the absorption signal.\n",
    "    \n",
    "2.5) Compute and plot an inhomogenously broadened absorption spectrum for <code>sqab2</code>\n",
    "</div>"
   ]
  },
  {
   "cell_type": "code",
   "execution_count": null,
   "id": "painted-jesus",
   "metadata": {},
   "outputs": [],
   "source": [
    "%%capture\n",
    "#Answer to Q2.5\n",
    "#Setup the list of individual calculations as well as the weights for sqab2\n",
    "sqab2_inhom,weights2 = setup_inhom(...)\n",
    "#Call the inhomogenous_broadening function with relevant parameters for sqab2\n",
    "la2_broadened = inhomogeneous_broadening(...)\n",
    "#Extract the frequency array\n",
    "w2 = sqab2_inhom[0].w.copy()"
   ]
  },
  {
   "cell_type": "code",
   "execution_count": null,
   "id": "known-apartment",
   "metadata": {},
   "outputs": [],
   "source": [
    "#Answer to Q2.5 cont\n",
    "fig, ax = plt.subplots(1,1,figsize=(8,5))\n",
    "\n",
    "#We need to shift the signal by the carrier frequency omega_c, and multiply by the unit Omega\n",
    "w2_cm = ...\n",
    "\n",
    "#We also normalise the intensity of the signal\n",
    "la2_broad_norm = ...\n",
    "\n",
    "#Plot the absorption signal.\n",
    "ax.plot(w2_cm,np.real(la2_broad_norm))\n",
    "ax.set_xlabel('Frequency $\\omega$ (cm$^{-1}$)',fontsize=16)\n",
    "ax.set_xlim([12000,17000])\n",
    "fig.tight_layout()"
   ]
  },
  {
   "cell_type": "markdown",
   "id": "expected-yield",
   "metadata": {},
   "source": [
    "***\n",
    "## 3. Transient Absorption\n",
    "\n",
    "Transient absorption spectroscopy is conducted by a pump laser pulse that excites a sample, and a probe laser pulse that measures the change in absorption of the sample after a time delay. It is perhaps the most straightforward of the 3rd order non-linear spectroscopies, with the generated 3rd order polarisation being detected in the same direction as the probe laser pulse, which acts as a local oscillator. In terms of the phase-matching condition, the resultant wavevector of the third order polarization $k_{\\text{sig}}$ can be expressed in terms of the wavevectors of the pump $k_{\\text{pu}}$ and probe $k_{\\text{pr}}$ pulses as:\n",
    "\n",
    "\\begin{equation}\n",
    "k_{\\text{sig}} = -k_{\\text{pu}} + k_{\\text{pu}} + k_{\\text{pr}}\n",
    "\\end{equation}\n",
    "\n",
    "Therefore, the electric field of the pump pulse is actually providing two wavevectors simultaneously in the positive and negative directions, so that the resultant $k_{\\text{sig}}$ is in the direction of the probe, which is used as the local oscillator for detection. Depsite only using pump and probe pulses, transient absorption is still formally a 4 wave mixing technique (three waves to provide a field in the direction $k_{\\text{sig}}$, which is then emitted and detected by the local oscillator).\n",
    "\n",
    "Let's now illutsrate how we can compute this within UFSS, implemented in the function below <code>calculate_transient_absorption</code>. For simplicity, we have chosen the pump and probe pulses to have the same Gaussian profile and carrier frequency. Important points to note in the below are in the following lines:\n",
    "\n",
    "* <code>spec_obj.set_efields([t]\\*4,[A]\\*4,[c]\\*4,['-','+','+'])</code> : Similar to the previously illustrated linear absorption routine, this sets the electric fields and phase matching condition within UFSS. First the time array, envelope function and central carrier frequencies are passed - in this case each of them is multiplied by 4 since we have 4 electric fields we need to define. We also define the envelope function within this routine, by passing the standard deviation for the Gaussian pulse as a parameter <code>sigma</code>. The definition of the envelope function is the same as written earlier in the practical. Finally <code>['-','+','+']</code> sets the phase matching condition, equivalent to $ -k_{\\text{pu}} + k_{\\text{pu}} + k_{\\text{pr}}$.\n",
    "*  <code>spec_obj.set_pulse_delays([np.array([0]),delay_times])</code> Sets the delay time for the pulses. Only two variables are passed, time 0 for the pump pulse, and a sequence of delay times for the probe pulse.\n",
    "* <code>spec_obj.set_polarization_sequence(['x']*4)</code> Defines all the pulses to have $x$ direction polarization - i.e. in the same direction as our dipole moments.\n",
    "* The final two lines of the routine perform an isotropic averaging of the spectral signal - assuming a random distribution of molecules in the labarotory frame.\n",
    "* The returned signal is of the form $S^{(3)}(t_{\\text{pump}},t_{\\text{probe}},\\omega_{\\text{detect}})$, and therefore given as a 3 dimensional numpy array. The first dimension is equal to the dimension of the pump times passed to <code>spec_obj.set_pulse_delays</code> (i.e. 1D), the second dimension is equal to that of <code>delay_times</code>, whilst the third dimension is equal to the dimension of the detection frequencies that exists in the <code>spec_obj.w</code> method, which is worked out internally by UFSS."
   ]
  },
  {
   "cell_type": "code",
   "execution_count": null,
   "id": "choice-campbell",
   "metadata": {},
   "outputs": [],
   "source": [
    "def calculate_transient_absorption(spec_obj,sigma,center,delay_times):\n",
    "    \"\"\"This function computes the transient absorption spectrum \n",
    "       due to Gaussian pump and probe laser pulses\n",
    "        \n",
    "        Parameters\n",
    "        -----------\n",
    "        spec_obj    : A UFSS object created by the ufss.DensityMatrices routine\n",
    "        sigma       : Standard deviation of the pump and probe laser pulses\n",
    "        center      : carrier frequency of the pump and probe laser fields\n",
    "        delay_times : Array of delay times between pump and probe\n",
    "        \n",
    "        Returns\n",
    "        -----------\n",
    "        signal  : Transient absorption signal: a 3 dimensional numpy array,\n",
    "                  with the dimensions of the array corresponding to:\n",
    "                  1st dimension: pump times (1D)\n",
    "                  2nd dimension: probe times (same dimension as delay_times)\n",
    "                  3rd dimension: Detection frequencies\n",
    "       \n",
    "\"\"\"\n",
    "    \n",
    "    #carrier frequency for the pulse\n",
    "    c = center\n",
    "    #Number of time points for defining laser pulses\n",
    "    M = 1001\n",
    "    #Array of time points for the pulses\n",
    "    t = np.linspace(-20*sigma,20*sigma,num=M)\n",
    "    #Define Gaussian envelope\n",
    "    A = ufss.gaussian(t,sigma)\n",
    "    #Set times, envelope, centers and phase discrimination for laser pulses\n",
    "    spec_obj.set_efields([t]*4,[A]*4,[c]*4,['-','+','+'])\n",
    "    #Set delay times - pump arrives at time 0, probe after a delay\n",
    "    spec_obj.set_pulse_delays([np.array([0]),delay_times])\n",
    "    #Set a time grid for the calculated polarization\n",
    "    spec_obj.set_t(0.1)\n",
    "    \n",
    "    #Set polarization direction of laser pulses\n",
    "    spec_obj.set_polarization_sequence(['x']*4)\n",
    "    \n",
    "    \n",
    "    #Makes an object for the isotropically averaged signal\n",
    "    iso = ufss.signals.FWMIsotropicAverage(spec_obj,['x']*4)\n",
    "    #Perform the isotropic averaging\n",
    "    signal = iso.averaged_signal(return_signal=True)\n",
    "    \n",
    "    return signal\n"
   ]
  },
  {
   "cell_type": "markdown",
   "id": "right-gateway",
   "metadata": {},
   "source": [
    "First, let us define an array for the probe delays, from 0 to 30 in units of $\\omega_0^{-1}$ such that it corresponds in fs to delay times from 0 to $\\sim$130 fs."
   ]
  },
  {
   "cell_type": "code",
   "execution_count": null,
   "id": "palestinian-algeria",
   "metadata": {},
   "outputs": [],
   "source": [
    "probe_t = np.arange(0,30,1)"
   ]
  },
  {
   "cell_type": "markdown",
   "id": "adequate-turner",
   "metadata": {},
   "source": [
    "Now, we can call our transient absorption function, and save the resulting signal into the array <code>ta</code>. Like with the linear absorption example in the previous section, we can get an array of the detection frequencies with the <code>sqab1.w.copy()</code> command."
   ]
  },
  {
   "cell_type": "code",
   "execution_count": null,
   "id": "driven-backing",
   "metadata": {},
   "outputs": [],
   "source": [
    "%%capture\n",
    "ta = calculate_transient_absorption(sqab1,sigma,omega_c,probe_t)\n",
    "w = sqab1.w.copy()"
   ]
  },
  {
   "cell_type": "markdown",
   "id": "increasing-details",
   "metadata": {},
   "source": [
    "Now, we will plot this transient absorption signal. In contrast to linear absorption, where we only had two dimensions to plot (signal and frequency), with transient absorption we now have a third dimension - time. To visualise this, we will make use of a colour map, where time appears on the $x$ axis, detection frequency on the $y$ axis, and the signal intensity is given a colour. UFSS has a <code>ufss.signals.plot2D</code> function that takes care of this for us, we just need to pass the $x$ and $y$ values, the signal, and an optional argument that states we only want to plot the real part of the signal. \n",
    "\n",
    "<b>Technical note:</b> As mentioned above, the transient absorption signal <code>ta</code> is a 3 dimensional array, and <code>plot2D</code> requires a 2 dimensional array for the signal. However, the first array index only has a size of 1 (viewed with the <code>print(ta.shape)</code> command), so we can \"slice\" the array at this point with the command <code>ta[0,:,:]</code> (python starts indexing at \"0\")."
   ]
  },
  {
   "cell_type": "code",
   "execution_count": null,
   "id": "maritime-consensus",
   "metadata": {
    "scrolled": false
   },
   "outputs": [],
   "source": [
    "#Illustrate the shape of the signal array\n",
    "print(ta.shape)\n",
    "\n",
    "#Convert probe delay times to fs\n",
    "probe_t_fs = probe_t*inv_omega0\n",
    "\n",
    "#Convert detection frequency to cm-1\n",
    "w_cm = (w+omega_c)*Omega\n",
    "\n",
    "#Plot the colour map\n",
    "ufss.signals.plot2D(probe_t_fs,w_cm,ta[0,:,:],part='real')\n",
    "#Set axis labels and limits\n",
    "plt.ylabel('Detection Frequency \\n $\\omega$ (cm$^{-1}$)',fontsize=14)\n",
    "plt.xlabel('Delay time (fs)',fontsize=14)\n",
    "plt.ylim([12500,16000])\n",
    "plt.tight_layout()"
   ]
  },
  {
   "cell_type": "markdown",
   "id": "informal-optimum",
   "metadata": {},
   "source": [
    "<div class=\"alert alert-block alert-info\">\n",
    "3.1) Compute and plot the transient absorption spectrum for <code>sqab2</code>. What is the difference between the two spectra?\n",
    "</div>"
   ]
  },
  {
   "cell_type": "code",
   "execution_count": null,
   "id": "arabic-jamaica",
   "metadata": {},
   "outputs": [],
   "source": [
    "%%capture\n",
    "#Answer to Q3.1\n",
    "ta2 = ...\n",
    "w2 = sqab2.w.copy()"
   ]
  },
  {
   "cell_type": "code",
   "execution_count": null,
   "id": "suited-publicity",
   "metadata": {},
   "outputs": [],
   "source": [
    "#Convert detection frequency to cm-1\n",
    "w2_cm = (w2+omega_c)*Omega\n",
    "\n",
    "#Plot the colour map\n",
    "ufss.signals.plot2D(probe_t_fs,w2_cm,ta2[0,:,:],part='real')\n",
    "#Set axis labels and limits\n",
    "plt.ylabel('Detection Frequency \\n $\\omega$ (cm$^{-1}$)',fontsize=14)\n",
    "plt.xlabel('Delay time (fs)',fontsize=14)\n",
    "plt.ylim([12500,16000])\n",
    "plt.tight_layout()"
   ]
  },
  {
   "cell_type": "markdown",
   "id": "completed-helena",
   "metadata": {},
   "source": [
    "***\n",
    "### 3.1 Peak Monitoring\n",
    "\n",
    "Next, let us plot time-dependent cuts through the signal at approximately the energies from peaks in the absorption spectrum ($f_1 = 13533$ cm$^{-1}$ and $f_2 = 14800$ cm$^{-1}$). To do this, we need to first find out what index in the frequency array <code>w</code> these wavenumbers correspond to. We can work this out by adding the carrier frequency to the <code>w</code> array, and then subtracting either $f_1$ or $f_2$. After this procedure, the element in the <code>w</code> array closest to 0 is located in the index we want, which can be found using the <code>np.argmin</code> command. The two indexes are obtained below."
   ]
  },
  {
   "cell_type": "code",
   "execution_count": null,
   "id": "chronic-stick",
   "metadata": {},
   "outputs": [],
   "source": [
    "#Get wavenumbers in multiples of Omega\n",
    "f1=13533/Omega\n",
    "f2=14800/Omega\n",
    "#Get the index they appear in the detection frequency array w\n",
    "ind1 = np.argmin(np.abs(w+omega_c-f1))\n",
    "ind2 = np.argmin(np.abs(w+omega_c-f2))"
   ]
  },
  {
   "cell_type": "markdown",
   "id": "assumed-salvation",
   "metadata": {},
   "source": [
    "We can then extract the intensity of the signal at these frequencies, as the detection frequency corresponds to the third dimension in the <code>ta</code> array."
   ]
  },
  {
   "cell_type": "code",
   "execution_count": null,
   "id": "addressed-singing",
   "metadata": {
    "scrolled": true
   },
   "outputs": [],
   "source": [
    "#Extract TA signal at 13533 cm-1\n",
    "y1 = np.real(ta[0,:,ind1])\n",
    "#Extract TA signal at 14800 cm-1\n",
    "y2 = np.real(ta[0,:,ind2])"
   ]
  },
  {
   "cell_type": "markdown",
   "id": "seeing-knife",
   "metadata": {},
   "source": [
    "Now let us plot these extracted intensities:"
   ]
  },
  {
   "cell_type": "code",
   "execution_count": null,
   "id": "limited-syracuse",
   "metadata": {},
   "outputs": [],
   "source": [
    "plt.figure(figsize=(8,5))\n",
    "plt.plot(probe_t_fs,y1,'-o',color='cyan')\n",
    "plt.plot(probe_t_fs,y2,'-o',color='violet')\n",
    "plt.xlabel('Delay time (fs)')\n",
    "plt.ylabel('TA Intensity')\n",
    "\n",
    "plt.tight_layout()"
   ]
  },
  {
   "cell_type": "markdown",
   "id": "departmental-course",
   "metadata": {},
   "source": [
    "<div class=\"alert alert-block alert-warning\">\n",
    "    We can see oscillations in the transient absorption signal - think about whether these are due to vibrational or electronic coherences. (Hint: take a look to the last section of the quantum dynamics exercise, in particular the eigenvectors of the vibronic Hamiltonian).\n",
    "    \n",
    "Could you think how to make a model with purely vibrational or purely electronic coherences?\n",
    "  \n",
    "</div>"
   ]
  },
  {
   "cell_type": "markdown",
   "id": "bizarre-adolescent",
   "metadata": {},
   "source": [
    "<div class=\"alert alert-block alert-info\">\n",
    "    3.2) Make cuts through your transient absorption signal for <code>sqab2</code> at the wavenumbers of the two main peaks in your absorption spectrum.\n",
    "</div>"
   ]
  },
  {
   "cell_type": "code",
   "execution_count": null,
   "id": "painted-gnome",
   "metadata": {},
   "outputs": [],
   "source": [
    "#Answer to Q3.2\n",
    "#Get wavenumbers in multiples of Omega\n",
    "f3= ...\n",
    "f4= ...\n",
    "#Get the index they appear in the frequency array w2\n",
    "ind3 = ...\n",
    "ind4 = ...\n",
    "\n",
    "#Extract TA signal from ta2 at wavenumber f3\n",
    "y3 = np.real(ta2[0,:,ind3])\n",
    "#Extract TA signal from ta2 at wavenumber f4\n",
    "y4 = np.real(ta2[0,:,ind4])\n",
    "\n",
    "#Make the plot\n",
    "plt.figure(figsize=(8,5))\n",
    "plt.plot(probe_t_fs,y3,'-o',color='cyan')\n",
    "plt.plot(probe_t_fs,y4,'-o',color='violet')\n",
    "plt.xlabel('Delay time (fs)')\n",
    "plt.ylabel('TA Intensity')\n",
    "\n",
    "plt.tight_layout()"
   ]
  },
  {
   "cell_type": "markdown",
   "id": "sacred-moment",
   "metadata": {},
   "source": [
    "***\n",
    "### 3.2 Subtraction of Probe Absorption\n",
    "\n",
    "We can also observe oscillations in the total signal by subtracting the probe absorption from our transient absorption signal. First let us calculate the transient absorption signal after a long time delay relative to our system (500 $\\omega_0^{-1} \\simeq 2170$ fs)"
   ]
  },
  {
   "cell_type": "code",
   "execution_count": null,
   "id": "later-carroll",
   "metadata": {},
   "outputs": [],
   "source": [
    "%%capture\n",
    "#Define a long probe delay\n",
    "long_t = np.array([500])\n",
    "#Calculate the TA signal at this long probe delay\n",
    "ta_final = calculate_transient_absorption(sqab1,sigma,omega_c,long_t)\n"
   ]
  },
  {
   "cell_type": "markdown",
   "id": "spare-charm",
   "metadata": {},
   "source": [
    "Now subtract it from our previously calculated TA signal"
   ]
  },
  {
   "cell_type": "code",
   "execution_count": null,
   "id": "flush-membership",
   "metadata": {},
   "outputs": [],
   "source": [
    "ta_minus_probe = ta[0,:,:]-ta_final[0,0,:]"
   ]
  },
  {
   "cell_type": "markdown",
   "id": "considered-being",
   "metadata": {},
   "source": [
    "And finally plot our transient absorption signal minus the probe absorption"
   ]
  },
  {
   "cell_type": "code",
   "execution_count": null,
   "id": "conditional-phrase",
   "metadata": {
    "scrolled": false
   },
   "outputs": [],
   "source": [
    "ufss.signals.plot2D(probe_t_fs,w_cm,ta_minus_probe,part='real')\n",
    "plt.ylabel('Detection Frequency \\n $\\omega$ (cm$^{-1}$)',fontsize=14)\n",
    "plt.xlabel('Delay time (fs)',fontsize=14)\n",
    "plt.ylim([12500,16000])\n",
    "fig.tight_layout()"
   ]
  },
  {
   "cell_type": "markdown",
   "id": "polyphonic-probability",
   "metadata": {},
   "source": [
    "<div class=\"alert alert-block alert-info\">\n",
    "    3.3) Calculate the probe absorption for <code>sqab2</code>, subtract it from the TA signal and plot.\n",
    "</div>"
   ]
  },
  {
   "cell_type": "code",
   "execution_count": null,
   "id": "built-picnic",
   "metadata": {},
   "outputs": [],
   "source": [
    "%%capture\n",
    "#Answer to Q3.3\n",
    "#Calculate the TA signal at this long probe delay\n",
    "ta2_final = ...\n",
    "\n",
    "#Subtract it from the previously calculated signal\n",
    "ta2_minus_probe = ..."
   ]
  },
  {
   "cell_type": "code",
   "execution_count": null,
   "id": "herbal-diversity",
   "metadata": {},
   "outputs": [],
   "source": [
    "#Plot the result\n",
    "ufss.signals.plot2D(probe_t_fs,w2_cm,ta2_minus_probe,part='real')\n",
    "plt.ylabel('Detection Frequency \\n $\\omega$ (cm$^{-1}$)',fontsize=14)\n",
    "plt.xlabel('Delay time (fs)',fontsize=14)\n",
    "plt.ylim([12500,16000])\n",
    "fig.tight_layout()"
   ]
  },
  {
   "cell_type": "markdown",
   "id": "laughing-public",
   "metadata": {},
   "source": [
    "***\n",
    "## 4. 2D Electronic Spectroscopy (2DES)\n",
    "\n",
    "### 4.1 Rephasing, non-rephasing and absorptive spectra\n",
    "\n"
   ]
  },
  {
   "cell_type": "markdown",
   "id": "living-jumping",
   "metadata": {},
   "source": [
    "2DES consists of a sequence of three ultrafast laser pulses interacting with a sample, separated by times $t_1$, $t_2$, and $t_3$, which generate the third order polarization $P^{(3)}$ in the sample that is detected by a fourth laser beam (the local oscillator). This pulse sequence is illustrated below\n",
    "\n",
    "<center><img src=\"Figs/pulse_sequence.png\"/></center>\n",
    "\n",
    "The resulting signal generated by the third order polarization is then plotted as a function of the excitation frequency $\\omega_1$, which is the Fourier transform of $t_1$ (also known as the coherence time), and the detection frequency $\\omega_3$, which is the Fourier transform of $t_3$ (also known as the detection time). The evolution of these 2D maps is followed along $t_2$, which is known as the delay or population time, and during this time the molecular system evolves. Therefore $t_2$ reports on the excited and ground state dynamics of the system.\n",
    "\n",
    "The signal is typically detected in so called \"rephasing\" and \"non-rephasing\" directions, where the phase matched wavevectors of the detected signal are respectively:\n",
    "\n",
    "\\begin{equation}\n",
    "k_{\\text{r}} = -k_1 + k_2 +k_3\n",
    "\\end{equation}\n",
    "\n",
    "and\n",
    "\n",
    "\\begin{equation}\n",
    "k_{\\text{nr}} = + k_1 - k_2 + k_3\n",
    "\\end{equation}\n",
    "\n",
    "The signals in these directions are complex valued, and typically plotting the real, imaginary, or absolute value of them can be difficult to interpret since they contain both absorptive and dispersive contributions, making the bands broad. Instead, commonly the real parts of the rephasing and non-rephasing signals are summed, obtaining the \"purely absorptive\" or \"total\" signal, which yields sharper peaks and is easier to interpret. \n",
    "\n",
    "Below, routines are defined to calculate the rephasing and non-rephasing signals in UFSS, <code>calculate_2DES_r</code> and <code>calculate_2DES_nr</code> respectively. These routines broadly resemble that of <code>calculate_transient_absorption</code>, although there are some differences:\n",
    "\n",
    "* The <code>set_efields</code> is passed the rephasing and non rephasing phase matching conditions ($k_{\\text{r}}=$ <code>['-','+','+']</code> and $k_{\\text{nr}}=$<code>['+','-','+']</code>). \n",
    "* The <code>set_pulse_delays</code> now contains an array of $t_1$ times rather then 0 in the pump probe case. These $t_1$ times are extracted internally from UFSS.\n",
    "* The electric field envelopes are defined on a smaller grid (<code>M = 51</code> and from $-5\\sigma$ to $+5\\sigma$) in order to speed up the calculations. \n",
    "* In order to return the full, complex signal we set <code>spec_obj.return_complex_signal = True</code>.\n",
    "\n",
    "The returned signal is of the form  $S^{(3)}(t_{{1}},t_{{2}},\\omega_{{3}})$, and therefore a 3 dimensional array, similar to the transient absorption case. However, the first dimension of the array is now not equal to 1, but equal to the size of the array of $t_1$ times. The second dimension of the array is equal to the size of the $t_2$ array, whilst the third dimension is equal to the size of the $\\omega_3$ array.\n",
    "\n",
    "The defined functions also contain an optional argument <code>dgs</code>, which will not be used in the present section, but will be introduced Section 5 when discussing Feynman diagrams and seperation of different components of the signal."
   ]
  },
  {
   "cell_type": "code",
   "execution_count": null,
   "id": "unable-robertson",
   "metadata": {},
   "outputs": [],
   "source": [
    "def calculate_2DES_r(spec_obj,sigma,center,delay_times,dgs='all'):\n",
    "    \n",
    "    \"\"\"This function computes the rephasing 2DES signal\n",
    "        \n",
    "        Parameters\n",
    "        -----------\n",
    "        spec_obj       : A UFSS object created by the ufss.DensityMatrices routine\n",
    "        sigma          : Standard deviation of the laser pulses\n",
    "        center         : Carrier frequency of the laser pulses\n",
    "        delay_times    : Array of t2 delay times\n",
    "        dgs (optional) : List of Feynamn diagrams. Default is all.\n",
    "        \n",
    "        Returns\n",
    "        -----------\n",
    "        signal  : 2DES rephasing signal: a 3 dimensional numpy array,\n",
    "                  with the dimensions of the array corresponding to:\n",
    "                  1st dimension: t1 times\n",
    "                  2nd dimension: t2 times (same dimension as delay_times)\n",
    "                  3rd dimension: w3 detection frequencies\n",
    "       \n",
    "\"\"\"\n",
    "    \n",
    "    #carrier frequency for the pulses    \n",
    "    c = center\n",
    "    #Number of time points for defining laser pulses\n",
    "    M = 51\n",
    "    #Array of time points for the pulses\n",
    "    t = np.linspace(-5*sigma,5*sigma,num=M)\n",
    "    #Define Gaussian envelope\n",
    "    A = ufss.gaussian(t,sigma)\n",
    "    #Set times, envelope, centers and phase discrimination for laser pulses\n",
    "    spec_obj.set_efields([t]*4,[A]*4,[c]*4,['-','+','+'])\n",
    "    #Set a time grid for the calculated polarization\n",
    "    spec_obj.set_t(0.1)\n",
    "    #Extract t1 times from UFSS\n",
    "    t1 = spec_obj.t.copy()[spec_obj.t.size//2:]\n",
    "    \n",
    "    #Set pulse delays t1 and t2\n",
    "    spec_obj.set_pulse_delays([t1,delay_times])\n",
    "\n",
    "    #Set polarization direction of laser pulses\n",
    "    spec_obj.set_polarization_sequence(['x']*4)\n",
    "    \n",
    "    #Return the full complex signal\n",
    "    spec_obj.return_complex_signal = True\n",
    "    \n",
    "    #Makes an object for the isotropically averaged signal\n",
    "    iso = ufss.signals.FWMIsotropicAverage(spec_obj,['x']*4,diagrams=dgs)\n",
    "    #Perform the isotropic averaging\n",
    "    signal = iso.averaged_signal(return_signal=True)\n",
    "    \n",
    "    return signal\n"
   ]
  },
  {
   "cell_type": "code",
   "execution_count": null,
   "id": "velvet-pixel",
   "metadata": {},
   "outputs": [],
   "source": [
    "def calculate_2DES_nr(spec_obj,sigma,center,delay_times,dgs='all'):\n",
    "    \n",
    "    \"\"\"This function computes the non-rephasing 2DES signal\n",
    "        \n",
    "        Parameters\n",
    "        -----------\n",
    "        spec_obj       : A UFSS object created by the ufss.DensityMatrices routine\n",
    "        sigma          : Standard deviation of the laser pulses\n",
    "        center         : Carrier frequency of the laser pulses\n",
    "        delay_times    : Array of t2 delay times\n",
    "        dgs (optional) : List of Feynamn diagrams. Default is all.\n",
    "        \n",
    "        Returns\n",
    "        -----------\n",
    "        signal  : 2DES nonrephasing signal: a 3 dimensional numpy array,\n",
    "                  with the dimensions of the array corresponding to:\n",
    "                  1st dimension: t1 times\n",
    "                  2nd dimension: t2 times (same dimension as delay_times)\n",
    "                  3rd dimension: w3 detection frequencies\n",
    "       \n",
    "\"\"\"\n",
    "    #carrier frequency for the pulses    \n",
    "    c = center\n",
    "    #Number of time points for defining laser pulses\n",
    "    M = 51\n",
    "    #Array of time points for the pulses\n",
    "    t = np.linspace(-5*sigma,5*sigma,num=M)\n",
    "    #Define Gaussian envelope\n",
    "    A = ufss.gaussian(t,sigma)\n",
    "    #Set times, envelope, centers and phase discrimination for laser pulses\n",
    "    spec_obj.set_efields([t]*4,[A]*4,[c]*4,['+','-','+'])\n",
    "    #Set a time grid for the calculated polarization\n",
    "    spec_obj.set_t(0.1)\n",
    "    #Extract t1 times from UFSS\n",
    "    t1 = spec_obj.t.copy()[spec_obj.t.size//2:]\n",
    "    \n",
    "    #Set pulse delays t1 and t2\n",
    "    spec_obj.set_pulse_delays([t1,delay_times])\n",
    "\n",
    "    #Set polarization direction of laser pulses\n",
    "    spec_obj.set_polarization_sequence(['x']*4)\n",
    "    \n",
    "    #Return the full complex signal\n",
    "    spec_obj.return_complex_signal = True\n",
    "    \n",
    "    #Makes an object for the isotropically averaged signal\n",
    "    iso = ufss.signals.FWMIsotropicAverage(spec_obj,['x']*4,diagrams=dgs)\n",
    "    #Perform the isotropic averaging\n",
    "    signal = iso.averaged_signal(return_signal=True)\n",
    "    \n",
    "    return signal\n"
   ]
  },
  {
   "cell_type": "markdown",
   "id": "desperate-nutrition",
   "metadata": {},
   "source": [
    "Let us define an array for the delay/population time $t_2$ from 0 to 30, in steps of 3 and units of $\\omega_0^{-1}$ such that it corresponds in fs to delay times from 0 to $\\sim$130 fs, in steps of $\\sim$13 fs."
   ]
  },
  {
   "cell_type": "code",
   "execution_count": null,
   "id": "classified-mention",
   "metadata": {},
   "outputs": [],
   "source": [
    "#Delay times\n",
    "t2 = np.arange(0,30,3)\n",
    "#Also write the array in fs\n",
    "t2_fs = t2*inv_omega0"
   ]
  },
  {
   "cell_type": "markdown",
   "id": "cultural-vegetable",
   "metadata": {},
   "source": [
    "Now, we calculate the rephasing and non rephasing signals using these routines. We also obtain the coherence times $t_1$ directly from UFSS with the <code>all_pulse_delays[0]</code> element of our <code>sqab1</code> object, as well as the detection frequency $w_3$ from the <code>w</code> element of our <code>sqab1</code> object. These are stored in the variables <code>t1r</code> and <code>t1nr</code>, and <code>w3r</code> and <code>w3nr</code> for the rephasing and non rephasing spectra, respectively.\n",
    "\n",
    "<b><font color='red'>Warning</font></b> : This will take a few minutes to run"
   ]
  },
  {
   "cell_type": "code",
   "execution_count": null,
   "id": "threatened-twenty",
   "metadata": {},
   "outputs": [],
   "source": [
    "%%capture\n",
    "#Calculate the rephasing spectrum \n",
    "tdes_r = calculate_2DES_r(sqab1,sigma,omega_c,delay_times=t2)\n",
    "#Obtain the coherence times\n",
    "t1r = sqab1.all_pulse_delays[0].copy()\n",
    "#Obtain the detection frequencies\n",
    "w3r = sqab1.w.copy()\n",
    "\n",
    "#Calculate the non-ephasing spectrum \n",
    "tdes_nr = calculate_2DES_nr(sqab1,sigma,omega_c,delay_times=t2)\n",
    "#Obtain the coherence times\n",
    "t1nr = sqab1.all_pulse_delays[0].copy()\n",
    "#Obtain the detection frequencies\n",
    "w3nr = sqab1.w.copy()"
   ]
  },
  {
   "cell_type": "markdown",
   "id": "joined-essay",
   "metadata": {},
   "source": [
    "Since our obtained signals <code>tdes_r</code> and <code>tdes_nr</code> are of the form $S^{(3)}(t_{{1}},t_{{2}},\\omega_{{3}})$, but we would like to plot $S^{(3)}(\\omega_{{1}},t_{{2}},\\omega_{{3}})$, we must Fourier transform over the times $t_1$ in order to obtain the signal in terms of the excitation frequencies $\\omega_1$.\n",
    "\n",
    "To do this, we can utitlise the Fourier transform methods built into UFSS. We require the <code>signals.SignalProcessing.ft1D</code> method for the rephasing spectrum, and the <code>signals.SignalProcessing.ift1D</code> method for the non-rephasing spectrum. It is necessary to use the inverse Fourier transform for the latter, due to the sign change associated with $k_1$ for the non-rephasing spectrum relative to the rephasing one. We implement two functions below to calculate these Fourier transforms, which returns an array of excitation frequencies $\\omega_1$, as well as the signal as a function of $\\omega_1$, $t_2$ and $\\omega_3$."
   ]
  },
  {
   "cell_type": "code",
   "execution_count": null,
   "id": "decreased-joshua",
   "metadata": {},
   "outputs": [],
   "source": [
    "def ft_rephasing(signal,t1r):\n",
    "    \"\"\" This function performs a Fourier transform over the coherence times t1\n",
    "        to return excitation frequencies w1 \n",
    "        and the 2DES rephasing signal in terms of them\n",
    "        \n",
    "        Parameters\n",
    "        -----------\n",
    "        signal : Rephasing 2DES signal as a function of t1, t2 and w3\n",
    "        t1r    : Array of t1 times\n",
    "        \n",
    "        Returns\n",
    "        -----------\n",
    "        w1r       : Array of excitation frequencies w1\n",
    "        tdes_r_ft : Fourier transformed 2DES rephasing signal,\n",
    "                    as a function of w1, t2 and w3\n",
    "       \n",
    "\"\"\"    \n",
    "    tdes_r_for_ft = signal.copy()\n",
    "    tdes_r_for_ft[0,...] *= 0.5\n",
    "    w1r, tdes_r_ft = ufss.signals.SignalProcessing.ft1D(t1r,tdes_r_for_ft,axis=0)\n",
    "    \n",
    "    return w1r, tdes_r_ft"
   ]
  },
  {
   "cell_type": "code",
   "execution_count": null,
   "id": "controlled-webster",
   "metadata": {},
   "outputs": [],
   "source": [
    "def ft_nonrephasing(signal,t1nr):\n",
    "    \"\"\" This function performs a Fourier transform over the coherence times t1\n",
    "        to return excitation frequencies w1 \n",
    "        and the 2DES nonrephasing signal in terms of them\n",
    "        \n",
    "        Parameters\n",
    "        -----------\n",
    "        signal : Rephasing 2DES signal as a function of t1, t2 and w3\n",
    "        t1nr   : Array of t1 times\n",
    "        \n",
    "        Returns\n",
    "        -----------\n",
    "        w1nr       : Array of excitation frequencies w1\n",
    "        tdes_nr_ft : Fourier transformed 2DES nonrephasing signal,\n",
    "                     as a function of w1, t2 and w3\n",
    "       \n",
    "\"\"\"\n",
    "    tdes_nr_for_ft = signal.copy()\n",
    "    tdes_nr_for_ft[0,...] *= 0.5\n",
    "    w1nr, tdes_nr_ft = ufss.signals.SignalProcessing.ift1D(t1nr,tdes_nr_for_ft,axis=0)\n",
    "    tdes_nr_ft *= 2*np.pi\n",
    "    \n",
    "    return w1nr, tdes_nr_ft"
   ]
  },
  {
   "cell_type": "markdown",
   "id": "super-tiffany",
   "metadata": {},
   "source": [
    "With these functions defined, we can perform the Fourier transformations for the rephasing and non-rephasing signals"
   ]
  },
  {
   "cell_type": "code",
   "execution_count": null,
   "id": "solid-domain",
   "metadata": {},
   "outputs": [],
   "source": [
    "w1r, tdes_r_ft = ft_rephasing(tdes_r,t1r) "
   ]
  },
  {
   "cell_type": "code",
   "execution_count": null,
   "id": "designing-terrorism",
   "metadata": {},
   "outputs": [],
   "source": [
    "w1nr, tdes_nr_ft = ft_nonrephasing(tdes_nr,t1nr) "
   ]
  },
  {
   "cell_type": "markdown",
   "id": "announced-screen",
   "metadata": {},
   "source": [
    "Now, we can plot the spectra as a function of $\\omega_1$ and $\\omega_3$. This is implemented in the <code>plot_2des</code> function below. As with the transient absorption case, we make use of the <code>plot2D</code> function in UFSS. Here, the $x$ and $y$ axes are the excitation frequency $\\omega_1$ and detection frequency $\\omega_3$, respectively. As previous, we must shift by the carrier frequency and multiply by $\\Omega$.\n",
    "\n",
    "We plot the spectrum for a particular $t_2$ time, and the routine can take integer indeces of the $t_2$ array to plot the spectrum at different delay times. We also only plot the real part of the spectrum.\n",
    "\n",
    "UFSS follows the experimental convention that ground state bleaching and stimulated emission are shown as negative signals, and excited state absorption is shown with a positive signal. This comes from the historical pump probe convention that signals are measured as an absorption difference relative to the absorption before photoexcitation. This point will be discussed further in Section 5. "
   ]
  },
  {
   "cell_type": "code",
   "execution_count": null,
   "id": "annual-basin",
   "metadata": {},
   "outputs": [],
   "source": [
    "def plot_2des(signal,w1,w3,omega_c,Omega,t2_ind=0,vmax='max'):\n",
    "    \"\"\" This function plots 2D spectra\n",
    "        \n",
    "        Parameters\n",
    "        -----------\n",
    "        signal  : 2DES signal as a function of w1, t2 and w3\n",
    "        w1      : Array of excitation frequencies\n",
    "        w3      : Array of detection frequencies\n",
    "        omega_c : Carrier frequency of the laser pulses\n",
    "        Omega   : Vibrational wavenumber which the Hamiltonian\n",
    "                  is written in multiples of\n",
    "                  \n",
    "        t2_ind (optional) : Integer index of t2 delay times. \n",
    "                            Default is 0, i.e. first t2 time.\n",
    "        vmax (optional)   : Maximum value for colourbar.\n",
    "                            Default is maximum signal intensity.\n",
    "       \n",
    "\"\"\"\n",
    "    \n",
    "    #Shift by carrier frequency and multiply by Omega\n",
    "    w1_cm = (w1+omega_c)*Omega\n",
    "    w3_cm = (w3+omega_c)*Omega\n",
    "    #Make the plot\n",
    "    ufss.signals.plot2D(w1_cm,w3_cm,signal[:,t2_ind,:],\n",
    "                        part='real',vmax=vmax)\n",
    "    #Set the x and y limits\n",
    "    plt.xlim([12500,16000])\n",
    "    plt.ylim([12500,16000])\n",
    "    #Give axis labels\n",
    "    plt.xlabel('Excitation Frequency \\n $\\omega_1$ (cm$^{-1}$)',fontsize=16)\n",
    "    plt.ylabel('Detection Frequency \\n $\\omega_3$ (cm$^{-1}$)',fontsize=16)\n",
    "    plt.tight_layout()"
   ]
  },
  {
   "cell_type": "code",
   "execution_count": null,
   "id": "veterinary-compiler",
   "metadata": {},
   "outputs": [],
   "source": [
    "#Plot rephasing\n",
    "plot_2des(tdes_r_ft,w1r,w3r,omega_c,Omega) "
   ]
  },
  {
   "cell_type": "code",
   "execution_count": null,
   "id": "elder-people",
   "metadata": {},
   "outputs": [],
   "source": [
    "#Plot non-rephasing \n",
    "plot_2des(tdes_nr_ft,w1nr,w3nr,omega_c,Omega) "
   ]
  },
  {
   "cell_type": "markdown",
   "id": "sitting-albania",
   "metadata": {},
   "source": [
    "Finally, we can plot the absorptive spectrum, the sum of the rephasing and non-rephasing signals. Since the <code>plot_2des</code> only plots the real part of the signal, we do not need to specify this in the sum."
   ]
  },
  {
   "cell_type": "code",
   "execution_count": null,
   "id": "conventional-spencer",
   "metadata": {
    "scrolled": false
   },
   "outputs": [],
   "source": [
    "#Sum the rephasing and nonrephasing signals\n",
    "tdes_abs_ft = tdes_r_ft + tdes_nr_ft\n",
    "#Plot the real part of the absorptive signal\n",
    "plot_2des(tdes_abs_ft,w1r,w3r,omega_c,Omega)"
   ]
  },
  {
   "cell_type": "markdown",
   "id": "brown-school",
   "metadata": {},
   "source": [
    "In the above, we observe ground state bleaching and stimulated emission signals on the diagonal peaks and lower right cross peak, and an excited state absorption on the upper left cross peak."
   ]
  },
  {
   "cell_type": "markdown",
   "id": "03ab7b6e",
   "metadata": {},
   "source": [
    "<div class=\"alert alert-block alert-warning\">\n",
    "What extra information do we get in the 2DES signal, compared to the transient absorption signal?\n",
    "</div>"
   ]
  },
  {
   "cell_type": "markdown",
   "id": "inclusive-photographer",
   "metadata": {},
   "source": [
    "<div class=\"alert alert-block alert-info\">\n",
    "4.1) Plot how the absorptive spectrum changes as a function of the population time, by passing an integer parameter to the optional <code>t2_ind</code> argument of <code>plot_2des</code>. This will range from 0 to 9 as we defined our delay time array to have 10 points, and python indexing starts from 0.\n",
    "    \n",
    "We should also pass a numerical value to the optional <code>vmax</code> argument to set the colorbar scale to be the same on every plot e.g. <code>plot_2d_absorptive(tdes_r_ft,tdes_nr_ft,w3r,w1r,omega_c,Omega,t2_ind=1,vmax=30)</code>\n",
    "    \n",
    "What happens to the intensity of the diagonal peaks as a function of time?\n",
    "    \n",
    "    \n",
    "4.2) Generate the rephasing, non-rephasing and absorptive spectra for <code>sqab2</code> and plot them. How is the absorptive spectrum different to that of <code>sqab1</code>?\n",
    "    \n",
    "</div>"
   ]
  },
  {
   "cell_type": "code",
   "execution_count": null,
   "id": "overhead-official",
   "metadata": {
    "scrolled": false
   },
   "outputs": [],
   "source": [
    "#Answer to Q4.1\n",
    "plot_2des(...)"
   ]
  },
  {
   "cell_type": "code",
   "execution_count": null,
   "id": "humanitarian-closer",
   "metadata": {},
   "outputs": [],
   "source": [
    "%%capture\n",
    "#Answer to Q4.2\n",
    "#Calculate the rephasing spectrum for sqab2\n",
    "tdes_r2 = ...\n",
    "#Obtain the coherence times for sqab2\n",
    "t1r2 = sqab2.all_pulse_delays[0].copy()\n",
    "#Obtain the detection frequencies for sqab2\n",
    "w3r2 = sqab2.w.copy()\n",
    "\n",
    "#Calculate the non-ephasing spectrum for sqab2\n",
    "tdes_nr2 = ...\n",
    "#Obtain the coherence times for sqab2\n",
    "t1nr2 = sqab2.all_pulse_delays[0].copy()\n",
    "#Obtain the detection frequencies for sqab2\n",
    "w3nr2 = sqab2.w.copy()"
   ]
  },
  {
   "cell_type": "code",
   "execution_count": null,
   "id": "enabling-cisco",
   "metadata": {},
   "outputs": [],
   "source": [
    "#Answer to Q4.2 cont...\n",
    "#Calculate the Fourier transformations for the rephasing and non-rephasing signals\n",
    "w1r2, tdes_r_ft2 = ...\n",
    "w1nr2, tdes_nr_ft2 = ..."
   ]
  },
  {
   "cell_type": "code",
   "execution_count": null,
   "id": "processed-bracelet",
   "metadata": {},
   "outputs": [],
   "source": [
    "#Answer to Q4.2 cont..\n",
    "#Plot rephasing\n",
    "plot_2des(tdes_r_ft2,w1r2,w3r2,omega_c,Omega) "
   ]
  },
  {
   "cell_type": "code",
   "execution_count": null,
   "id": "fatty-ordinance",
   "metadata": {
    "scrolled": false
   },
   "outputs": [],
   "source": [
    "#Answer to Q4.2 cont..\n",
    "#Plot nonrephasing\n",
    "plot_2des(tdes_nr_ft2,w1nr2,w3nr2,omega_c,Omega) "
   ]
  },
  {
   "cell_type": "code",
   "execution_count": null,
   "id": "altered-motorcycle",
   "metadata": {},
   "outputs": [],
   "source": [
    "#Answer to Q4.2 cont..\n",
    "#Sum the rephasing and nonrephasing signals\n",
    "tdes_abs_ft2 = ...\n",
    "#Plot the real part of the absorptive signal\n",
    "plot_2des(tdes_abs_ft2,w1r2,w3r2,omega_c,Omega)"
   ]
  },
  {
   "cell_type": "markdown",
   "id": "horizontal-federation",
   "metadata": {},
   "source": [
    "***\n",
    "### 4.2 Peak Monitoring\n",
    "\n",
    "As well as visually observing the changes in intensity, we can plot these intensity changes as a function of time. Below the the diagonal and lower right cross peak at $f_1 = 13533$ and $f_2 = 14800$ cm$^{-1}$ are highlighted."
   ]
  },
  {
   "cell_type": "code",
   "execution_count": null,
   "id": "clear-compromise",
   "metadata": {},
   "outputs": [],
   "source": [
    "#Replot the absorptive spectrum for SQAB1\n",
    "plot_2des(tdes_abs_ft,w1r,w3r,omega_c,Omega)\n",
    "\n",
    "#Add coloured circles onto the figure in the location of the diagonal peaks and lower right cross peak\n",
    "plt.plot(f1*Omega,f1*Omega,'o',markersize=10,mfc='None',color='violet',markeredgewidth=2)\n",
    "plt.plot(f2*Omega,f2*Omega,'o',markersize=10,mfc='None',color='darkorange',markeredgewidth=2)\n",
    "plt.plot(f2*Omega,f1*Omega,'o',markersize=10,mfc='None',color='cyan',markeredgewidth=2)\n",
    "plt.tight_layout()"
   ]
  },
  {
   "cell_type": "markdown",
   "id": "premier-institution",
   "metadata": {},
   "source": [
    "Now, let us extract the intensities. Similar to the case for transient absorption, we need to calculate the indices in the signal array that $f_1$ and $f_2$ will correspond to. These indices are the same as in the $\\omega_1$ and $\\omega_3$ arrays."
   ]
  },
  {
   "cell_type": "code",
   "execution_count": null,
   "id": "prostate-supervisor",
   "metadata": {},
   "outputs": [],
   "source": [
    "indf1w1 = np.argmin(np.abs(w1r+omega_c-f1))\n",
    "indf1w3 = np.argmin(np.abs(w3r+omega_c-f1))\n",
    "indf2w1 = np.argmin(np.abs(w1r+omega_c-f2))\n",
    "indf2w3 = np.argmin(np.abs(w3r+omega_c-f2))\n"
   ]
  },
  {
   "cell_type": "markdown",
   "id": "motivated-walker",
   "metadata": {},
   "source": [
    "Now, we can extract the intensities of these peaks from the <code>tdes_abs_ft</code> array and plot them"
   ]
  },
  {
   "cell_type": "code",
   "execution_count": null,
   "id": "included-blackberry",
   "metadata": {
    "scrolled": false
   },
   "outputs": [],
   "source": [
    "plt.figure()\n",
    "plt.plot(t2_fs,np.real(tdes_abs_ft[indf1w1,:,indf1w3]),color='violet')\n",
    "plt.plot(t2_fs,np.real(tdes_abs_ft[indf2w1,:,indf2w3]),color='darkorange')\n",
    "plt.plot(t2_fs,np.real(tdes_abs_ft[indf2w1,:,indf1w3]),color='cyan')\n",
    "plt.legend(['DP1','DP2','CP21'],loc=(0.8,0.6))\n",
    "plt.xlabel('Population Time (fs)',fontsize=14)\n",
    "plt.ylabel('Peak Amplitude',fontsize=14)\n",
    "plt.tight_layout()"
   ]
  },
  {
   "cell_type": "markdown",
   "id": "similar-haiti",
   "metadata": {},
   "source": [
    "We observe a decrease in intensity of diagonal peak 2 (DP2) and a marginal average increase in the lower right cross peak (CP21) as we have energy transfer from the higher energy state to the lower one. We can also notice again some oscillations due to coherences."
   ]
  },
  {
   "cell_type": "markdown",
   "id": "major-olive",
   "metadata": {},
   "source": [
    "<div class=\"alert alert-block alert-info\">\n",
    "    4.3) Extract the intensities of the diagonal and cross peaks from your <code>sqab2</code> absorptive 2D spectrum.\n",
    "    \n",
    "</div>"
   ]
  },
  {
   "cell_type": "code",
   "execution_count": null,
   "id": "racial-physics",
   "metadata": {},
   "outputs": [],
   "source": [
    "#Answer to Q4.3\n",
    "#Obtain the indices from the w1 and w3 arrays\n",
    "indf3w1 = ...\n",
    "indf3w3 = ...\n",
    "indf4w1 = ...\n",
    "indf4w3 = ...\n",
    "\n",
    "#Generate the plot\n",
    "plt.figure()\n",
    "plt.plot(t2_fs,np.real(tdes_abs_ft2[indf3w1,:,indf3w3]),color='violet')\n",
    "plt.plot(t2_fs,np.real(tdes_abs_ft2[indf4w1,:,indf4w3]),color='darkorange')\n",
    "plt.plot(t2_fs,np.real(tdes_abs_ft2[indf4w1,:,indf3w3]),color='cyan')\n",
    "plt.legend(['DP1','DP2','CP21'],loc=(0.8,0.6))\n",
    "plt.xlabel('Population Time (fs)',fontsize=14)\n",
    "plt.ylabel('Peak Amplitude',fontsize=14)\n",
    "plt.tight_layout()"
   ]
  },
  {
   "cell_type": "markdown",
   "id": "secondary-watts",
   "metadata": {},
   "source": [
    "***\n",
    "### 4.3 Inhomogenous Broadening"
   ]
  },
  {
   "cell_type": "markdown",
   "id": "accepting-cooking",
   "metadata": {},
   "source": [
    "2DES can seperate homogeneous and inhomogeneous broadening. The width of the peak along the diagonal (from bottom left to top right) corresponds to inhomoegenous broadening, whilst the width of the peak along the anti-diagonal (from bottom right to top left) corresponds to homogeneous broadening.\n",
    "\n",
    "<center><img src=\"Figs/hom_inhom_2d.png\" width=\"500px\"/></center>\n",
    "\n",
    "\n",
    "Let us observe the effect of inhomogenous broadening on our spectra. Similarly to the linear absorption case, we can utilise the <code>inhomogeneous_broadening</code> routine previously defined, passing it the functions to calculate the 2D spectra, as well as the <code>sqab_inhom</code> list, <code>weights</code> array, carrier frequency for excitation <code>omega_c</code>, and the remaining parameters <code>sigma</code> and a list of population times $t_2$. For the latter, we will redefine the $t_2$ array and only include $t_2 = 0$, as <b><font color='red'>this calculation will take a few minutes to run.</font></b>  "
   ]
  },
  {
   "cell_type": "code",
   "execution_count": null,
   "id": "subtle-sampling",
   "metadata": {},
   "outputs": [],
   "source": [
    "%%capture\n",
    "#Redefine population time array to only have t2=0\n",
    "t2 = np.array([0])\n",
    "\n",
    "#Compute the broadened rephasing signal\n",
    "tdes_r_broadened = inhomogeneous_broadening(calculate_2DES_r,sqab1_inhom,weights,omega_c,\n",
    "                                            sigma=sigma,delay_times=t2)\n",
    "#Get the t1 times and w3 frequency arrays from the first sqab_inhom object\n",
    "t1r_b = sqab1_inhom[0].all_pulse_delays[0].copy()\n",
    "w3r_b = sqab1_inhom[0].w.copy()\n",
    "\n",
    "#Compute the broadened nonrephasing signal\n",
    "tdes_nr_broadened = inhomogeneous_broadening(calculate_2DES_nr,sqab1_inhom,weights,omega_c,\n",
    "                                             sigma=sigma,delay_times=t2)\n",
    "#Get the t1 times and w3 frequency arrays from the first sqab_inhom object\n",
    "t1nr_b = sqab1_inhom[0].all_pulse_delays[0].copy()\n",
    "w3nr_b = sqab1_inhom[0].w.copy()"
   ]
  },
  {
   "cell_type": "markdown",
   "id": "vocal-radius",
   "metadata": {},
   "source": [
    "Once more we have the signals as a function of $t_1$, $t_2$, and $\\omega_3$, so we must Fourier transform over the coherence times $t_1$"
   ]
  },
  {
   "cell_type": "code",
   "execution_count": null,
   "id": "sticky-herald",
   "metadata": {},
   "outputs": [],
   "source": [
    "#Fourier transform rephasing t1 and signal\n",
    "w1r_b, tdes_r_b_ft = ft_rephasing(tdes_r_broadened,t1r_b) \n",
    "\n",
    "#Fourier transform nonephasing t1 and signal\n",
    "w1nr_b, tdes_nr_b_ft = ft_nonrephasing(tdes_nr_broadened,t1nr_b) "
   ]
  },
  {
   "cell_type": "markdown",
   "id": "defined-connectivity",
   "metadata": {},
   "source": [
    "Finally, we plot the spectra"
   ]
  },
  {
   "cell_type": "code",
   "execution_count": null,
   "id": "common-glass",
   "metadata": {},
   "outputs": [],
   "source": [
    "#Rephasing\n",
    "plot_2des(tdes_r_b_ft,w1r_b,w3r_b,omega_c,Omega) "
   ]
  },
  {
   "cell_type": "code",
   "execution_count": null,
   "id": "comprehensive-willow",
   "metadata": {
    "scrolled": false
   },
   "outputs": [],
   "source": [
    "#Non-rephasing\n",
    "plot_2des(tdes_nr_b_ft,w1nr_b,w3nr_b,omega_c,Omega) "
   ]
  },
  {
   "cell_type": "markdown",
   "id": "bulgarian-plenty",
   "metadata": {},
   "source": [
    "And compute the absorptive spectra as the sum of rephasing and non-rephaing and plot. Notice how the peaks are elongated along the diagonal compared to previous, due to the inhomogenous broadening."
   ]
  },
  {
   "cell_type": "code",
   "execution_count": null,
   "id": "south-matthew",
   "metadata": {
    "scrolled": false
   },
   "outputs": [],
   "source": [
    "#Absorptive\n",
    "tdes_abs_b_ft = tdes_nr_b_ft + tdes_r_b_ft\n",
    "plot_2des(tdes_abs_b_ft,w1r_b,w3r_b,omega_c,Omega)"
   ]
  },
  {
   "cell_type": "markdown",
   "id": "noticed-given",
   "metadata": {},
   "source": [
    "<div class=\"alert alert-block alert-info\">\n",
    "    4.4) Compute the inhomogenously broadened spectra for <code>sqab2</code>.\n",
    "</div>"
   ]
  },
  {
   "cell_type": "code",
   "execution_count": null,
   "id": "hollywood-devices",
   "metadata": {},
   "outputs": [],
   "source": [
    "%%capture\n",
    "#Answer to Q4.4\n",
    "#Compute the broadened rephasing signal\n",
    "tdes_r_broadened2 = ...\n",
    "#Get the t1 times and w3 frequency arrays\n",
    "t1r_b2 = sqab2_inhom[0].all_pulse_delays[0].copy()\n",
    "w3r_b2 = sqab2_inhom[0].w.copy()\n",
    "\n",
    "#Compute the broadened nonrephasing signal\n",
    "tdes_nr_broadened2 = ...\n",
    "\n",
    "#Get the t1 times and w3 frequency arrays\n",
    "t1nr_b2 = sqab2_inhom[0].all_pulse_delays[0].copy()\n",
    "w3nr_b2 = sqab2_inhom[0].w.copy()"
   ]
  },
  {
   "cell_type": "code",
   "execution_count": null,
   "id": "scientific-morris",
   "metadata": {},
   "outputs": [],
   "source": [
    "#Answer to Q4.4 cont...\n",
    "#Fourier transform rephasing t1 and signal\n",
    "w1r_b2, tdes_r_b_ft2 = ...\n",
    "\n",
    "#Fourier transform nonephasing t1 and signal\n",
    "w1nr_b2, tdes_nr_b_ft2 = ..."
   ]
  },
  {
   "cell_type": "code",
   "execution_count": null,
   "id": "geographic-driving",
   "metadata": {},
   "outputs": [],
   "source": [
    "#Answer to Q4.4 cont...\n",
    "#Plot the rephasing spectrum\n",
    "plot_2des(tdes_r_b_ft2,w1r_b2,w3r_b2,omega_c,Omega) "
   ]
  },
  {
   "cell_type": "code",
   "execution_count": null,
   "id": "blank-delhi",
   "metadata": {},
   "outputs": [],
   "source": [
    "#Answer to Q4.4 cont...\n",
    "#Plot the non-rephasing spectrum\n",
    "plot_2des(tdes_nr_b_ft2,w1nr_b2,w3nr_b2,omega_c,Omega) "
   ]
  },
  {
   "cell_type": "code",
   "execution_count": null,
   "id": "correct-tucson",
   "metadata": {},
   "outputs": [],
   "source": [
    "#Answer to Q4.4 cont...\n",
    "#Calculate and plot the absorptive spectrum\n",
    "tdes_abs_b_ft2 = ...\n",
    "plot_2des(tdes_abs_b_ft2,w1r_b2,w3r_b2,omega_c,Omega)"
   ]
  },
  {
   "cell_type": "markdown",
   "id": "fuzzy-russell",
   "metadata": {},
   "source": [
    "***\n",
    "## 5 Feynman Diagrams\n",
    "\n",
    "Non-linear spectral signals typically consist of contributions from different sources, such as ground state bleaching (GSB), stimulated emission (SE) and excited state absorption (ESA). As illustrated in the previous section, all of these features can appear in a 2D electronic spectrum. These photochemical pathways can be illustrated through the use of double sided Feynman Diagrams, which illustrate the influence of the laser pulses on the denisty matrix $\\rho = | \\Psi \\rangle \\langle \\Psi |$ of the system. They have the following properties:\n",
    "\n",
    "1. They consist of a pair of parallel vertical lines, with the left hand line representing the ket of the system and the right hand line representing the bra of the system. \n",
    "2. Time evolution proceeds upwards, and interactions with the elecric field of the laser are represented by straight arrows. \n",
    "3. Straight arrows pointing towards the bra or ket lines represent an excitation (and so increase the quantum number by 1), straight arrows pointing away from the bra or ket lines represent a de-excitation (and so decrease the quantum number by 1). \n",
    "4. If the arrow points to the right, it represents an electric field with $+k$ wavevector, and if it points to the left it represents an electric field with $-k$ wavevector.\n",
    "5. The final arrow represents emission of the polarization signal by the system and is typically shown with a different style of arrow (dashed or curved), and by convention is emitted from the ket side. It must also end in a population state (i.e. diagonal element of the density matrix).\n",
    " \n",
    "Example Feynman diagrams for GSB, SE and ESA are shown below. The incident wavevectors sum to $-k_1+k_2+k_3$ hence they correspond to the rephasing direction, and the polarization signal emitted is $k_{\\text{sig}}=k_r$. \n",
    "\n",
    "<center><img src=\"Figs/feynman.png\"/></center>\n",
    "\n",
    "\n",
    "In the following section, we will first generate these Feynman diagrams programatically, and then use them to seperate components of the <code>sqab1</code> 2D spectral signal. The questions will only involve the <code>sqab1</code> object, to save repetition, however you are welcome to do so also with your <code>sqab2</code> object.\n",
    "\n",
    "***\n",
    "### 5.1 Generating Feynman Diagrams\n",
    "\n",
    "UFSS contains a class that can generate Feynman diagrams for specific phase matching conditions and pulse delays, and calculate the spectra using these diagrams. In the following, we will use these to seperate the GSB, SE and ESA components of the 2DES signal.\n",
    "\n",
    "First let us create an instance of the <code>ufss.DiagramGenerator</code> class, and then call it to make an object with which we will calculate the Feynman diagrams for the rephasing signal."
   ]
  },
  {
   "cell_type": "code",
   "execution_count": null,
   "id": "informed-shell",
   "metadata": {},
   "outputs": [],
   "source": [
    "#Make an instance of the diagram generator class\n",
    "DG = ufss.DiagramGenerator\n",
    "\n",
    "#Call DG and make an object to compute the Feynman diagrams for the rephasing signal\n",
    "tdes_dg_r = DG()"
   ]
  },
  {
   "cell_type": "markdown",
   "id": "still-romance",
   "metadata": {},
   "source": [
    "Now, let us set the phase matching condition to be that of the rephasing signal, i.e. $k_r = -k_1+k_2+k_3$\n"
   ]
  },
  {
   "cell_type": "code",
   "execution_count": null,
   "id": "premium-receipt",
   "metadata": {
    "scrolled": true
   },
   "outputs": [],
   "source": [
    "tdes_dg_r.set_phase_discrimination(['-','+','+'])"
   ]
  },
  {
   "cell_type": "markdown",
   "id": "bound-outside",
   "metadata": {},
   "source": [
    "For the diagram generator, we need to pass a list of durations for the electric fields. If we use Gaussian pulses with standard deviation $\\sigma$ as previously in the exercise, then the electric fields will have approximately decayed by 5$\\sigma$. So we define the duration of the 3 pulses and the local oscillator as:"
   ]
  },
  {
   "cell_type": "code",
   "execution_count": null,
   "id": "english-article",
   "metadata": {},
   "outputs": [],
   "source": [
    "t1 = np.array([-5*sigma,5*sigma])\n",
    "t2 = np.array([-5*sigma,5*sigma])\n",
    "t3 = np.array([-5*sigma,5*sigma])\n",
    "tlo = np.array([-5*sigma,5*sigma])\n",
    "all_pulse_intervals = [t1,t2,t3,tlo]"
   ]
  },
  {
   "cell_type": "markdown",
   "id": "documentary-teens",
   "metadata": {},
   "source": [
    "We then set the <code>efield_times</code> attribute of the <code>tdes_dg_r</code> object equal to this:"
   ]
  },
  {
   "cell_type": "code",
   "execution_count": null,
   "id": "uniform-damages",
   "metadata": {},
   "outputs": [],
   "source": [
    "tdes_dg_r.efield_times = all_pulse_intervals"
   ]
  },
  {
   "cell_type": "markdown",
   "id": "hawaiian-texas",
   "metadata": {},
   "source": [
    "Next, we need to define when these pulses will arrive. To ensure that we have proper time ordering (i.e. pulse 3 arrives when pulse 2 has completely decayed, and pulse 2 arrives when pulse 1 has completely decayed) we will define arrival times seperated by 100 $\\omega_0^{-1}$, which much greater than 5$\\sigma \\sim 6 \\omega_0^{-1}$. We also need to define an arrival time for the local oscillator. However this time is irrelevant for the functioning of the code, and can be defined to arrive at the same time as pulse 3."
   ]
  },
  {
   "cell_type": "code",
   "execution_count": null,
   "id": "structural-vector",
   "metadata": {},
   "outputs": [],
   "source": [
    "arrival_times = [0,100,200,200] "
   ]
  },
  {
   "cell_type": "markdown",
   "id": "stupid-rover",
   "metadata": {},
   "source": [
    "Now, we can generate the set of Feynman diagrams associated with the rephasing phase matching condition and time-ordering of the pulses with the <code>get_diagrams</code> method. \n",
    "\n"
   ]
  },
  {
   "cell_type": "code",
   "execution_count": null,
   "id": "known-finland",
   "metadata": {},
   "outputs": [],
   "source": [
    "time_ordered_diagrams_r = tdes_dg_r.get_diagrams(arrival_times)"
   ]
  },
  {
   "cell_type": "markdown",
   "id": "intended-union",
   "metadata": {},
   "source": [
    "Finally, we can visualise/print the diagrams.\n",
    "\n",
    "<b><font color='red'>Note</font></b>  the resulting diagrams can only be visualised if you have a TeX distribution installed. This is accomplished with the <code>display_diagrams</code> routine. UFSS prints only the interaction with the laser fields, and not the emitted signal, with $k_1$, $k_2$ and $k_3$ denoted as a, b and c, respectively.\n",
    "\n",
    "However, if you did not install the TeX distribution you can print the diagrams in a textual format, and the corresponding images may be found in the folder \"Feynman_rephasing_time_ordered\". For the remainer of the practical, it may be helful to draw the diagrams corresponding to the textual output. The numbers 0, 1 and 2 correspond to the first, second and third pulse. \"Ku\" and \"Bu\" correspond to arrows pointing towards the ket and bra sides, respectively (\"u\" signifying we are moving up the density matrix by one quantum), \"Kd\" and \"Bd\" correspond to arrows moving away from the ket and bra sides, respectively (\"d\" signifying we are moving down the density matrix by one quantum). "
   ]
  },
  {
   "cell_type": "code",
   "execution_count": null,
   "id": "small-kennedy",
   "metadata": {
    "scrolled": false
   },
   "outputs": [],
   "source": [
    "#If you do not have TeX installed use these lines to print the diagrams in words\n",
    "#The images can be viewed in the folder \"Feynman_rephasing_time_ordered\"\n",
    "print(time_ordered_diagrams_r[0])\n",
    "print(time_ordered_diagrams_r[1])\n",
    "print(time_ordered_diagrams_r[2])\n",
    "#If you have TeX installed, use this line to visualise\n",
    "tdes_dg_r.display_diagrams(time_ordered_diagrams_r)"
   ]
  },
  {
   "cell_type": "markdown",
   "id": "preliminary-detail",
   "metadata": {},
   "source": [
    "<div class=\"alert alert-block alert-info\">\n",
    "5.1) Assign the diagrams saved in the <code>time_ordered_diagrams_r</code> array as either GSB, SE or ESA.\n",
    "    \n",
    "5.2) Generate the Feynman diagrams for the non-rephasing signal and assign them.\n",
    "</div>"
   ]
  },
  {
   "cell_type": "code",
   "execution_count": null,
   "id": "hearing-belfast",
   "metadata": {},
   "outputs": [],
   "source": [
    "#Answer to 5.2)\n",
    "#Call DG() and make an object to compute the Feynman diagrams for the non-rephasing signal\n",
    "tdes_dg_nr = DG()\n",
    "#Set the phase descrimination condition for our newly created object\n",
    "tdes_dg_nr.set_phase_discrimination(...)\n",
    "#Set the efield_times attribute\n",
    "tdes_dg_nr.efield_times = ...\n",
    "#Use the get_diagrams method to generate the Feynman diagrams\n",
    "time_ordered_diagrams_nr = ...\n",
    "#If you have a TeX distribution installed, use the display_diagrams method. Otherwise, print the digrams as text.\n",
    "tdes_dg_nr.display_diagrams(time_ordered_diagrams_nr)\n",
    "print(time_ordered_diagrams_nr[0])\n",
    "print(time_ordered_diagrams_nr[1])\n",
    "print(time_ordered_diagrams_nr[2])"
   ]
  },
  {
   "cell_type": "markdown",
   "id": "known-vacuum",
   "metadata": {},
   "source": [
    "***\n",
    "### 5.2 Assigning Feynman Diagrams\n",
    "\n",
    "As well as assigning the diagrams by hand, it is possible to do so programmatically. To do so, we make use of the <code>filter_diagrams_by_excitation_manifold</code> method. This seperates the diagrams by the maximum number of quanta in the bra and ket sides after the interaction with the third pulse. With 0 quanta in the bra and ket sides after interaction with the third pulse, we have the ground state manifold with the GSB diagram. With a maximum of 1 quantum in the bra and ket sides, we have the singly excited manifold with the SE and ESA diagrams."
   ]
  },
  {
   "cell_type": "code",
   "execution_count": null,
   "id": "neither-template",
   "metadata": {},
   "outputs": [],
   "source": [
    "#GSB diagram\n",
    "gsb_dg_r = tdes_dg_r.filter_diagrams_by_excitation_manifold(time_ordered_diagrams_r,manifold=0)\n",
    "#SE and ESA diagrams\n",
    "se_esa_dg_r = tdes_dg_r.filter_diagrams_by_excitation_manifold(time_ordered_diagrams_r,manifold=1)"
   ]
  },
  {
   "cell_type": "markdown",
   "id": "surrounded-yukon",
   "metadata": {},
   "source": [
    "Now let us seperate the SE and ESA diagrams. We can do this by filtering by the sign of the signal - i.e. negative for stimulated emission and positive for excited state absorption.\n",
    "\n",
    "As an aside, it is worthwhile to note that sometimes the opposite convention of signs is used, i.e. positive for GSB/SE and negative for ESA. This is because, from the theoretical standpoint, each Feynman diagram has a sign $(-1)^n$, where $n$ is the number of interactions from the right (bra side). GSB and SE both have two interactions from the right, and hence should be positive, whilst ESA has one and should be negative. However, as mentioned in the previous section, the convention that UFSS follows is that used in experiment - where the signal is to be interpreted as an intensity change relative to the ground state absorption before photoexcitation. Therefore, when seperating the diagrams, we follow this convention."
   ]
  },
  {
   "cell_type": "code",
   "execution_count": null,
   "id": "sixth-monthly",
   "metadata": {},
   "outputs": [],
   "source": [
    "#Define the sign of the SE signal as negative\n",
    "se_sign = -1\n",
    "#Extract only the SE Feynman diagram\n",
    "se_dg_r = tdes_dg_r.filter_diagrams_by_sign(se_esa_dg_r,sign=se_sign)\n",
    "\n",
    "#Define the ESA signal as positive\n",
    "esa_sign = 1\n",
    "#Extract only the ESA Feynman diagram\n",
    "esa_dg_r = tdes_dg_r.filter_diagrams_by_sign(se_esa_dg_r,sign=esa_sign)"
   ]
  },
  {
   "cell_type": "code",
   "execution_count": null,
   "id": "substantial-reservation",
   "metadata": {
    "scrolled": true
   },
   "outputs": [],
   "source": [
    "#Print and display the SE diagram\n",
    "print(se_dg_r)\n",
    "tdes_dg_r.display_diagrams(se_dg_r)"
   ]
  },
  {
   "cell_type": "code",
   "execution_count": null,
   "id": "charming-fault",
   "metadata": {},
   "outputs": [],
   "source": [
    "#Print and display the ESA diagram\n",
    "print(esa_dg_r)\n",
    "tdes_dg_r.display_diagrams(esa_dg_r)"
   ]
  },
  {
   "cell_type": "markdown",
   "id": "accepted-metallic",
   "metadata": {},
   "source": [
    "<div class=\"alert alert-block alert-info\">\n",
    "5.3) Programatically seperate the non-rephasing Feynman diagrams into GSB, SE and ESA components.\n",
    "</div>"
   ]
  },
  {
   "cell_type": "code",
   "execution_count": null,
   "id": "regional-nightlife",
   "metadata": {},
   "outputs": [],
   "source": [
    "#Answer to Q5.3\n",
    "#GSB nonrephasing diagram\n",
    "gsb_dg_nr = ...\n",
    "#SE and ESA non rephasing diagrams\n",
    "se_esa_dg_nr = ...\n",
    "\n",
    "#Extract only the SE Feynman diagram\n",
    "se_dg_nr = ...\n",
    "\n",
    "#Extract only the ESA Feynman diagram\n",
    "esa_dg_nr = ...\n",
    "\n",
    "#Print and display the SE diagram\n",
    "print(se_dg_nr)\n",
    "tdes_dg_nr.display_diagrams(se_dg_nr)\n",
    "\n",
    "#Print and display the ESA diagram\n",
    "print(esa_dg_nr)\n",
    "tdes_dg_nr.display_diagrams(esa_dg_nr)"
   ]
  },
  {
   "cell_type": "markdown",
   "id": "interesting-victor",
   "metadata": {},
   "source": [
    "***\n",
    "### 5.3 Separating spectral components by diagram\n",
    "\n",
    "Now that we have generated Feynman diagrams and separated them into GSB, SE and ESA, we can use these separated diagrams to generate 2D electronic spectra with only these components in. To do this, we will pass the diagrams to the optional <code>dgs</code> parameter in our previously defined <code>calculate_2DES_r</code> function."
   ]
  },
  {
   "cell_type": "code",
   "execution_count": null,
   "id": "optional-porter",
   "metadata": {},
   "outputs": [],
   "source": [
    "#Redefine the t2 array. We will just simulate no delay, i.e. t2=0\n",
    "t2 = np.array([0])"
   ]
  },
  {
   "cell_type": "code",
   "execution_count": null,
   "id": "republican-training",
   "metadata": {},
   "outputs": [],
   "source": [
    "%%capture\n",
    "#Calculate the GSB for the rephasing spectrum by passing the GSB diagram\n",
    "tdes_r_gsb = calculate_2DES_r(sqab1,sigma,omega_c,delay_times=t2,dgs=gsb_dg_r)\n",
    "#Obtain the coherence times t1\n",
    "t1r_gsb = sqab1.all_pulse_delays[0].copy()\n",
    "#Obtain the detection frequencies w3\n",
    "w3r_gsb = sqab1.w.copy()\n",
    "\n",
    "#Fourier transform over t1 to get w1\n",
    "w1r_gsb, tdes_r_ft_gsb = ft_rephasing(tdes_r_gsb,t1r_gsb) "
   ]
  },
  {
   "cell_type": "code",
   "execution_count": null,
   "id": "realistic-courtesy",
   "metadata": {
    "scrolled": false
   },
   "outputs": [],
   "source": [
    "#Plot spectrum\n",
    "plot_2des(tdes_r_ft_gsb,w1r_gsb,w3r_gsb,omega_c,Omega) "
   ]
  },
  {
   "cell_type": "markdown",
   "id": "greater-fancy",
   "metadata": {},
   "source": [
    "<div class=\"alert alert-block alert-info\">\n",
    "5.4) Calculate the SE and ESA components of the rephasing spectrum.\n",
    "    \n",
    "    \n",
    "5.5) Calculate the GSB, SE and ESA components of the non-rephasing spectrum.\n",
    "    \n",
    "    \n",
    "5.6) Calculate the GSB, SE and ESA components of the absorptive spectrum.\n",
    "</div>"
   ]
  },
  {
   "cell_type": "code",
   "execution_count": null,
   "id": "adolescent-heath",
   "metadata": {},
   "outputs": [],
   "source": [
    "%%capture\n",
    "#Answer 5.4 (i) Calculate the SE for the rephasing spectrum \n",
    "tdes_r_se = ...\n",
    "#Obtain the coherence times t1\n",
    "t1r_se = ...\n",
    "#Obtain the detection frequencies w3\n",
    "w3r_se = ...\n",
    "\n",
    "#Fourier transform over t1 to get w1\n",
    "w1r_se, tdes_r_ft_se = ..."
   ]
  },
  {
   "cell_type": "code",
   "execution_count": null,
   "id": "casual-stephen",
   "metadata": {},
   "outputs": [],
   "source": [
    "#Answer 5.4(i) Plot spectrum\n",
    "plot_2des(tdes_r_ft_se,w1r_se,w3r_se,omega_c,Omega) "
   ]
  },
  {
   "cell_type": "code",
   "execution_count": null,
   "id": "willing-bathroom",
   "metadata": {},
   "outputs": [],
   "source": [
    "%%capture\n",
    "#Answer 5.4(ii) Calculate the ESA for the rephasing spectrum \n",
    "tdes_r_esa =...\n",
    "#Obtain the coherence times t1\n",
    "t1r_esa = ...\n",
    "#Obtain the detection frequencies w3\n",
    "w3r_esa = ...\n",
    "\n",
    "#Fourier transform over t1 to get w1\n",
    "w1r_esa, tdes_r_ft_esa = ..."
   ]
  },
  {
   "cell_type": "code",
   "execution_count": null,
   "id": "quick-player",
   "metadata": {},
   "outputs": [],
   "source": [
    "#Answer 5.4(ii) Plot spectrum\n",
    "plot_2des(tdes_r_ft_esa,w1r_esa,w3r_esa,omega_c,Omega) "
   ]
  },
  {
   "cell_type": "code",
   "execution_count": null,
   "id": "proved-panel",
   "metadata": {},
   "outputs": [],
   "source": [
    "%%capture\n",
    "#Answer 5.5(i) Calculate the GSB for the non-rephasing spectrum \n",
    "tdes_nr_gsb = ...\n",
    "#Obtain the coherence times t1\n",
    "t1nr_gsb = ...\n",
    "#Obtain the detection frequencies w3\n",
    "w3nr_gsb = ...\n",
    "\n",
    "#Fourier transform over t1 to get w1\n",
    "w1nr_gsb, tdes_nr_ft_gsb = ..."
   ]
  },
  {
   "cell_type": "code",
   "execution_count": null,
   "id": "previous-edinburgh",
   "metadata": {
    "scrolled": false
   },
   "outputs": [],
   "source": [
    "#Answer 5.5(i) Plot spectrum\n",
    "plot_2des(tdes_nr_ft_gsb,w1nr_gsb,w3nr_gsb,omega_c,Omega) "
   ]
  },
  {
   "cell_type": "code",
   "execution_count": null,
   "id": "overhead-october",
   "metadata": {},
   "outputs": [],
   "source": [
    "%%capture\n",
    "#Answer 5.5(ii) Calculate the SE for the non-rephasing spectrum \n",
    "tdes_nr_se = ...\n",
    "#Obtain the coherence times t1\n",
    "t1nr_se = ...\n",
    "#Obtain the detection frequencies w3\n",
    "w3nr_se = ...\n",
    "\n",
    "#Fourier transform over t1 to get w1\n",
    "w1nr_se, tdes_nr_ft_se = ..."
   ]
  },
  {
   "cell_type": "code",
   "execution_count": null,
   "id": "round-influence",
   "metadata": {},
   "outputs": [],
   "source": [
    "#Answer 5.5(ii) Plot spectrum\n",
    "plot_2des(tdes_nr_ft_se,w1nr_se,w3nr_se,omega_c,Omega) "
   ]
  },
  {
   "cell_type": "code",
   "execution_count": null,
   "id": "athletic-intention",
   "metadata": {},
   "outputs": [],
   "source": [
    "%%capture\n",
    "#Answer 5.5(iii) Calculate the ESA for the non-rephasing spectrum \n",
    "tdes_nr_esa = ...\n",
    "#Obtain the coherence times t1\n",
    "t1nr_esa = ...\n",
    "#Obtain the detection frequencies w3\n",
    "w3nr_esa = ...\n",
    "\n",
    "#Fourier transform over t1 to get w1\n",
    "w1nr_esa, tdes_nr_ft_esa = ..."
   ]
  },
  {
   "cell_type": "code",
   "execution_count": null,
   "id": "sorted-walter",
   "metadata": {},
   "outputs": [],
   "source": [
    "#Answer 5.5(iii) Plot spectrum\n",
    "plot_2des(tdes_nr_ft_esa,w1nr_esa,w3nr_esa,omega_c,Omega) "
   ]
  },
  {
   "cell_type": "code",
   "execution_count": null,
   "id": "intermediate-spirit",
   "metadata": {},
   "outputs": [],
   "source": [
    "#Answer 5.6(i)\n",
    "#Sum the rephasing and non-rephasing GSB signals\n",
    "tdes_abs_ft_gsb = ...\n",
    "#Plot the spectrum\n",
    "plot_2des(tdes_abs_ft_gsb,w1r_gsb,w3r_gsb,omega_c,Omega)"
   ]
  },
  {
   "cell_type": "code",
   "execution_count": null,
   "id": "searching-dream",
   "metadata": {
    "scrolled": false
   },
   "outputs": [],
   "source": [
    "#Answer 5.6(ii)\n",
    "#Sum the rephasing and non-rephasing SE signals\n",
    "tdes_abs_ft_se = ...\n",
    "#Plot the spectrum\n",
    "plot_2des(tdes_abs_ft_se,w1r_se,w3r_se,omega_c,Omega)"
   ]
  },
  {
   "cell_type": "code",
   "execution_count": null,
   "id": "square-melbourne",
   "metadata": {},
   "outputs": [],
   "source": [
    "#Answer 5.6(ii)\n",
    "#Sum the rephasing and non-rephasing ESA signals\n",
    "tdes_abs_ft_esa = ...\n",
    "#Plot the spectrum\n",
    "plot_2des(tdes_abs_ft_esa,w1r_esa,w3r_esa,omega_c,Omega)"
   ]
  },
  {
   "cell_type": "markdown",
   "id": "demanding-jacob",
   "metadata": {},
   "source": [
    "***\n",
    "### 5.4 Time-Ordering\n",
    "\n",
    "One of the key approximations made in 2DES, both experimentally and theoretically, is that the laser pulses arrive in a time-ordered fashion - i.e. laser pulse 3 arrives after laser pulse 2, which arrives after laser pulse 1. However, if the pulses are not strictly ordered in time, we have the possibility of more Feynman diagrams contributing the the signal, as illustrated below."
   ]
  },
  {
   "cell_type": "code",
   "execution_count": null,
   "id": "recognized-discretion",
   "metadata": {
    "scrolled": true
   },
   "outputs": [],
   "source": [
    "#Arrival times where all three pulses overlap, given the pulse durations defined at the beginning of this section\n",
    "arrival_times_overlap = [0,1,2,2]\n",
    "#Compute Feynman diagrams and print the total number\n",
    "overlap_diagrams_r = tdes_dg_r.get_diagrams(arrival_times_overlap)\n",
    "print('When pulses overlap, there are ',len(overlap_diagrams_r),' diagrams in total')\n",
    "\n",
    "#Compare this to the time ordered case\n",
    "print('With time-ordering, there are ',len(time_ordered_diagrams_r),' diagrams in total')"
   ]
  },
  {
   "cell_type": "markdown",
   "id": "detected-queensland",
   "metadata": {},
   "source": [
    "Now, let us look at the effect on the spectrum if we do not take care of this time ordering of the pulses."
   ]
  },
  {
   "cell_type": "code",
   "execution_count": null,
   "id": "artificial-asbestos",
   "metadata": {},
   "outputs": [],
   "source": [
    "%%capture\n",
    "#Compute the rephasing signal with overlapping pulses\n",
    "tdes_r_overlap = calculate_2DES_r(sqab1,sigma,omega_c,delay_times=t2,dgs=overlap_diagrams_r)\n",
    "#Obtain the coherence times t1\n",
    "t1r_overlap = sqab1.all_pulse_delays[0].copy()\n",
    "#Obtain the detection frequencies w3\n",
    "w3r_overlap = sqab1.w.copy()\n",
    "\n",
    "#Fourier transform over t1 to get w1\n",
    "w1r_overlap, tdes_r_ft_overlap = ft_rephasing(tdes_r_overlap,t1r_overlap) "
   ]
  },
  {
   "cell_type": "code",
   "execution_count": null,
   "id": "amino-content",
   "metadata": {
    "scrolled": false
   },
   "outputs": [],
   "source": [
    "#Plot spectrum\n",
    "plot_2des(tdes_r_ft_overlap,w1r_overlap,w3r_overlap,omega_c,Omega) "
   ]
  },
  {
   "cell_type": "code",
   "execution_count": null,
   "id": "average-fever",
   "metadata": {},
   "outputs": [],
   "source": [
    "%%capture\n",
    "#Compute the rephasing signal with time-ordered pulses\n",
    "tdes_r_to = calculate_2DES_r(sqab1,sigma,omega_c,delay_times=t2,dgs=time_ordered_diagrams_r)\n",
    "#Obtain the coherence times t1\n",
    "t1r_to = sqab1.all_pulse_delays[0].copy()\n",
    "#Obtain the detection frequencies w3\n",
    "w3r_to = sqab1.w.copy()\n",
    "\n",
    "#Fourier transform over t1 to get w1\n",
    "w1r_to, tdes_r_ft_to = ft_rephasing(tdes_r_to,t1r_to) "
   ]
  },
  {
   "cell_type": "code",
   "execution_count": null,
   "id": "expired-ottawa",
   "metadata": {},
   "outputs": [],
   "source": [
    "#Plot spectrum\n",
    "plot_2des(tdes_r_ft_to,w1r_to,w3r_to,omega_c,Omega) "
   ]
  },
  {
   "cell_type": "markdown",
   "id": "appreciated-screening",
   "metadata": {},
   "source": [
    "<div class=\"alert alert-block alert-info\">\n",
    "5.7) Compute and compare the non-rephasing spectra with overlapping and time-ordered pulses\n",
    "    \n",
    "    \n",
    "5.8) Compute and compare the absorptive spectra with overlapping and time-ordered pulses\n",
    "    \n",
    "    \n",
    "5.9) Edit the <code>arrival_times_overlap</code> array with different numbers of overlapping pulses and recompute the spectra, observing the changes present and number of Feynman diagrams that contribute.\n",
    "</div>"
   ]
  },
  {
   "cell_type": "code",
   "execution_count": null,
   "id": "afraid-gates",
   "metadata": {},
   "outputs": [],
   "source": [
    "%%capture\n",
    "#Answer 5.7\n",
    "#First generate the Feynman diagrams for overlapping pulses with the get_diagrams method\n",
    "overlap_diagrams_nr = ...\n",
    "\n",
    "#Compute the nonrephasing signal with overlapping pulses\n",
    "tdes_nr_overlap = ...\n",
    "#Obtain the coherence times t1\n",
    "t1nr_overlap = ...\n",
    "#Obtain the detection frequencies w3\n",
    "w3nr_overlap = ...\n",
    "\n",
    "#Fourier transform over t1 to get w1\n",
    "w1nr_overlap, tdes_nr_ft_overlap = ..."
   ]
  },
  {
   "cell_type": "code",
   "execution_count": null,
   "id": "persistent-deadline",
   "metadata": {
    "scrolled": true
   },
   "outputs": [],
   "source": [
    "#Answer 5.7 Plot spectrum for overlapping pulses\n",
    "plot_2des(tdes_nr_ft_overlap,w1nr_overlap,w3nr_overlap,omega_c,Omega) "
   ]
  },
  {
   "cell_type": "code",
   "execution_count": null,
   "id": "middle-russell",
   "metadata": {},
   "outputs": [],
   "source": [
    "%%capture\n",
    "#Answer 5.7 compute the nonrephasing signal with time-ordered pulses\n",
    "tdes_nr_to = ...\n",
    "#Obtain the coherence times t1\n",
    "t1nr_to = ...\n",
    "#Obtain the detection frequencies w3\n",
    "w3nr_to = ...\n",
    "\n",
    "#Fourier transform over t1 to get w1\n",
    "w1nr_to, tdes_nr_ft_to = ..."
   ]
  },
  {
   "cell_type": "code",
   "execution_count": null,
   "id": "boxed-there",
   "metadata": {},
   "outputs": [],
   "source": [
    "#Answer 5.7 Plot spectrum for time-ordered pulses\n",
    "plot_2des(tdes_nr_ft_to,w1nr_to,w3nr_to,omega_c,Omega) "
   ]
  },
  {
   "cell_type": "code",
   "execution_count": null,
   "id": "genuine-sapphire",
   "metadata": {},
   "outputs": [],
   "source": [
    "#Answer 5.8\n",
    "#Sum the rephasing and non-rephasing spectra for overlapping pulses\n",
    "tdes_abs_ft_overlap = ...\n",
    "#Plot the spectrum\n",
    "plot_2des(tdes_abs_ft_overlap,w1r_overlap,w3r_overlap,omega_c,Omega)\n"
   ]
  },
  {
   "cell_type": "code",
   "execution_count": null,
   "id": "wrapped-correlation",
   "metadata": {},
   "outputs": [],
   "source": [
    "#Answer 5.8\n",
    "#Sum the rephasing and non-rephasing spectra for time-ordered pulses\n",
    "tdes_abs_ft_to = ...\n",
    "#Plot the spectrum\n",
    "plot_2des(tdes_abs_ft_to,w1r_to,w3r_to,omega_c,Omega)"
   ]
  },
  {
   "cell_type": "markdown",
   "id": "about-valuable",
   "metadata": {},
   "source": [
    "Conclusion: changes in the spectrum can be observed if the pulses are overlapping in time. By comparing these spectra with those computed in Section 4, we can also notice that the spectra in Section 4 included effects from overlapping pulses, due to the overlapping tails of the Gaussians."
   ]
  },
  {
   "cell_type": "markdown",
   "id": "dbcaf686",
   "metadata": {},
   "source": [
    "Congratulations on reaching the end of the workbook! Feel free to play around with the workbook further, for example changing the temperature, the parameters for the bath, simulating how the seperate GSB, SE and ESA components vary in time etc. You can also use this as a basis to create models for other molecular systems and seeing how their non-linear spectra look, or simulate other non-linear spectra!"
   ]
  },
  {
   "cell_type": "code",
   "execution_count": null,
   "id": "7bafeb41",
   "metadata": {},
   "outputs": [],
   "source": []
  }
 ],
 "metadata": {
  "kernelspec": {
   "display_name": "Python 3 (ipykernel)",
   "language": "python",
   "name": "python3"
  },
  "language_info": {
   "codemirror_mode": {
    "name": "ipython",
    "version": 3
   },
   "file_extension": ".py",
   "mimetype": "text/x-python",
   "name": "python",
   "nbconvert_exporter": "python",
   "pygments_lexer": "ipython3",
   "version": "3.7.12"
  }
 },
 "nbformat": 4,
 "nbformat_minor": 5
}
